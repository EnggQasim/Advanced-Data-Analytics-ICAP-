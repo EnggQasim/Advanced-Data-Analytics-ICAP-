{
 "cells": [
  {
   "cell_type": "code",
   "execution_count": 1,
   "metadata": {},
   "outputs": [
    {
     "data": {
      "text/plain": [
       "str"
      ]
     },
     "execution_count": 1,
     "metadata": {},
     "output_type": "execute_result"
    }
   ],
   "source": [
    "a = \"pakistan\"\n",
    "type(a)"
   ]
  },
  {
   "cell_type": "raw",
   "metadata": {},
   "source": [
    "fucntion \n",
    "    1. function decliration\n",
    "    2. function body\n",
    "    3. function calling"
   ]
  },
  {
   "cell_type": "code",
   "execution_count": null,
   "metadata": {},
   "outputs": [],
   "source": [
    "def fn_my_first_function(x,y):           # function dec\n",
    "    print(\"line2\",x)                     #function body with indended\n",
    "    print(\"Line\",y)                       # function\n",
    "    \n",
    "fn_my_first_function()                  #function calling"
   ]
  },
  {
   "cell_type": "code",
   "execution_count": null,
   "metadata": {},
   "outputs": [],
   "source": [
    "def abc(x,y,z,f):\n",
    "    print(\"a\")\n",
    "    print(\"b\")\n",
    "    print(\"c\")\n",
    "    print(x,y,z,f)\n",
    "    \n",
    "    \n",
    "abc(1,2,3,5)    "
   ]
  },
  {
   "cell_type": "code",
   "execution_count": 3,
   "metadata": {},
   "outputs": [
    {
     "name": "stdout",
     "output_type": "stream",
     "text": [
      "Boil  milk\n",
      "Patti teapak\n",
      "Chini suger\n",
      "Boil  milk\n",
      "Patti teapak\n",
      "Chini suger\n"
     ]
    }
   ],
   "source": [
    "def chai_banana(dodh, chini, patti):\n",
    "    print(\"Boil \", dodh)\n",
    "    print(\"Patti\",patti)\n",
    "    print(\"Chini\", chini)\n",
    "    \n",
    "chai_banana(\"milk\",\"suger\",\"teapak\")\n",
    "\n",
    "chai_banana(\"milk\",\"suger\",\"teapak\")"
   ]
  },
  {
   "cell_type": "code",
   "execution_count": 5,
   "metadata": {},
   "outputs": [
    {
     "name": "stdout",
     "output_type": "stream",
     "text": [
      "Chicken Wash\n",
      "Banaspati clean\n",
      "Banaspati Boil\n",
      "1KG drop on pain\n",
      "Chicken Bhonna\n",
      "Shaan 500 Gm mix\n",
      "take boil rice fold with Shaan 500 Gm\n"
     ]
    }
   ],
   "source": [
    "def biryani_banana(ghost,rice,masaly, tamato,oil):\n",
    "    print(ghost, \"Wash\")\n",
    "    print(rice, \"clean\")\n",
    "    print(rice, \"Boil\")\n",
    "    print(oil,\"drop on pain\")\n",
    "    print(ghost,\"Bhonna\")\n",
    "    print(masaly,tamato, \"mix\")\n",
    "    print(\"take boil rice fold with\",masaly,tamato)\n",
    "    \n",
    "biryani_banana(\"Chicken\",\"Banaspati\",\"Shaan\",\"500 Gm\",\"1KG\")    "
   ]
  },
  {
   "cell_type": "code",
   "execution_count": 6,
   "metadata": {},
   "outputs": [
    {
     "name": "stdout",
     "output_type": "stream",
     "text": [
      "maton Wash\n",
      "Banaspati clean\n",
      "Banaspati Boil\n",
      "1KG drop on pain\n",
      "maton Bhonna\n",
      "Shaan 500 Gm mix\n",
      "take boil rice fold with Shaan 500 Gm\n"
     ]
    }
   ],
   "source": [
    "biryani_banana(\"maton\",\"Banaspati\",\"Shaan\",\"500 Gm\",\"1KG\") "
   ]
  },
  {
   "cell_type": "code",
   "execution_count": 8,
   "metadata": {},
   "outputs": [
    {
     "name": "stdout",
     "output_type": "stream",
     "text": [
      "Chicken Wash\n",
      "Banaspati clean\n",
      "Banaspati Boil\n",
      "oil drop on pain\n",
      "Chicken Bhonna\n",
      "Shaan tamato mix\n",
      "take boil rice fold with Shaan tamato\n"
     ]
    }
   ],
   "source": [
    "def biryani_banana(ghost,rice,masaly, tamato,oil, patato=None):\n",
    "    print(ghost, \"Wash\")\n",
    "    print(rice, \"clean\")\n",
    "    print(rice, \"Boil\")\n",
    "    print(oil,\"drop on pain\")\n",
    "    print(ghost,\"Bhonna\")\n",
    "    if patato:\n",
    "        print(masaly,tamato,patato,\"mix\")\n",
    "    else:\n",
    "        print(masaly,tamato, \"mix\")\n",
    "    print(\"take boil rice fold with\",masaly,tamato)\n",
    "    \n",
    "biryani_banana(\"Chicken\",\"Banaspati\",\"Shaan\",\"tamato\",\"oil\")    "
   ]
  },
  {
   "cell_type": "code",
   "execution_count": 9,
   "metadata": {},
   "outputs": [
    {
     "name": "stdout",
     "output_type": "stream",
     "text": [
      "Chicken Wash\n",
      "Banaspati clean\n",
      "Banaspati Boil\n",
      "oil drop on pain\n",
      "Chicken Bhonna\n",
      "Shaan tamato Patato mix\n",
      "take boil rice fold with Shaan tamato\n"
     ]
    }
   ],
   "source": [
    "biryani_banana(\"Chicken\",\"Banaspati\",\"Shaan\",\"tamato\",\"oil\",\"Patato\")    "
   ]
  },
  {
   "cell_type": "code",
   "execution_count": 10,
   "metadata": {},
   "outputs": [
    {
     "name": "stdout",
     "output_type": "stream",
     "text": [
      "Kashif Samina Noman Bhai 4  Qasim Sign on  Shadhi Mubarkh\n",
      "Celebrate with your Parents Yes\n",
      "Enjoy you Kahana Tikka,Biryani\n"
     ]
    }
   ],
   "source": [
    "def shadhi(larka, larki, molvi,gawah,contract, parents=\"Yes\",khany=\"Biryani\"):\n",
    "    print(larka, larki, molvi,\"4 \", gawah, \"Sign on \", contract)\n",
    "    print(\"Celebrate with your Parents\",parents)\n",
    "    print(\"Enjoy you Kahana\", khany)\n",
    "    \n",
    "shadhi(\"Kashif\",\"Samina\",\"Noman Bhai\",\"Qasim\",\"Shadhi Mubarkh\",khany=\"Tikka,Biryani\")    "
   ]
  },
  {
   "cell_type": "code",
   "execution_count": null,
   "metadata": {},
   "outputs": [],
   "source": [
    "Task\n",
    "login system with username or cnic and password\n",
    "Valid user or invalid user\n"
   ]
  }
 ],
 "metadata": {
  "kernelspec": {
   "display_name": "Python 3",
   "language": "python",
   "name": "python3"
  },
  "language_info": {
   "codemirror_mode": {
    "name": "ipython",
    "version": 3
   },
   "file_extension": ".py",
   "mimetype": "text/x-python",
   "name": "python",
   "nbconvert_exporter": "python",
   "pygments_lexer": "ipython3",
   "version": "3.7.6"
  }
 },
 "nbformat": 4,
 "nbformat_minor": 4
}
