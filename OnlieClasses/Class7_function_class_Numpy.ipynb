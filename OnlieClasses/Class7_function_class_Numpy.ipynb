{
 "cells": [
  {
   "cell_type": "code",
   "execution_count": 1,
   "metadata": {},
   "outputs": [
    {
     "data": {
      "text/plain": [
       "str"
      ]
     },
     "execution_count": 1,
     "metadata": {},
     "output_type": "execute_result"
    }
   ],
   "source": [
    "a = \"pakistan\"\n",
    "type(a)"
   ]
  },
  {
   "cell_type": "raw",
   "metadata": {},
   "source": [
    "fucntion \n",
    "    1. function decliration\n",
    "    2. function body\n",
    "    3. function calling"
   ]
  },
  {
   "cell_type": "code",
   "execution_count": null,
   "metadata": {},
   "outputs": [],
   "source": [
    "def fn_my_first_function(x,y):           # function dec\n",
    "    print(\"line2\",x)                     #function body with indended\n",
    "    print(\"Line\",y)                       # function\n",
    "    \n",
    "fn_my_first_function()                  #function calling"
   ]
  },
  {
   "cell_type": "code",
   "execution_count": 2,
   "metadata": {},
   "outputs": [
    {
     "name": "stdout",
     "output_type": "stream",
     "text": [
      "a\n",
      "b\n",
      "c\n",
      "1 2 3 5\n"
     ]
    }
   ],
   "source": [
    "def abc(x,y,z,f):\n",
    "    print(\"a\")\n",
    "    print(\"b\")\n",
    "    print(\"c\")\n",
    "    print(x,y,z,f)\n",
    "    \n",
    "    \n",
    "abc(1,2,3,5)    "
   ]
  },
  {
   "cell_type": "code",
   "execution_count": 3,
   "metadata": {},
   "outputs": [
    {
     "name": "stdout",
     "output_type": "stream",
     "text": [
      "Boil  milk\n",
      "Patti teapak\n",
      "Chini suger\n",
      "Boil  milk\n",
      "Patti teapak\n",
      "Chini suger\n"
     ]
    }
   ],
   "source": [
    "def chai_banana(dodh, chini, patti):\n",
    "    print(\"Boil \", dodh)\n",
    "    print(\"Patti\",patti)\n",
    "    print(\"Chini\", chini)\n",
    "    \n",
    "chai_banana(\"milk\",\"suger\",\"teapak\")\n",
    "\n",
    "chai_banana(\"milk\",\"suger\",\"teapak\")"
   ]
  },
  {
   "cell_type": "code",
   "execution_count": 5,
   "metadata": {},
   "outputs": [
    {
     "name": "stdout",
     "output_type": "stream",
     "text": [
      "Chicken Wash\n",
      "Banaspati clean\n",
      "Banaspati Boil\n",
      "1KG drop on pain\n",
      "Chicken Bhonna\n",
      "Shaan 500 Gm mix\n",
      "take boil rice fold with Shaan 500 Gm\n"
     ]
    }
   ],
   "source": [
    "def biryani_banana(ghost,rice,masaly, tamato,oil):\n",
    "    print(ghost, \"Wash\")\n",
    "    print(rice, \"clean\")\n",
    "    print(rice, \"Boil\")\n",
    "    print(oil,\"drop on pain\")\n",
    "    print(ghost,\"Bhonna\")\n",
    "    print(masaly,tamato, \"mix\")\n",
    "    print(\"take boil rice fold with\",masaly,tamato)\n",
    "    \n",
    "biryani_banana(\"Chicken\",\"Banaspati\",\"Shaan\",\"500 Gm\",\"1KG\")    "
   ]
  },
  {
   "cell_type": "code",
   "execution_count": 6,
   "metadata": {},
   "outputs": [
    {
     "name": "stdout",
     "output_type": "stream",
     "text": [
      "maton Wash\n",
      "Banaspati clean\n",
      "Banaspati Boil\n",
      "1KG drop on pain\n",
      "maton Bhonna\n",
      "Shaan 500 Gm mix\n",
      "take boil rice fold with Shaan 500 Gm\n"
     ]
    }
   ],
   "source": [
    "biryani_banana(\"maton\",\"Banaspati\",\"Shaan\",\"500 Gm\",\"1KG\") "
   ]
  },
  {
   "cell_type": "code",
   "execution_count": 8,
   "metadata": {},
   "outputs": [
    {
     "name": "stdout",
     "output_type": "stream",
     "text": [
      "Chicken Wash\n",
      "Banaspati clean\n",
      "Banaspati Boil\n",
      "oil drop on pain\n",
      "Chicken Bhonna\n",
      "Shaan tamato mix\n",
      "take boil rice fold with Shaan tamato\n"
     ]
    }
   ],
   "source": [
    "def biryani_banana(ghost,rice,masaly, tamato,oil, patato=None):\n",
    "    print(ghost, \"Wash\")\n",
    "    print(rice, \"clean\")\n",
    "    print(rice, \"Boil\")\n",
    "    print(oil,\"drop on pain\")\n",
    "    print(ghost,\"Bhonna\")\n",
    "    if patato:\n",
    "        print(masaly,tamato,patato,\"mix\")\n",
    "    else:\n",
    "        print(masaly,tamato, \"mix\")\n",
    "    print(\"take boil rice fold with\",masaly,tamato)\n",
    "    \n",
    "biryani_banana(\"Chicken\",\"Banaspati\",\"Shaan\",\"tamato\",\"oil\")    "
   ]
  },
  {
   "cell_type": "code",
   "execution_count": 9,
   "metadata": {},
   "outputs": [
    {
     "name": "stdout",
     "output_type": "stream",
     "text": [
      "Chicken Wash\n",
      "Banaspati clean\n",
      "Banaspati Boil\n",
      "oil drop on pain\n",
      "Chicken Bhonna\n",
      "Shaan tamato Patato mix\n",
      "take boil rice fold with Shaan tamato\n"
     ]
    }
   ],
   "source": [
    "biryani_banana(\"Chicken\",\"Banaspati\",\"Shaan\",\"tamato\",\"oil\",\"Patato\")    "
   ]
  },
  {
   "cell_type": "code",
   "execution_count": 10,
   "metadata": {},
   "outputs": [
    {
     "name": "stdout",
     "output_type": "stream",
     "text": [
      "Kashif Samina Noman Bhai 4  Qasim Sign on  Shadhi Mubarkh\n",
      "Celebrate with your Parents Yes\n",
      "Enjoy you Kahana Tikka,Biryani\n"
     ]
    }
   ],
   "source": [
    "def shadhi(larka, larki, molvi,gawah,contract, parents=\"Yes\",khany=\"Biryani\"):\n",
    "    print(larka, larki, molvi,\"4 \", gawah, \"Sign on \", contract)\n",
    "    print(\"Celebrate with your Parents\",parents)\n",
    "    print(\"Enjoy you Kahana\", khany)\n",
    "    \n",
    "shadhi(\"Kashif\",\"Samina\",\"Noman Bhai\",\"Qasim\",\"Shadhi Mubarkh\",khany=\"Tikka,Biryani\")    "
   ]
  },
  {
   "cell_type": "code",
   "execution_count": 19,
   "metadata": {},
   "outputs": [
    {
     "data": {
      "text/plain": [
       "'2MB'"
      ]
     },
     "execution_count": 19,
     "metadata": {},
     "output_type": "execute_result"
    }
   ],
   "source": []
  },
  {
   "cell_type": "code",
   "execution_count": 11,
   "metadata": {},
   "outputs": [
    {
     "name": "stdout",
     "output_type": "stream",
     "text": [
      "Kashif Samina Noman Bhai 4  Qasim Sign on  Shadhi Mubarkh\n",
      "Celebrate with your Parents Yes\n",
      "Enjoy you Kahana Tikka,Biryani\n"
     ]
    }
   ],
   "source": [
    "shadhi(\"Kashif\",\"Samina\",\"Noman Bhai\",\"Qasim\",\"Shadhi Mubarkh\",khany=\"Tikka,Biryani\")    "
   ]
  },
  {
   "cell_type": "code",
   "execution_count": null,
   "metadata": {},
   "outputs": [],
   "source": [
    "Task\n",
    "login system with username or cnic and password\n",
    "Valid user or invalid user\n"
   ]
  },
  {
   "cell_type": "code",
   "execution_count": 15,
   "metadata": {},
   "outputs": [
    {
     "name": "stdout",
     "output_type": "stream",
     "text": [
      "Valid user\n",
      "Valid user\n",
      "Valid user\n"
     ]
    }
   ],
   "source": [
    "users = [\"qasim\",'nasir','noman']\n",
    "paswords = ['123','321','213']\n",
    "\n",
    "def login(user,pas):\n",
    "    if user in users and pas in paswords:\n",
    "        print(\"Valid user\")\n",
    "    else:\n",
    "        print(\"not Valid user\")\n",
    "        \n",
    "login('nasir','123')        \n",
    "login('noman','123')\n",
    "login('qasim','123')"
   ]
  },
  {
   "cell_type": "markdown",
   "metadata": {},
   "source": [
    "# Lambda function"
   ]
  },
  {
   "cell_type": "code",
   "execution_count": 21,
   "metadata": {},
   "outputs": [
    {
     "data": {
      "text/plain": [
       "16"
      ]
     },
     "execution_count": 21,
     "metadata": {},
     "output_type": "execute_result"
    }
   ],
   "source": [
    "# normal function syntax\n",
    "def abc(a,b):\n",
    "    return a + b\n",
    "\n",
    "\n",
    "abc = lambda a,b : a + b\n",
    "abc(1,5)\n",
    "abc(7,9)"
   ]
  },
  {
   "cell_type": "code",
   "execution_count": 23,
   "metadata": {},
   "outputs": [
    {
     "data": {
      "text/plain": [
       "{0: 0, 1: 2, 2: 1, 3: 4, 4: 3}"
      ]
     },
     "execution_count": 23,
     "metadata": {},
     "output_type": "execute_result"
    }
   ],
   "source": [
    "x = {1: 2, \n",
    "     3: 4, \n",
    "     4: 3, \n",
    "     2: 1, \n",
    "     0: 0}\n",
    "\n",
    "{k: v for k, v in sorted(x.items(), key=lambda item: item[0])}"
   ]
  },
  {
   "cell_type": "markdown",
   "metadata": {},
   "source": [
    "# OOP"
   ]
  },
  {
   "cell_type": "code",
   "execution_count": 31,
   "metadata": {},
   "outputs": [],
   "source": [
    "class Student():                # Class\n",
    "    \n",
    "    name = \"Qasim\"                   # class variable\n",
    "    father_name = \"Aslam\"           # class variable\n",
    "    course = \"DA\"                # class variable \n",
    "    fee = \"1\"                   \n",
    "    registration_no = \"123456\"\n",
    "    \n",
    "    def fn_login():                #method\n",
    "        print(\"login\")\n",
    "    \n",
    "    def fn_access_book():         #method\n",
    "        print(\"access book\")\n",
    "    \n",
    "    def fn_registration():         #method\n",
    "        print(\"Registration\")\n",
    "        "
   ]
  },
  {
   "cell_type": "code",
   "execution_count": 32,
   "metadata": {},
   "outputs": [
    {
     "name": "stdout",
     "output_type": "stream",
     "text": [
      "<class '__main__.Student'>\n"
     ]
    }
   ],
   "source": [
    "student1 = Student()\n",
    "student2 = Student()\n",
    "student3 = Student()\n",
    "\n",
    "print(type(student1))"
   ]
  },
  {
   "cell_type": "code",
   "execution_count": 33,
   "metadata": {},
   "outputs": [
    {
     "name": "stdout",
     "output_type": "stream",
     "text": [
      "Qasim\n",
      "Qasim\n",
      "Qasim\n"
     ]
    }
   ],
   "source": [
    "print(student1.name)\n",
    "print(student3.name)\n",
    "print(student3.name)"
   ]
  },
  {
   "cell_type": "code",
   "execution_count": null,
   "metadata": {},
   "outputs": [],
   "source": [
    "student1."
   ]
  },
  {
   "cell_type": "code",
   "execution_count": 30,
   "metadata": {},
   "outputs": [
    {
     "name": "stdout",
     "output_type": "stream",
     "text": [
      "<class 'str'>\n"
     ]
    }
   ],
   "source": [
    "a = \"Pakistan\"\n",
    "print(type(a))"
   ]
  },
  {
   "cell_type": "code",
   "execution_count": 36,
   "metadata": {},
   "outputs": [],
   "source": [
    "class Teacher():                # Class\n",
    "    \n",
    "    def __init__(self,tid,name,qualification):\n",
    "        self.tid = tid                           # attributes\n",
    "        self.name = name                           # attributes\n",
    "        self.qualification  = qualification                         # attributes\n",
    "        \n",
    "    def fn_login():                #method\n",
    "        print(\"login\")\n",
    "    \n",
    "    def fn_upload_book():         #method\n",
    "        print(\"access book\")\n",
    "    \n",
    "    def fn_assign_assignment():         #method\n",
    "        print(\"Registration\")\n",
    "        \n",
    "        \n",
    "teacher1  = Teacher(1,'Qasim',\"MSDS\")       \n",
    "teacher2  = Teacher(2,'Kashif',\"MCS\")       \n",
    "teacher3  = Teacher(3,'Noman',\"MSDS\")       "
   ]
  },
  {
   "cell_type": "code",
   "execution_count": 37,
   "metadata": {},
   "outputs": [
    {
     "name": "stdout",
     "output_type": "stream",
     "text": [
      "Qasim\n",
      "Kashif\n",
      "Noman\n"
     ]
    }
   ],
   "source": [
    "print(teacher1.name)\n",
    "print(teacher2.name)\n",
    "print(teacher3.name)"
   ]
  },
  {
   "cell_type": "code",
   "execution_count": null,
   "metadata": {},
   "outputs": [],
   "source": []
  }
 ],
 "metadata": {
  "kernelspec": {
   "display_name": "Python 3",
   "language": "python",
   "name": "python3"
  },
  "language_info": {
   "codemirror_mode": {
    "name": "ipython",
    "version": 3
   },
   "file_extension": ".py",
   "mimetype": "text/x-python",
   "name": "python",
   "nbconvert_exporter": "python",
   "pygments_lexer": "ipython3",
   "version": "3.7.6"
  }
 },
 "nbformat": 4,
 "nbformat_minor": 4
}
