{
 "cells": [
  {
   "cell_type": "code",
   "execution_count": 2,
   "metadata": {},
   "outputs": [],
   "source": [
    "import numpy as np\n",
    "import pandas as pd"
   ]
  },
  {
   "cell_type": "code",
   "execution_count": 3,
   "metadata": {},
   "outputs": [
    {
     "name": "stdout",
     "output_type": "stream",
     "text": [
      "<class 'pandas.core.frame.DataFrame'>\n",
      "RangeIndex: 40 entries, 0 to 39\n",
      "Data columns (total 7 columns):\n",
      " #   Column          Non-Null Count  Dtype         \n",
      "---  ------          --------------  -----         \n",
      " 0   user id         40 non-null     int64         \n",
      " 1   account no      40 non-null     object        \n",
      " 2   transaction id  40 non-null     int64         \n",
      " 3   type            40 non-null     object        \n",
      " 4   city            40 non-null     object        \n",
      " 5   date            40 non-null     datetime64[ns]\n",
      " 6   amount          40 non-null     int64         \n",
      "dtypes: datetime64[ns](1), int64(3), object(3)\n",
      "memory usage: 2.3+ KB\n",
      "        user id  transaction id        amount\n",
      "count  40.00000       40.000000     40.000000\n",
      "mean    4.02500       20.500000  18100.000000\n",
      "std     4.38814       11.690452  21074.714464\n",
      "min     1.00000        1.000000   1000.000000\n",
      "25%     1.00000       10.750000   1500.000000\n",
      "50%     2.00000       20.500000   2000.000000\n",
      "75%     5.25000       30.250000  36000.000000\n",
      "max    21.00000       40.000000  50000.000000\n"
     ]
    },
    {
     "data": {
      "text/html": [
       "<div>\n",
       "<style scoped>\n",
       "    .dataframe tbody tr th:only-of-type {\n",
       "        vertical-align: middle;\n",
       "    }\n",
       "\n",
       "    .dataframe tbody tr th {\n",
       "        vertical-align: top;\n",
       "    }\n",
       "\n",
       "    .dataframe thead th {\n",
       "        text-align: right;\n",
       "    }\n",
       "</style>\n",
       "<table border=\"1\" class=\"dataframe\">\n",
       "  <thead>\n",
       "    <tr style=\"text-align: right;\">\n",
       "      <th></th>\n",
       "      <th>user id</th>\n",
       "      <th>account no</th>\n",
       "      <th>transaction id</th>\n",
       "      <th>type</th>\n",
       "      <th>city</th>\n",
       "      <th>date</th>\n",
       "      <th>amount</th>\n",
       "    </tr>\n",
       "  </thead>\n",
       "  <tbody>\n",
       "    <tr>\n",
       "      <th>0</th>\n",
       "      <td>1</td>\n",
       "      <td>a1</td>\n",
       "      <td>1</td>\n",
       "      <td>ibft</td>\n",
       "      <td>karachi</td>\n",
       "      <td>2022-03-01</td>\n",
       "      <td>1000</td>\n",
       "    </tr>\n",
       "  </tbody>\n",
       "</table>\n",
       "</div>"
      ],
      "text/plain": [
       "   user id account no  transaction id  type     city       date  amount\n",
       "0        1         a1               1  ibft  karachi 2022-03-01    1000"
      ]
     },
     "execution_count": 3,
     "metadata": {},
     "output_type": "execute_result"
    }
   ],
   "source": [
    "df = pd.read_excel(\"./data/groupby.xlsx\")\n",
    "df.info()\n",
    "print(df.describe())\n",
    "df.head(1)"
   ]
  },
  {
   "cell_type": "markdown",
   "metadata": {},
   "source": [
    "# Group by"
   ]
  },
  {
   "cell_type": "raw",
   "metadata": {},
   "source": [
    "dataframe.GROUPBY([groupColum1,groupColume2,..]).AGG(['avg','min','max'])\n",
    "dataframe.GROUPBY([groupColum1,groupColume2,..]).DataFrameColumns.applySeriesMethod\n",
    "dataframe.GROUPBY([groupColum1,groupColume2,..]).DataFrameColumns.AGG(['avg','min','max'])\n",
    "\n",
    "https://www.analyticsvidhya.com/blog/2020/03/groupby-pandas-aggregating-data-python/"
   ]
  },
  {
   "cell_type": "code",
   "execution_count": 5,
   "metadata": {},
   "outputs": [
    {
     "data": {
      "text/html": [
       "<div>\n",
       "<style scoped>\n",
       "    .dataframe tbody tr th:only-of-type {\n",
       "        vertical-align: middle;\n",
       "    }\n",
       "\n",
       "    .dataframe tbody tr th {\n",
       "        vertical-align: top;\n",
       "    }\n",
       "\n",
       "    .dataframe thead tr th {\n",
       "        text-align: left;\n",
       "    }\n",
       "\n",
       "    .dataframe thead tr:last-of-type th {\n",
       "        text-align: right;\n",
       "    }\n",
       "</style>\n",
       "<table border=\"1\" class=\"dataframe\">\n",
       "  <thead>\n",
       "    <tr>\n",
       "      <th></th>\n",
       "      <th>user id</th>\n",
       "      <th>account no</th>\n",
       "      <th>transaction id</th>\n",
       "      <th>type</th>\n",
       "      <th>date</th>\n",
       "      <th>amount</th>\n",
       "    </tr>\n",
       "    <tr>\n",
       "      <th></th>\n",
       "      <th>count</th>\n",
       "      <th>count</th>\n",
       "      <th>count</th>\n",
       "      <th>count</th>\n",
       "      <th>count</th>\n",
       "      <th>count</th>\n",
       "    </tr>\n",
       "    <tr>\n",
       "      <th>city</th>\n",
       "      <th></th>\n",
       "      <th></th>\n",
       "      <th></th>\n",
       "      <th></th>\n",
       "      <th></th>\n",
       "      <th></th>\n",
       "    </tr>\n",
       "  </thead>\n",
       "  <tbody>\n",
       "    <tr>\n",
       "      <th>Lahore</th>\n",
       "      <td>9</td>\n",
       "      <td>9</td>\n",
       "      <td>9</td>\n",
       "      <td>9</td>\n",
       "      <td>9</td>\n",
       "      <td>9</td>\n",
       "    </tr>\n",
       "    <tr>\n",
       "      <th>islamabad</th>\n",
       "      <td>7</td>\n",
       "      <td>7</td>\n",
       "      <td>7</td>\n",
       "      <td>7</td>\n",
       "      <td>7</td>\n",
       "      <td>7</td>\n",
       "    </tr>\n",
       "    <tr>\n",
       "      <th>karachi</th>\n",
       "      <td>24</td>\n",
       "      <td>24</td>\n",
       "      <td>24</td>\n",
       "      <td>24</td>\n",
       "      <td>24</td>\n",
       "      <td>24</td>\n",
       "    </tr>\n",
       "  </tbody>\n",
       "</table>\n",
       "</div>"
      ],
      "text/plain": [
       "          user id account no transaction id  type  date amount\n",
       "            count      count          count count count  count\n",
       "city                                                          \n",
       "Lahore          9          9              9     9     9      9\n",
       "islamabad       7          7              7     7     7      7\n",
       "karachi        24         24             24    24    24     24"
      ]
     },
     "execution_count": 5,
     "metadata": {},
     "output_type": "execute_result"
    }
   ],
   "source": [
    "# dataframe.GROUPBY([groupColum1,groupColume2,..]).AGG(['avg','min','max'])\n",
    "\n",
    "s1 = df.groupby([\"city\"]).agg(['count'])\n",
    "s1"
   ]
  },
  {
   "cell_type": "code",
   "execution_count": 7,
   "metadata": {},
   "outputs": [
    {
     "data": {
      "text/plain": [
       "city\n",
       "Lahore        9\n",
       "islamabad     7\n",
       "karachi      24\n",
       "Name: transaction id, dtype: int64"
      ]
     },
     "execution_count": 7,
     "metadata": {},
     "output_type": "execute_result"
    }
   ],
   "source": [
    "# dataframe.GROUPBY([groupColum1,groupColume2,..]).DataFrameColumns.applySeriesMethod\n",
    "# dataframe.GROUPBY([groupColum1,groupColume2,..])[DataFrameColumns].applySeriesMethod\n",
    "s2 = df.groupby(['city'])['transaction id'].apply(len)\n",
    "s2"
   ]
  },
  {
   "cell_type": "code",
   "execution_count": 8,
   "metadata": {},
   "outputs": [
    {
     "data": {
      "text/html": [
       "<div>\n",
       "<style scoped>\n",
       "    .dataframe tbody tr th:only-of-type {\n",
       "        vertical-align: middle;\n",
       "    }\n",
       "\n",
       "    .dataframe tbody tr th {\n",
       "        vertical-align: top;\n",
       "    }\n",
       "\n",
       "    .dataframe thead th {\n",
       "        text-align: right;\n",
       "    }\n",
       "</style>\n",
       "<table border=\"1\" class=\"dataframe\">\n",
       "  <thead>\n",
       "    <tr style=\"text-align: right;\">\n",
       "      <th></th>\n",
       "      <th>count</th>\n",
       "    </tr>\n",
       "    <tr>\n",
       "      <th>city</th>\n",
       "      <th></th>\n",
       "    </tr>\n",
       "  </thead>\n",
       "  <tbody>\n",
       "    <tr>\n",
       "      <th>Lahore</th>\n",
       "      <td>9</td>\n",
       "    </tr>\n",
       "    <tr>\n",
       "      <th>islamabad</th>\n",
       "      <td>7</td>\n",
       "    </tr>\n",
       "    <tr>\n",
       "      <th>karachi</th>\n",
       "      <td>24</td>\n",
       "    </tr>\n",
       "  </tbody>\n",
       "</table>\n",
       "</div>"
      ],
      "text/plain": [
       "           count\n",
       "city            \n",
       "Lahore         9\n",
       "islamabad      7\n",
       "karachi       24"
      ]
     },
     "execution_count": 8,
     "metadata": {},
     "output_type": "execute_result"
    }
   ],
   "source": [
    "# dataframe.GROUPBY([groupColum1,groupColume2,..]).DataFrameColumns.AGG(['avg','min','max'])\n",
    "\n",
    "s3 = df.groupby(['city'])['transaction id'].agg(['count'])\n",
    "s3"
   ]
  },
  {
   "cell_type": "code",
   "execution_count": 11,
   "metadata": {},
   "outputs": [
    {
     "data": {
      "text/html": [
       "<div>\n",
       "<style scoped>\n",
       "    .dataframe tbody tr th:only-of-type {\n",
       "        vertical-align: middle;\n",
       "    }\n",
       "\n",
       "    .dataframe tbody tr th {\n",
       "        vertical-align: top;\n",
       "    }\n",
       "\n",
       "    .dataframe thead th {\n",
       "        text-align: right;\n",
       "    }\n",
       "</style>\n",
       "<table border=\"1\" class=\"dataframe\">\n",
       "  <thead>\n",
       "    <tr style=\"text-align: right;\">\n",
       "      <th></th>\n",
       "      <th>count</th>\n",
       "      <th>sum</th>\n",
       "      <th>min</th>\n",
       "      <th>max</th>\n",
       "      <th>mean</th>\n",
       "      <th>std</th>\n",
       "    </tr>\n",
       "    <tr>\n",
       "      <th>city</th>\n",
       "      <th></th>\n",
       "      <th></th>\n",
       "      <th></th>\n",
       "      <th></th>\n",
       "      <th></th>\n",
       "      <th></th>\n",
       "    </tr>\n",
       "  </thead>\n",
       "  <tbody>\n",
       "    <tr>\n",
       "      <th>Lahore</th>\n",
       "      <td>9</td>\n",
       "      <td>97000</td>\n",
       "      <td>1000</td>\n",
       "      <td>50000</td>\n",
       "      <td>10777.777778</td>\n",
       "      <td>18604.621588</td>\n",
       "    </tr>\n",
       "    <tr>\n",
       "      <th>islamabad</th>\n",
       "      <td>7</td>\n",
       "      <td>350000</td>\n",
       "      <td>50000</td>\n",
       "      <td>50000</td>\n",
       "      <td>50000.000000</td>\n",
       "      <td>0.000000</td>\n",
       "    </tr>\n",
       "    <tr>\n",
       "      <th>karachi</th>\n",
       "      <td>24</td>\n",
       "      <td>277000</td>\n",
       "      <td>1000</td>\n",
       "      <td>36000</td>\n",
       "      <td>11541.666667</td>\n",
       "      <td>16035.908528</td>\n",
       "    </tr>\n",
       "  </tbody>\n",
       "</table>\n",
       "</div>"
      ],
      "text/plain": [
       "           count     sum    min    max          mean           std\n",
       "city                                                              \n",
       "Lahore         9   97000   1000  50000  10777.777778  18604.621588\n",
       "islamabad      7  350000  50000  50000  50000.000000      0.000000\n",
       "karachi       24  277000   1000  36000  11541.666667  16035.908528"
      ]
     },
     "execution_count": 11,
     "metadata": {},
     "output_type": "execute_result"
    }
   ],
   "source": [
    "# dataframe.GROUPBY([groupColum1,groupColume2,..]).DataFrameColumns.AGG(['avg','min','max'])\n",
    "s3 = df.groupby(['city'])['amount'].agg(['count','sum','min','max',np.mean,np.std])\n",
    "s3"
   ]
  },
  {
   "cell_type": "markdown",
   "metadata": {},
   "source": [
    "# volume and value based on city and transaction types"
   ]
  },
  {
   "cell_type": "code",
   "execution_count": 18,
   "metadata": {},
   "outputs": [
    {
     "data": {
      "text/html": [
       "<div>\n",
       "<style scoped>\n",
       "    .dataframe tbody tr th:only-of-type {\n",
       "        vertical-align: middle;\n",
       "    }\n",
       "\n",
       "    .dataframe tbody tr th {\n",
       "        vertical-align: top;\n",
       "    }\n",
       "\n",
       "    .dataframe thead th {\n",
       "        text-align: right;\n",
       "    }\n",
       "</style>\n",
       "<table border=\"1\" class=\"dataframe\">\n",
       "  <thead>\n",
       "    <tr style=\"text-align: right;\">\n",
       "      <th></th>\n",
       "      <th></th>\n",
       "      <th>count</th>\n",
       "      <th>sum</th>\n",
       "    </tr>\n",
       "    <tr>\n",
       "      <th>city</th>\n",
       "      <th>type</th>\n",
       "      <th></th>\n",
       "      <th></th>\n",
       "    </tr>\n",
       "  </thead>\n",
       "  <tbody>\n",
       "    <tr>\n",
       "      <th>islamabad</th>\n",
       "      <th>ibft</th>\n",
       "      <td>7</td>\n",
       "      <td>350000</td>\n",
       "    </tr>\n",
       "    <tr>\n",
       "      <th rowspan=\"4\" valign=\"top\">karachi</th>\n",
       "      <th>rtgs</th>\n",
       "      <td>7</td>\n",
       "      <td>252000</td>\n",
       "    </tr>\n",
       "    <tr>\n",
       "      <th>ibft</th>\n",
       "      <td>6</td>\n",
       "      <td>6000</td>\n",
       "    </tr>\n",
       "    <tr>\n",
       "      <th>topup</th>\n",
       "      <td>6</td>\n",
       "      <td>9000</td>\n",
       "    </tr>\n",
       "    <tr>\n",
       "      <th>ft</th>\n",
       "      <td>5</td>\n",
       "      <td>10000</td>\n",
       "    </tr>\n",
       "    <tr>\n",
       "      <th rowspan=\"4\" valign=\"top\">Lahore</th>\n",
       "      <th>ft</th>\n",
       "      <td>3</td>\n",
       "      <td>6000</td>\n",
       "    </tr>\n",
       "    <tr>\n",
       "      <th>ibft</th>\n",
       "      <td>3</td>\n",
       "      <td>52000</td>\n",
       "    </tr>\n",
       "    <tr>\n",
       "      <th>topup</th>\n",
       "      <td>2</td>\n",
       "      <td>3000</td>\n",
       "    </tr>\n",
       "    <tr>\n",
       "      <th>rtgs</th>\n",
       "      <td>1</td>\n",
       "      <td>36000</td>\n",
       "    </tr>\n",
       "  </tbody>\n",
       "</table>\n",
       "</div>"
      ],
      "text/plain": [
       "                 count     sum\n",
       "city      type                \n",
       "islamabad ibft       7  350000\n",
       "karachi   rtgs       7  252000\n",
       "          ibft       6    6000\n",
       "          topup      6    9000\n",
       "          ft         5   10000\n",
       "Lahore    ft         3    6000\n",
       "          ibft       3   52000\n",
       "          topup      2    3000\n",
       "          rtgs       1   36000"
      ]
     },
     "execution_count": 18,
     "metadata": {},
     "output_type": "execute_result"
    }
   ],
   "source": [
    "# dataframe.GROUPBY([groupColum1,groupColume2,..]).DataFrameColumns.AGG(['avg','min','max'])\n",
    "s3 = df.groupby(['city','type'])['amount'].agg(['count','sum'])\n",
    "\n",
    "#                columnname\n",
    "s3.sort_values(['count'], ascending=False,inplace=True)\n",
    "s3"
   ]
  },
  {
   "cell_type": "code",
   "execution_count": 32,
   "metadata": {},
   "outputs": [
    {
     "data": {
      "text/html": [
       "<div>\n",
       "<style scoped>\n",
       "    .dataframe tbody tr th:only-of-type {\n",
       "        vertical-align: middle;\n",
       "    }\n",
       "\n",
       "    .dataframe tbody tr th {\n",
       "        vertical-align: top;\n",
       "    }\n",
       "\n",
       "    .dataframe thead tr th {\n",
       "        text-align: left;\n",
       "    }\n",
       "\n",
       "    .dataframe thead tr:last-of-type th {\n",
       "        text-align: right;\n",
       "    }\n",
       "</style>\n",
       "<table border=\"1\" class=\"dataframe\">\n",
       "  <thead>\n",
       "    <tr>\n",
       "      <th></th>\n",
       "      <th></th>\n",
       "      <th colspan=\"2\" halign=\"left\">amount</th>\n",
       "    </tr>\n",
       "    <tr>\n",
       "      <th></th>\n",
       "      <th></th>\n",
       "      <th>count</th>\n",
       "      <th>sum</th>\n",
       "    </tr>\n",
       "    <tr>\n",
       "      <th>city</th>\n",
       "      <th>type</th>\n",
       "      <th></th>\n",
       "      <th></th>\n",
       "    </tr>\n",
       "  </thead>\n",
       "  <tbody>\n",
       "    <tr>\n",
       "      <th rowspan=\"4\" valign=\"top\">Lahore</th>\n",
       "      <th>ft</th>\n",
       "      <td>3</td>\n",
       "      <td>6000</td>\n",
       "    </tr>\n",
       "    <tr>\n",
       "      <th>ibft</th>\n",
       "      <td>3</td>\n",
       "      <td>52000</td>\n",
       "    </tr>\n",
       "    <tr>\n",
       "      <th>rtgs</th>\n",
       "      <td>1</td>\n",
       "      <td>36000</td>\n",
       "    </tr>\n",
       "    <tr>\n",
       "      <th>topup</th>\n",
       "      <td>2</td>\n",
       "      <td>3000</td>\n",
       "    </tr>\n",
       "    <tr>\n",
       "      <th>islamabad</th>\n",
       "      <th>ibft</th>\n",
       "      <td>7</td>\n",
       "      <td>350000</td>\n",
       "    </tr>\n",
       "    <tr>\n",
       "      <th rowspan=\"4\" valign=\"top\">karachi</th>\n",
       "      <th>ft</th>\n",
       "      <td>5</td>\n",
       "      <td>10000</td>\n",
       "    </tr>\n",
       "    <tr>\n",
       "      <th>ibft</th>\n",
       "      <td>6</td>\n",
       "      <td>6000</td>\n",
       "    </tr>\n",
       "    <tr>\n",
       "      <th>rtgs</th>\n",
       "      <td>7</td>\n",
       "      <td>252000</td>\n",
       "    </tr>\n",
       "    <tr>\n",
       "      <th>topup</th>\n",
       "      <td>6</td>\n",
       "      <td>9000</td>\n",
       "    </tr>\n",
       "  </tbody>\n",
       "</table>\n",
       "</div>"
      ],
      "text/plain": [
       "                amount        \n",
       "                 count     sum\n",
       "city      type                \n",
       "Lahore    ft         3    6000\n",
       "          ibft       3   52000\n",
       "          rtgs       1   36000\n",
       "          topup      2    3000\n",
       "islamabad ibft       7  350000\n",
       "karachi   ft         5   10000\n",
       "          ibft       6    6000\n",
       "          rtgs       7  252000\n",
       "          topup      6    9000"
      ]
     },
     "execution_count": 32,
     "metadata": {},
     "output_type": "execute_result"
    }
   ],
   "source": [
    "# dataframe.GROUPBY([groupColum1,groupColume2,..]).DataFrameColumns.AGG(['avg','min','max'])\n",
    "s3 = df.groupby(['city','type'])[['amount']].agg(['count','sum'])\n",
    "s3\n"
   ]
  },
  {
   "cell_type": "markdown",
   "metadata": {},
   "source": [
    "# volume and value based on city and transaction types :top 2 from each city"
   ]
  },
  {
   "cell_type": "code",
   "execution_count": null,
   "metadata": {},
   "outputs": [],
   "source": [
    "s3 = df.groupby(['city','type'])['amount'].agg(['count','sum'])\n",
    "s3"
   ]
  },
  {
   "cell_type": "code",
   "execution_count": 33,
   "metadata": {},
   "outputs": [
    {
     "data": {
      "text/html": [
       "<div>\n",
       "<style scoped>\n",
       "    .dataframe tbody tr th:only-of-type {\n",
       "        vertical-align: middle;\n",
       "    }\n",
       "\n",
       "    .dataframe tbody tr th {\n",
       "        vertical-align: top;\n",
       "    }\n",
       "\n",
       "    .dataframe thead th {\n",
       "        text-align: right;\n",
       "    }\n",
       "</style>\n",
       "<table border=\"1\" class=\"dataframe\">\n",
       "  <thead>\n",
       "    <tr style=\"text-align: right;\">\n",
       "      <th></th>\n",
       "      <th>user id</th>\n",
       "      <th>account no</th>\n",
       "      <th>transaction id</th>\n",
       "      <th>type</th>\n",
       "      <th>city</th>\n",
       "      <th>date</th>\n",
       "      <th>amount</th>\n",
       "    </tr>\n",
       "  </thead>\n",
       "  <tbody>\n",
       "    <tr>\n",
       "      <th>0</th>\n",
       "      <td>1</td>\n",
       "      <td>a1</td>\n",
       "      <td>1</td>\n",
       "      <td>ibft</td>\n",
       "      <td>karachi</td>\n",
       "      <td>2022-03-01</td>\n",
       "      <td>1000</td>\n",
       "    </tr>\n",
       "    <tr>\n",
       "      <th>1</th>\n",
       "      <td>1</td>\n",
       "      <td>a1</td>\n",
       "      <td>2</td>\n",
       "      <td>ft</td>\n",
       "      <td>karachi</td>\n",
       "      <td>2022-01-05</td>\n",
       "      <td>2000</td>\n",
       "    </tr>\n",
       "    <tr>\n",
       "      <th>2</th>\n",
       "      <td>1</td>\n",
       "      <td>a2</td>\n",
       "      <td>3</td>\n",
       "      <td>topup</td>\n",
       "      <td>karachi</td>\n",
       "      <td>2021-06-06</td>\n",
       "      <td>1500</td>\n",
       "    </tr>\n",
       "    <tr>\n",
       "      <th>3</th>\n",
       "      <td>1</td>\n",
       "      <td>a2</td>\n",
       "      <td>4</td>\n",
       "      <td>rtgs</td>\n",
       "      <td>karachi</td>\n",
       "      <td>2022-01-05</td>\n",
       "      <td>36000</td>\n",
       "    </tr>\n",
       "    <tr>\n",
       "      <th>4</th>\n",
       "      <td>1</td>\n",
       "      <td>a2</td>\n",
       "      <td>5</td>\n",
       "      <td>ibft</td>\n",
       "      <td>islamabad</td>\n",
       "      <td>2021-06-06</td>\n",
       "      <td>50000</td>\n",
       "    </tr>\n",
       "    <tr>\n",
       "      <th>5</th>\n",
       "      <td>2</td>\n",
       "      <td>b1</td>\n",
       "      <td>6</td>\n",
       "      <td>ibft</td>\n",
       "      <td>karachi</td>\n",
       "      <td>2022-03-01</td>\n",
       "      <td>1000</td>\n",
       "    </tr>\n",
       "    <tr>\n",
       "      <th>6</th>\n",
       "      <td>2</td>\n",
       "      <td>b1</td>\n",
       "      <td>7</td>\n",
       "      <td>ft</td>\n",
       "      <td>karachi</td>\n",
       "      <td>2022-01-05</td>\n",
       "      <td>2000</td>\n",
       "    </tr>\n",
       "    <tr>\n",
       "      <th>7</th>\n",
       "      <td>2</td>\n",
       "      <td>b1</td>\n",
       "      <td>8</td>\n",
       "      <td>topup</td>\n",
       "      <td>karachi</td>\n",
       "      <td>2021-06-06</td>\n",
       "      <td>1500</td>\n",
       "    </tr>\n",
       "    <tr>\n",
       "      <th>8</th>\n",
       "      <td>2</td>\n",
       "      <td>b1</td>\n",
       "      <td>9</td>\n",
       "      <td>rtgs</td>\n",
       "      <td>karachi</td>\n",
       "      <td>2022-01-05</td>\n",
       "      <td>36000</td>\n",
       "    </tr>\n",
       "    <tr>\n",
       "      <th>9</th>\n",
       "      <td>2</td>\n",
       "      <td>b1</td>\n",
       "      <td>10</td>\n",
       "      <td>ibft</td>\n",
       "      <td>islamabad</td>\n",
       "      <td>2021-06-06</td>\n",
       "      <td>50000</td>\n",
       "    </tr>\n",
       "    <tr>\n",
       "      <th>10</th>\n",
       "      <td>5</td>\n",
       "      <td>c1</td>\n",
       "      <td>11</td>\n",
       "      <td>ibft</td>\n",
       "      <td>karachi</td>\n",
       "      <td>2022-03-01</td>\n",
       "      <td>1000</td>\n",
       "    </tr>\n",
       "    <tr>\n",
       "      <th>11</th>\n",
       "      <td>6</td>\n",
       "      <td>d1</td>\n",
       "      <td>12</td>\n",
       "      <td>ft</td>\n",
       "      <td>Lahore</td>\n",
       "      <td>2022-01-05</td>\n",
       "      <td>2000</td>\n",
       "    </tr>\n",
       "    <tr>\n",
       "      <th>12</th>\n",
       "      <td>1</td>\n",
       "      <td>a1</td>\n",
       "      <td>13</td>\n",
       "      <td>topup</td>\n",
       "      <td>karachi</td>\n",
       "      <td>2021-06-06</td>\n",
       "      <td>1500</td>\n",
       "    </tr>\n",
       "    <tr>\n",
       "      <th>13</th>\n",
       "      <td>9</td>\n",
       "      <td>f1</td>\n",
       "      <td>14</td>\n",
       "      <td>rtgs</td>\n",
       "      <td>karachi</td>\n",
       "      <td>2022-01-05</td>\n",
       "      <td>36000</td>\n",
       "    </tr>\n",
       "    <tr>\n",
       "      <th>14</th>\n",
       "      <td>1</td>\n",
       "      <td>a2</td>\n",
       "      <td>15</td>\n",
       "      <td>ibft</td>\n",
       "      <td>islamabad</td>\n",
       "      <td>2021-06-06</td>\n",
       "      <td>50000</td>\n",
       "    </tr>\n",
       "    <tr>\n",
       "      <th>15</th>\n",
       "      <td>5</td>\n",
       "      <td>b1</td>\n",
       "      <td>16</td>\n",
       "      <td>ibft</td>\n",
       "      <td>karachi</td>\n",
       "      <td>2022-03-01</td>\n",
       "      <td>1000</td>\n",
       "    </tr>\n",
       "    <tr>\n",
       "      <th>16</th>\n",
       "      <td>2</td>\n",
       "      <td>b1</td>\n",
       "      <td>17</td>\n",
       "      <td>ft</td>\n",
       "      <td>Lahore</td>\n",
       "      <td>2022-01-05</td>\n",
       "      <td>2000</td>\n",
       "    </tr>\n",
       "    <tr>\n",
       "      <th>17</th>\n",
       "      <td>21</td>\n",
       "      <td>b1</td>\n",
       "      <td>18</td>\n",
       "      <td>topup</td>\n",
       "      <td>karachi</td>\n",
       "      <td>2021-06-06</td>\n",
       "      <td>1500</td>\n",
       "    </tr>\n",
       "    <tr>\n",
       "      <th>18</th>\n",
       "      <td>2</td>\n",
       "      <td>b1</td>\n",
       "      <td>19</td>\n",
       "      <td>rtgs</td>\n",
       "      <td>karachi</td>\n",
       "      <td>2022-01-05</td>\n",
       "      <td>36000</td>\n",
       "    </tr>\n",
       "    <tr>\n",
       "      <th>19</th>\n",
       "      <td>2</td>\n",
       "      <td>b1</td>\n",
       "      <td>20</td>\n",
       "      <td>ibft</td>\n",
       "      <td>islamabad</td>\n",
       "      <td>2021-06-06</td>\n",
       "      <td>50000</td>\n",
       "    </tr>\n",
       "    <tr>\n",
       "      <th>20</th>\n",
       "      <td>5</td>\n",
       "      <td>a1</td>\n",
       "      <td>21</td>\n",
       "      <td>ibft</td>\n",
       "      <td>Lahore</td>\n",
       "      <td>2022-03-01</td>\n",
       "      <td>1000</td>\n",
       "    </tr>\n",
       "    <tr>\n",
       "      <th>21</th>\n",
       "      <td>1</td>\n",
       "      <td>a1</td>\n",
       "      <td>22</td>\n",
       "      <td>ft</td>\n",
       "      <td>karachi</td>\n",
       "      <td>2022-01-05</td>\n",
       "      <td>2000</td>\n",
       "    </tr>\n",
       "    <tr>\n",
       "      <th>22</th>\n",
       "      <td>1</td>\n",
       "      <td>a2</td>\n",
       "      <td>23</td>\n",
       "      <td>topup</td>\n",
       "      <td>Lahore</td>\n",
       "      <td>2021-06-06</td>\n",
       "      <td>1500</td>\n",
       "    </tr>\n",
       "    <tr>\n",
       "      <th>23</th>\n",
       "      <td>9</td>\n",
       "      <td>a2</td>\n",
       "      <td>24</td>\n",
       "      <td>rtgs</td>\n",
       "      <td>karachi</td>\n",
       "      <td>2022-01-05</td>\n",
       "      <td>36000</td>\n",
       "    </tr>\n",
       "    <tr>\n",
       "      <th>24</th>\n",
       "      <td>8</td>\n",
       "      <td>a2</td>\n",
       "      <td>25</td>\n",
       "      <td>ibft</td>\n",
       "      <td>Lahore</td>\n",
       "      <td>2021-06-06</td>\n",
       "      <td>50000</td>\n",
       "    </tr>\n",
       "    <tr>\n",
       "      <th>25</th>\n",
       "      <td>2</td>\n",
       "      <td>b1</td>\n",
       "      <td>26</td>\n",
       "      <td>ibft</td>\n",
       "      <td>karachi</td>\n",
       "      <td>2022-03-01</td>\n",
       "      <td>1000</td>\n",
       "    </tr>\n",
       "    <tr>\n",
       "      <th>26</th>\n",
       "      <td>2</td>\n",
       "      <td>b1</td>\n",
       "      <td>27</td>\n",
       "      <td>ft</td>\n",
       "      <td>Lahore</td>\n",
       "      <td>2022-01-05</td>\n",
       "      <td>2000</td>\n",
       "    </tr>\n",
       "    <tr>\n",
       "      <th>27</th>\n",
       "      <td>8</td>\n",
       "      <td>b1</td>\n",
       "      <td>28</td>\n",
       "      <td>topup</td>\n",
       "      <td>karachi</td>\n",
       "      <td>2021-06-06</td>\n",
       "      <td>1500</td>\n",
       "    </tr>\n",
       "    <tr>\n",
       "      <th>28</th>\n",
       "      <td>2</td>\n",
       "      <td>b1</td>\n",
       "      <td>29</td>\n",
       "      <td>rtgs</td>\n",
       "      <td>Lahore</td>\n",
       "      <td>2022-01-05</td>\n",
       "      <td>36000</td>\n",
       "    </tr>\n",
       "    <tr>\n",
       "      <th>29</th>\n",
       "      <td>10</td>\n",
       "      <td>b1</td>\n",
       "      <td>30</td>\n",
       "      <td>ibft</td>\n",
       "      <td>islamabad</td>\n",
       "      <td>2021-06-06</td>\n",
       "      <td>50000</td>\n",
       "    </tr>\n",
       "    <tr>\n",
       "      <th>30</th>\n",
       "      <td>1</td>\n",
       "      <td>a1</td>\n",
       "      <td>31</td>\n",
       "      <td>ibft</td>\n",
       "      <td>Lahore</td>\n",
       "      <td>2022-03-01</td>\n",
       "      <td>1000</td>\n",
       "    </tr>\n",
       "    <tr>\n",
       "      <th>31</th>\n",
       "      <td>1</td>\n",
       "      <td>a1</td>\n",
       "      <td>32</td>\n",
       "      <td>ft</td>\n",
       "      <td>karachi</td>\n",
       "      <td>2022-01-05</td>\n",
       "      <td>2000</td>\n",
       "    </tr>\n",
       "    <tr>\n",
       "      <th>32</th>\n",
       "      <td>10</td>\n",
       "      <td>a2</td>\n",
       "      <td>33</td>\n",
       "      <td>topup</td>\n",
       "      <td>Lahore</td>\n",
       "      <td>2021-06-06</td>\n",
       "      <td>1500</td>\n",
       "    </tr>\n",
       "    <tr>\n",
       "      <th>33</th>\n",
       "      <td>1</td>\n",
       "      <td>a2</td>\n",
       "      <td>34</td>\n",
       "      <td>rtgs</td>\n",
       "      <td>karachi</td>\n",
       "      <td>2022-01-05</td>\n",
       "      <td>36000</td>\n",
       "    </tr>\n",
       "    <tr>\n",
       "      <th>34</th>\n",
       "      <td>1</td>\n",
       "      <td>a2</td>\n",
       "      <td>35</td>\n",
       "      <td>ibft</td>\n",
       "      <td>islamabad</td>\n",
       "      <td>2021-06-06</td>\n",
       "      <td>50000</td>\n",
       "    </tr>\n",
       "    <tr>\n",
       "      <th>35</th>\n",
       "      <td>12</td>\n",
       "      <td>b1</td>\n",
       "      <td>36</td>\n",
       "      <td>ibft</td>\n",
       "      <td>karachi</td>\n",
       "      <td>2022-03-01</td>\n",
       "      <td>1000</td>\n",
       "    </tr>\n",
       "    <tr>\n",
       "      <th>36</th>\n",
       "      <td>2</td>\n",
       "      <td>b1</td>\n",
       "      <td>37</td>\n",
       "      <td>ft</td>\n",
       "      <td>karachi</td>\n",
       "      <td>2022-01-05</td>\n",
       "      <td>2000</td>\n",
       "    </tr>\n",
       "    <tr>\n",
       "      <th>37</th>\n",
       "      <td>2</td>\n",
       "      <td>b1</td>\n",
       "      <td>38</td>\n",
       "      <td>topup</td>\n",
       "      <td>karachi</td>\n",
       "      <td>2021-06-06</td>\n",
       "      <td>1500</td>\n",
       "    </tr>\n",
       "    <tr>\n",
       "      <th>38</th>\n",
       "      <td>12</td>\n",
       "      <td>b1</td>\n",
       "      <td>39</td>\n",
       "      <td>rtgs</td>\n",
       "      <td>karachi</td>\n",
       "      <td>2022-01-05</td>\n",
       "      <td>36000</td>\n",
       "    </tr>\n",
       "    <tr>\n",
       "      <th>39</th>\n",
       "      <td>2</td>\n",
       "      <td>b1</td>\n",
       "      <td>40</td>\n",
       "      <td>ibft</td>\n",
       "      <td>islamabad</td>\n",
       "      <td>2021-06-06</td>\n",
       "      <td>50000</td>\n",
       "    </tr>\n",
       "  </tbody>\n",
       "</table>\n",
       "</div>"
      ],
      "text/plain": [
       "    user id account no  transaction id   type       city       date  amount\n",
       "0         1         a1               1   ibft    karachi 2022-03-01    1000\n",
       "1         1         a1               2     ft    karachi 2022-01-05    2000\n",
       "2         1         a2               3  topup    karachi 2021-06-06    1500\n",
       "3         1         a2               4   rtgs    karachi 2022-01-05   36000\n",
       "4         1         a2               5   ibft  islamabad 2021-06-06   50000\n",
       "5         2         b1               6   ibft    karachi 2022-03-01    1000\n",
       "6         2         b1               7     ft    karachi 2022-01-05    2000\n",
       "7         2         b1               8  topup    karachi 2021-06-06    1500\n",
       "8         2         b1               9   rtgs    karachi 2022-01-05   36000\n",
       "9         2         b1              10   ibft  islamabad 2021-06-06   50000\n",
       "10        5         c1              11   ibft    karachi 2022-03-01    1000\n",
       "11        6         d1              12     ft     Lahore 2022-01-05    2000\n",
       "12        1         a1              13  topup    karachi 2021-06-06    1500\n",
       "13        9         f1              14   rtgs    karachi 2022-01-05   36000\n",
       "14        1         a2              15   ibft  islamabad 2021-06-06   50000\n",
       "15        5         b1              16   ibft    karachi 2022-03-01    1000\n",
       "16        2         b1              17     ft     Lahore 2022-01-05    2000\n",
       "17       21         b1              18  topup    karachi 2021-06-06    1500\n",
       "18        2         b1              19   rtgs    karachi 2022-01-05   36000\n",
       "19        2         b1              20   ibft  islamabad 2021-06-06   50000\n",
       "20        5         a1              21   ibft     Lahore 2022-03-01    1000\n",
       "21        1         a1              22     ft    karachi 2022-01-05    2000\n",
       "22        1         a2              23  topup     Lahore 2021-06-06    1500\n",
       "23        9         a2              24   rtgs    karachi 2022-01-05   36000\n",
       "24        8         a2              25   ibft     Lahore 2021-06-06   50000\n",
       "25        2         b1              26   ibft    karachi 2022-03-01    1000\n",
       "26        2         b1              27     ft     Lahore 2022-01-05    2000\n",
       "27        8         b1              28  topup    karachi 2021-06-06    1500\n",
       "28        2         b1              29   rtgs     Lahore 2022-01-05   36000\n",
       "29       10         b1              30   ibft  islamabad 2021-06-06   50000\n",
       "30        1         a1              31   ibft     Lahore 2022-03-01    1000\n",
       "31        1         a1              32     ft    karachi 2022-01-05    2000\n",
       "32       10         a2              33  topup     Lahore 2021-06-06    1500\n",
       "33        1         a2              34   rtgs    karachi 2022-01-05   36000\n",
       "34        1         a2              35   ibft  islamabad 2021-06-06   50000\n",
       "35       12         b1              36   ibft    karachi 2022-03-01    1000\n",
       "36        2         b1              37     ft    karachi 2022-01-05    2000\n",
       "37        2         b1              38  topup    karachi 2021-06-06    1500\n",
       "38       12         b1              39   rtgs    karachi 2022-01-05   36000\n",
       "39        2         b1              40   ibft  islamabad 2021-06-06   50000"
      ]
     },
     "execution_count": 33,
     "metadata": {},
     "output_type": "execute_result"
    }
   ],
   "source": [
    "df"
   ]
  },
  {
   "cell_type": "markdown",
   "metadata": {},
   "source": [
    "# Count unique users based on cities"
   ]
  },
  {
   "cell_type": "code",
   "execution_count": 34,
   "metadata": {},
   "outputs": [
    {
     "data": {
      "text/plain": [
       "city\n",
       "Lahore           [6, 2, 5, 1, 8, 10]\n",
       "islamabad                 [1, 2, 10]\n",
       "karachi      [1, 2, 5, 9, 21, 8, 12]\n",
       "Name: user id, dtype: object"
      ]
     },
     "execution_count": 34,
     "metadata": {},
     "output_type": "execute_result"
    }
   ],
   "source": [
    "#dataframe.GROUPBY([groupColum1,groupColume2,..]).DataFrameColumns.applySeriesMethod\n",
    "df.groupby(['city'])['user id'].unique()"
   ]
  },
  {
   "cell_type": "code",
   "execution_count": 35,
   "metadata": {},
   "outputs": [
    {
     "data": {
      "text/plain": [
       "city\n",
       "Lahore       6\n",
       "islamabad    3\n",
       "karachi      7\n",
       "Name: user id, dtype: int64"
      ]
     },
     "execution_count": 35,
     "metadata": {},
     "output_type": "execute_result"
    }
   ],
   "source": [
    "df.groupby(['city'])['user id'].unique().apply(len)"
   ]
  },
  {
   "cell_type": "code",
   "execution_count": 36,
   "metadata": {},
   "outputs": [
    {
     "data": {
      "text/plain": [
       "array([1, 5, 9, 3])"
      ]
     },
     "execution_count": 36,
     "metadata": {},
     "output_type": "execute_result"
    }
   ],
   "source": [
    "sbp = np.array([1,5,9,3])\n",
    "sbp"
   ]
  },
  {
   "cell_type": "code",
   "execution_count": 40,
   "metadata": {},
   "outputs": [
    {
     "name": "stdout",
     "output_type": "stream",
     "text": [
      "[ True  True False False]\n",
      "2\n"
     ]
    }
   ],
   "source": [
    "print(np.in1d(sbp,[6, 2, 5, 1, 8, 10]))\n",
    "print(np.in1d(sbp,[6, 2, 5, 1, 8, 10]).sum())"
   ]
  },
  {
   "cell_type": "code",
   "execution_count": 45,
   "metadata": {},
   "outputs": [
    {
     "data": {
      "text/plain": [
       "city\n",
       "Lahore       <class 'numpy.ndarray'>\n",
       "islamabad    <class 'numpy.ndarray'>\n",
       "karachi      <class 'numpy.ndarray'>\n",
       "Name: user id, dtype: object"
      ]
     },
     "execution_count": 45,
     "metadata": {},
     "output_type": "execute_result"
    }
   ],
   "source": [
    "df.groupby(['city'])['user id'].unique().apply(lambda x:type(x))"
   ]
  },
  {
   "cell_type": "code",
   "execution_count": 46,
   "metadata": {},
   "outputs": [
    {
     "data": {
      "text/plain": [
       "15"
      ]
     },
     "execution_count": 46,
     "metadata": {},
     "output_type": "execute_result"
    }
   ],
   "source": [
    "def abc(x):\n",
    "    return x+5\n",
    "\n",
    "a = lambda x:x+5\n",
    "a(10)"
   ]
  },
  {
   "cell_type": "code",
   "execution_count": 47,
   "metadata": {},
   "outputs": [
    {
     "data": {
      "text/plain": [
       "15"
      ]
     },
     "execution_count": 47,
     "metadata": {},
     "output_type": "execute_result"
    }
   ],
   "source": [
    "abc(10)"
   ]
  },
  {
   "cell_type": "code",
   "execution_count": 51,
   "metadata": {},
   "outputs": [
    {
     "data": {
      "text/html": [
       "<div>\n",
       "<style scoped>\n",
       "    .dataframe tbody tr th:only-of-type {\n",
       "        vertical-align: middle;\n",
       "    }\n",
       "\n",
       "    .dataframe tbody tr th {\n",
       "        vertical-align: top;\n",
       "    }\n",
       "\n",
       "    .dataframe thead th {\n",
       "        text-align: right;\n",
       "    }\n",
       "</style>\n",
       "<table border=\"1\" class=\"dataframe\">\n",
       "  <thead>\n",
       "    <tr style=\"text-align: right;\">\n",
       "      <th></th>\n",
       "      <th></th>\n",
       "      <th>count</th>\n",
       "    </tr>\n",
       "    <tr>\n",
       "      <th>city</th>\n",
       "      <th>type</th>\n",
       "      <th></th>\n",
       "    </tr>\n",
       "  </thead>\n",
       "  <tbody>\n",
       "    <tr>\n",
       "      <th rowspan=\"4\" valign=\"top\">Lahore</th>\n",
       "      <th>ft</th>\n",
       "      <td>3</td>\n",
       "    </tr>\n",
       "    <tr>\n",
       "      <th>ibft</th>\n",
       "      <td>3</td>\n",
       "    </tr>\n",
       "    <tr>\n",
       "      <th>rtgs</th>\n",
       "      <td>1</td>\n",
       "    </tr>\n",
       "    <tr>\n",
       "      <th>topup</th>\n",
       "      <td>2</td>\n",
       "    </tr>\n",
       "    <tr>\n",
       "      <th>islamabad</th>\n",
       "      <th>ibft</th>\n",
       "      <td>7</td>\n",
       "    </tr>\n",
       "    <tr>\n",
       "      <th rowspan=\"4\" valign=\"top\">karachi</th>\n",
       "      <th>ft</th>\n",
       "      <td>5</td>\n",
       "    </tr>\n",
       "    <tr>\n",
       "      <th>ibft</th>\n",
       "      <td>6</td>\n",
       "    </tr>\n",
       "    <tr>\n",
       "      <th>rtgs</th>\n",
       "      <td>7</td>\n",
       "    </tr>\n",
       "    <tr>\n",
       "      <th>topup</th>\n",
       "      <td>6</td>\n",
       "    </tr>\n",
       "  </tbody>\n",
       "</table>\n",
       "</div>"
      ],
      "text/plain": [
       "                 count\n",
       "city      type        \n",
       "Lahore    ft         3\n",
       "          ibft       3\n",
       "          rtgs       1\n",
       "          topup      2\n",
       "islamabad ibft       7\n",
       "karachi   ft         5\n",
       "          ibft       6\n",
       "          rtgs       7\n",
       "          topup      6"
      ]
     },
     "execution_count": 51,
     "metadata": {},
     "output_type": "execute_result"
    }
   ],
   "source": [
    "df.groupby(['city','type'])['transaction id'].agg(['count'])"
   ]
  },
  {
   "cell_type": "markdown",
   "metadata": {},
   "source": [
    "# unstack"
   ]
  },
  {
   "cell_type": "code",
   "execution_count": 64,
   "metadata": {},
   "outputs": [
    {
     "data": {
      "text/html": [
       "<div>\n",
       "<style scoped>\n",
       "    .dataframe tbody tr th:only-of-type {\n",
       "        vertical-align: middle;\n",
       "    }\n",
       "\n",
       "    .dataframe tbody tr th {\n",
       "        vertical-align: top;\n",
       "    }\n",
       "\n",
       "    .dataframe thead tr th {\n",
       "        text-align: left;\n",
       "    }\n",
       "\n",
       "    .dataframe thead tr:last-of-type th {\n",
       "        text-align: right;\n",
       "    }\n",
       "</style>\n",
       "<table border=\"1\" class=\"dataframe\">\n",
       "  <thead>\n",
       "    <tr>\n",
       "      <th></th>\n",
       "      <th colspan=\"4\" halign=\"left\">count</th>\n",
       "    </tr>\n",
       "    <tr>\n",
       "      <th>type</th>\n",
       "      <th>ft</th>\n",
       "      <th>ibft</th>\n",
       "      <th>rtgs</th>\n",
       "      <th>topup</th>\n",
       "    </tr>\n",
       "    <tr>\n",
       "      <th>city</th>\n",
       "      <th></th>\n",
       "      <th></th>\n",
       "      <th></th>\n",
       "      <th></th>\n",
       "    </tr>\n",
       "  </thead>\n",
       "  <tbody>\n",
       "    <tr>\n",
       "      <th>Lahore</th>\n",
       "      <td>3.0</td>\n",
       "      <td>3.0</td>\n",
       "      <td>1.0</td>\n",
       "      <td>2.0</td>\n",
       "    </tr>\n",
       "    <tr>\n",
       "      <th>islamabad</th>\n",
       "      <td>NaN</td>\n",
       "      <td>7.0</td>\n",
       "      <td>NaN</td>\n",
       "      <td>NaN</td>\n",
       "    </tr>\n",
       "    <tr>\n",
       "      <th>karachi</th>\n",
       "      <td>5.0</td>\n",
       "      <td>6.0</td>\n",
       "      <td>7.0</td>\n",
       "      <td>6.0</td>\n",
       "    </tr>\n",
       "  </tbody>\n",
       "</table>\n",
       "</div>"
      ],
      "text/plain": [
       "          count                \n",
       "type         ft ibft rtgs topup\n",
       "city                           \n",
       "Lahore      3.0  3.0  1.0   2.0\n",
       "islamabad   NaN  7.0  NaN   NaN\n",
       "karachi     5.0  6.0  7.0   6.0"
      ]
     },
     "execution_count": 64,
     "metadata": {},
     "output_type": "execute_result"
    }
   ],
   "source": [
    "df.groupby(['city','type'])['transaction id'].agg(['count']).unstack()"
   ]
  },
  {
   "cell_type": "markdown",
   "metadata": {},
   "source": [
    "\n",
    "# groupby and Aggerate functions with datetime"
   ]
  },
  {
   "cell_type": "code",
   "execution_count": 53,
   "metadata": {},
   "outputs": [
    {
     "name": "stdout",
     "output_type": "stream",
     "text": [
      "<class 'pandas.core.frame.DataFrame'>\n",
      "RangeIndex: 40 entries, 0 to 39\n",
      "Data columns (total 7 columns):\n",
      " #   Column          Non-Null Count  Dtype         \n",
      "---  ------          --------------  -----         \n",
      " 0   user id         40 non-null     int64         \n",
      " 1   account no      40 non-null     object        \n",
      " 2   transaction id  40 non-null     int64         \n",
      " 3   type            40 non-null     object        \n",
      " 4   city            40 non-null     object        \n",
      " 5   date            40 non-null     datetime64[ns]\n",
      " 6   amount          40 non-null     int64         \n",
      "dtypes: datetime64[ns](1), int64(3), object(3)\n",
      "memory usage: 2.3+ KB\n"
     ]
    },
    {
     "data": {
      "text/html": [
       "<div>\n",
       "<style scoped>\n",
       "    .dataframe tbody tr th:only-of-type {\n",
       "        vertical-align: middle;\n",
       "    }\n",
       "\n",
       "    .dataframe tbody tr th {\n",
       "        vertical-align: top;\n",
       "    }\n",
       "\n",
       "    .dataframe thead th {\n",
       "        text-align: right;\n",
       "    }\n",
       "</style>\n",
       "<table border=\"1\" class=\"dataframe\">\n",
       "  <thead>\n",
       "    <tr style=\"text-align: right;\">\n",
       "      <th></th>\n",
       "      <th>user id</th>\n",
       "      <th>account no</th>\n",
       "      <th>transaction id</th>\n",
       "      <th>type</th>\n",
       "      <th>city</th>\n",
       "      <th>date</th>\n",
       "      <th>amount</th>\n",
       "    </tr>\n",
       "  </thead>\n",
       "  <tbody>\n",
       "    <tr>\n",
       "      <th>0</th>\n",
       "      <td>1</td>\n",
       "      <td>a1</td>\n",
       "      <td>1</td>\n",
       "      <td>ibft</td>\n",
       "      <td>karachi</td>\n",
       "      <td>2022-03-01</td>\n",
       "      <td>1000</td>\n",
       "    </tr>\n",
       "  </tbody>\n",
       "</table>\n",
       "</div>"
      ],
      "text/plain": [
       "   user id account no  transaction id  type     city       date  amount\n",
       "0        1         a1               1  ibft  karachi 2022-03-01    1000"
      ]
     },
     "execution_count": 53,
     "metadata": {},
     "output_type": "execute_result"
    }
   ],
   "source": [
    "df.info()\n",
    "df.head(1)"
   ]
  },
  {
   "cell_type": "raw",
   "metadata": {},
   "source": [
    "dt.month\n",
    "dt.year\n",
    "dt.day\n",
    "dt.week\n",
    "\n",
    "dataframe.groupby([dataframe.dateColumn.dt.]).ColumnName.AGG([])"
   ]
  },
  {
   "cell_type": "code",
   "execution_count": 55,
   "metadata": {},
   "outputs": [
    {
     "data": {
      "text/html": [
       "<div>\n",
       "<style scoped>\n",
       "    .dataframe tbody tr th:only-of-type {\n",
       "        vertical-align: middle;\n",
       "    }\n",
       "\n",
       "    .dataframe tbody tr th {\n",
       "        vertical-align: top;\n",
       "    }\n",
       "\n",
       "    .dataframe thead th {\n",
       "        text-align: right;\n",
       "    }\n",
       "</style>\n",
       "<table border=\"1\" class=\"dataframe\">\n",
       "  <thead>\n",
       "    <tr style=\"text-align: right;\">\n",
       "      <th></th>\n",
       "      <th>count</th>\n",
       "      <th>sum</th>\n",
       "    </tr>\n",
       "    <tr>\n",
       "      <th>date</th>\n",
       "      <th></th>\n",
       "      <th></th>\n",
       "    </tr>\n",
       "  </thead>\n",
       "  <tbody>\n",
       "    <tr>\n",
       "      <th>2021</th>\n",
       "      <td>16</td>\n",
       "      <td>412000</td>\n",
       "    </tr>\n",
       "    <tr>\n",
       "      <th>2022</th>\n",
       "      <td>24</td>\n",
       "      <td>312000</td>\n",
       "    </tr>\n",
       "  </tbody>\n",
       "</table>\n",
       "</div>"
      ],
      "text/plain": [
       "      count     sum\n",
       "date               \n",
       "2021     16  412000\n",
       "2022     24  312000"
      ]
     },
     "execution_count": 55,
     "metadata": {},
     "output_type": "execute_result"
    }
   ],
   "source": [
    "#date = column \n",
    "a = df.groupby([df.date.dt.year])['amount'].agg(['count','sum'])\n",
    "a"
   ]
  },
  {
   "cell_type": "code",
   "execution_count": 56,
   "metadata": {},
   "outputs": [
    {
     "data": {
      "text/html": [
       "<div>\n",
       "<style scoped>\n",
       "    .dataframe tbody tr th:only-of-type {\n",
       "        vertical-align: middle;\n",
       "    }\n",
       "\n",
       "    .dataframe tbody tr th {\n",
       "        vertical-align: top;\n",
       "    }\n",
       "\n",
       "    .dataframe thead th {\n",
       "        text-align: right;\n",
       "    }\n",
       "</style>\n",
       "<table border=\"1\" class=\"dataframe\">\n",
       "  <thead>\n",
       "    <tr style=\"text-align: right;\">\n",
       "      <th></th>\n",
       "      <th>count</th>\n",
       "      <th>sum</th>\n",
       "    </tr>\n",
       "    <tr>\n",
       "      <th>date</th>\n",
       "      <th></th>\n",
       "      <th></th>\n",
       "    </tr>\n",
       "  </thead>\n",
       "  <tbody>\n",
       "    <tr>\n",
       "      <th>1</th>\n",
       "      <td>16</td>\n",
       "      <td>304000</td>\n",
       "    </tr>\n",
       "    <tr>\n",
       "      <th>3</th>\n",
       "      <td>8</td>\n",
       "      <td>8000</td>\n",
       "    </tr>\n",
       "    <tr>\n",
       "      <th>6</th>\n",
       "      <td>16</td>\n",
       "      <td>412000</td>\n",
       "    </tr>\n",
       "  </tbody>\n",
       "</table>\n",
       "</div>"
      ],
      "text/plain": [
       "      count     sum\n",
       "date               \n",
       "1        16  304000\n",
       "3         8    8000\n",
       "6        16  412000"
      ]
     },
     "execution_count": 56,
     "metadata": {},
     "output_type": "execute_result"
    }
   ],
   "source": [
    "a = df.groupby([df.date.dt.month])['amount'].agg(['count','sum'])\n",
    "a"
   ]
  },
  {
   "cell_type": "code",
   "execution_count": 62,
   "metadata": {},
   "outputs": [
    {
     "data": {
      "text/html": [
       "<div>\n",
       "<style scoped>\n",
       "    .dataframe tbody tr th:only-of-type {\n",
       "        vertical-align: middle;\n",
       "    }\n",
       "\n",
       "    .dataframe tbody tr th {\n",
       "        vertical-align: top;\n",
       "    }\n",
       "\n",
       "    .dataframe thead th {\n",
       "        text-align: right;\n",
       "    }\n",
       "</style>\n",
       "<table border=\"1\" class=\"dataframe\">\n",
       "  <thead>\n",
       "    <tr style=\"text-align: right;\">\n",
       "      <th></th>\n",
       "      <th>Year</th>\n",
       "      <th>Month</th>\n",
       "      <th>Volume</th>\n",
       "      <th>Value</th>\n",
       "    </tr>\n",
       "  </thead>\n",
       "  <tbody>\n",
       "    <tr>\n",
       "      <th>0</th>\n",
       "      <td>2021</td>\n",
       "      <td>6</td>\n",
       "      <td>16</td>\n",
       "      <td>412000</td>\n",
       "    </tr>\n",
       "    <tr>\n",
       "      <th>1</th>\n",
       "      <td>2022</td>\n",
       "      <td>1</td>\n",
       "      <td>16</td>\n",
       "      <td>304000</td>\n",
       "    </tr>\n",
       "    <tr>\n",
       "      <th>2</th>\n",
       "      <td>2022</td>\n",
       "      <td>3</td>\n",
       "      <td>8</td>\n",
       "      <td>8000</td>\n",
       "    </tr>\n",
       "  </tbody>\n",
       "</table>\n",
       "</div>"
      ],
      "text/plain": [
       "   Year  Month  Volume   Value\n",
       "0  2021      6      16  412000\n",
       "1  2022      1      16  304000\n",
       "2  2022      3       8    8000"
      ]
     },
     "execution_count": 62,
     "metadata": {},
     "output_type": "execute_result"
    }
   ],
   "source": [
    "a = df.groupby([df.date.dt.year.rename('Y'),\n",
    "                df.date.dt.month.rename(\"M\")]\n",
    "              )['amount'].agg(['count','sum']).reset_index()\n",
    "\n",
    "a.columns = [\"Year\",\"Month\",\"Volume\",'Value']\n",
    "a"
   ]
  },
  {
   "cell_type": "markdown",
   "metadata": {},
   "source": [
    "# groupby dattime based on string symbols"
   ]
  },
  {
   "cell_type": "code",
   "execution_count": 65,
   "metadata": {},
   "outputs": [
    {
     "data": {
      "text/html": [
       "<div>\n",
       "<style scoped>\n",
       "    .dataframe tbody tr th:only-of-type {\n",
       "        vertical-align: middle;\n",
       "    }\n",
       "\n",
       "    .dataframe tbody tr th {\n",
       "        vertical-align: top;\n",
       "    }\n",
       "\n",
       "    .dataframe thead th {\n",
       "        text-align: right;\n",
       "    }\n",
       "</style>\n",
       "<table border=\"1\" class=\"dataframe\">\n",
       "  <thead>\n",
       "    <tr style=\"text-align: right;\">\n",
       "      <th></th>\n",
       "      <th>count</th>\n",
       "    </tr>\n",
       "    <tr>\n",
       "      <th>date</th>\n",
       "      <th></th>\n",
       "    </tr>\n",
       "  </thead>\n",
       "  <tbody>\n",
       "    <tr>\n",
       "      <th>2021</th>\n",
       "      <td>16</td>\n",
       "    </tr>\n",
       "    <tr>\n",
       "      <th>2022</th>\n",
       "      <td>24</td>\n",
       "    </tr>\n",
       "  </tbody>\n",
       "</table>\n",
       "</div>"
      ],
      "text/plain": [
       "      count\n",
       "date       \n",
       "2021     16\n",
       "2022     24"
      ]
     },
     "execution_count": 65,
     "metadata": {},
     "output_type": "execute_result"
    }
   ],
   "source": [
    "a = df.groupby([df.date.dt.strftime(\"%Y\")])['amount'].agg(['count'])\n",
    "a"
   ]
  },
  {
   "cell_type": "code",
   "execution_count": 67,
   "metadata": {},
   "outputs": [
    {
     "data": {
      "text/html": [
       "<div>\n",
       "<style scoped>\n",
       "    .dataframe tbody tr th:only-of-type {\n",
       "        vertical-align: middle;\n",
       "    }\n",
       "\n",
       "    .dataframe tbody tr th {\n",
       "        vertical-align: top;\n",
       "    }\n",
       "\n",
       "    .dataframe thead th {\n",
       "        text-align: right;\n",
       "    }\n",
       "</style>\n",
       "<table border=\"1\" class=\"dataframe\">\n",
       "  <thead>\n",
       "    <tr style=\"text-align: right;\">\n",
       "      <th></th>\n",
       "      <th>count</th>\n",
       "    </tr>\n",
       "    <tr>\n",
       "      <th>date</th>\n",
       "      <th></th>\n",
       "    </tr>\n",
       "  </thead>\n",
       "  <tbody>\n",
       "    <tr>\n",
       "      <th>2021-06-06</th>\n",
       "      <td>16</td>\n",
       "    </tr>\n",
       "    <tr>\n",
       "      <th>2022-01-05</th>\n",
       "      <td>16</td>\n",
       "    </tr>\n",
       "    <tr>\n",
       "      <th>2022-03-01</th>\n",
       "      <td>8</td>\n",
       "    </tr>\n",
       "  </tbody>\n",
       "</table>\n",
       "</div>"
      ],
      "text/plain": [
       "            count\n",
       "date             \n",
       "2021-06-06     16\n",
       "2022-01-05     16\n",
       "2022-03-01      8"
      ]
     },
     "execution_count": 67,
     "metadata": {},
     "output_type": "execute_result"
    }
   ],
   "source": [
    "a = df.groupby([df.date.dt.strftime(\"%Y-%m-%d\")])['amount'].agg(['count'])\n",
    "a"
   ]
  },
  {
   "cell_type": "code",
   "execution_count": 70,
   "metadata": {},
   "outputs": [
    {
     "data": {
      "text/html": [
       "<div>\n",
       "<style scoped>\n",
       "    .dataframe tbody tr th:only-of-type {\n",
       "        vertical-align: middle;\n",
       "    }\n",
       "\n",
       "    .dataframe tbody tr th {\n",
       "        vertical-align: top;\n",
       "    }\n",
       "\n",
       "    .dataframe thead th {\n",
       "        text-align: right;\n",
       "    }\n",
       "</style>\n",
       "<table border=\"1\" class=\"dataframe\">\n",
       "  <thead>\n",
       "    <tr style=\"text-align: right;\">\n",
       "      <th></th>\n",
       "      <th>count</th>\n",
       "    </tr>\n",
       "    <tr>\n",
       "      <th>date</th>\n",
       "      <th></th>\n",
       "    </tr>\n",
       "  </thead>\n",
       "  <tbody>\n",
       "    <tr>\n",
       "      <th>01 March 2022</th>\n",
       "      <td>8</td>\n",
       "    </tr>\n",
       "    <tr>\n",
       "      <th>05 January 2022</th>\n",
       "      <td>16</td>\n",
       "    </tr>\n",
       "    <tr>\n",
       "      <th>06 June 2021</th>\n",
       "      <td>16</td>\n",
       "    </tr>\n",
       "  </tbody>\n",
       "</table>\n",
       "</div>"
      ],
      "text/plain": [
       "                 count\n",
       "date                  \n",
       "01 March 2022        8\n",
       "05 January 2022     16\n",
       "06 June 2021        16"
      ]
     },
     "execution_count": 70,
     "metadata": {},
     "output_type": "execute_result"
    }
   ],
   "source": [
    "a = df.groupby([df.date.dt.strftime(\"%d %B %Y\")])['amount'].agg(['count'])\n",
    "a"
   ]
  },
  {
   "cell_type": "code",
   "execution_count": 79,
   "metadata": {},
   "outputs": [
    {
     "data": {
      "text/html": [
       "<div>\n",
       "<style scoped>\n",
       "    .dataframe tbody tr th:only-of-type {\n",
       "        vertical-align: middle;\n",
       "    }\n",
       "\n",
       "    .dataframe tbody tr th {\n",
       "        vertical-align: top;\n",
       "    }\n",
       "\n",
       "    .dataframe thead th {\n",
       "        text-align: right;\n",
       "    }\n",
       "</style>\n",
       "<table border=\"1\" class=\"dataframe\">\n",
       "  <thead>\n",
       "    <tr style=\"text-align: right;\">\n",
       "      <th></th>\n",
       "      <th>transaction date</th>\n",
       "      <th>FT</th>\n",
       "      <th>IBFT</th>\n",
       "      <th>RTGS</th>\n",
       "      <th>Topup</th>\n",
       "    </tr>\n",
       "  </thead>\n",
       "  <tbody>\n",
       "    <tr>\n",
       "      <th>0</th>\n",
       "      <td>01 March 2022</td>\n",
       "      <td>NaN</td>\n",
       "      <td>8.0</td>\n",
       "      <td>NaN</td>\n",
       "      <td>NaN</td>\n",
       "    </tr>\n",
       "    <tr>\n",
       "      <th>1</th>\n",
       "      <td>05 January 2022</td>\n",
       "      <td>8.0</td>\n",
       "      <td>NaN</td>\n",
       "      <td>8.0</td>\n",
       "      <td>NaN</td>\n",
       "    </tr>\n",
       "    <tr>\n",
       "      <th>2</th>\n",
       "      <td>06 June 2021</td>\n",
       "      <td>NaN</td>\n",
       "      <td>8.0</td>\n",
       "      <td>NaN</td>\n",
       "      <td>8.0</td>\n",
       "    </tr>\n",
       "  </tbody>\n",
       "</table>\n",
       "</div>"
      ],
      "text/plain": [
       "  transaction date   FT  IBFT  RTGS  Topup\n",
       "0    01 March 2022  NaN   8.0   NaN    NaN\n",
       "1  05 January 2022  8.0   NaN   8.0    NaN\n",
       "2     06 June 2021  NaN   8.0   NaN    8.0"
      ]
     },
     "execution_count": 79,
     "metadata": {},
     "output_type": "execute_result"
    }
   ],
   "source": [
    "a = df.groupby([df.date.dt.strftime(\"%d %B %Y\"),'type'])['amount'].agg(['count']).unstack().reset_index()\n",
    "a.columns = ['transaction date','FT','IBFT','RTGS','Topup']\n",
    "a"
   ]
  },
  {
   "cell_type": "code",
   "execution_count": 92,
   "metadata": {},
   "outputs": [
    {
     "data": {
      "text/html": [
       "<div>\n",
       "<style scoped>\n",
       "    .dataframe tbody tr th:only-of-type {\n",
       "        vertical-align: middle;\n",
       "    }\n",
       "\n",
       "    .dataframe tbody tr th {\n",
       "        vertical-align: top;\n",
       "    }\n",
       "\n",
       "    .dataframe thead tr th {\n",
       "        text-align: left;\n",
       "    }\n",
       "\n",
       "    .dataframe thead tr:last-of-type th {\n",
       "        text-align: right;\n",
       "    }\n",
       "</style>\n",
       "<table border=\"1\" class=\"dataframe\">\n",
       "  <thead>\n",
       "    <tr>\n",
       "      <th></th>\n",
       "      <th></th>\n",
       "      <th colspan=\"4\" halign=\"left\">count</th>\n",
       "    </tr>\n",
       "    <tr>\n",
       "      <th></th>\n",
       "      <th>type</th>\n",
       "      <th>ft</th>\n",
       "      <th>ibft</th>\n",
       "      <th>rtgs</th>\n",
       "      <th>topup</th>\n",
       "    </tr>\n",
       "    <tr>\n",
       "      <th>date</th>\n",
       "      <th>date</th>\n",
       "      <th></th>\n",
       "      <th></th>\n",
       "      <th></th>\n",
       "      <th></th>\n",
       "    </tr>\n",
       "  </thead>\n",
       "  <tbody>\n",
       "    <tr>\n",
       "      <th>2021</th>\n",
       "      <th>2</th>\n",
       "      <td>NaN</td>\n",
       "      <td>8.0</td>\n",
       "      <td>NaN</td>\n",
       "      <td>8.0</td>\n",
       "    </tr>\n",
       "    <tr>\n",
       "      <th>2022</th>\n",
       "      <th>1</th>\n",
       "      <td>8.0</td>\n",
       "      <td>8.0</td>\n",
       "      <td>8.0</td>\n",
       "      <td>NaN</td>\n",
       "    </tr>\n",
       "  </tbody>\n",
       "</table>\n",
       "</div>"
      ],
      "text/plain": [
       "          count                \n",
       "type         ft ibft rtgs topup\n",
       "date date                      \n",
       "2021 2      NaN  8.0  NaN   8.0\n",
       "2022 1      8.0  8.0  8.0   NaN"
      ]
     },
     "execution_count": 92,
     "metadata": {},
     "output_type": "execute_result"
    }
   ],
   "source": [
    "a = df.groupby([df.date.dt.year,df.date.dt.quarter,\"type\"])['amount'].agg(['count']).unstack()\n",
    "# a.columns = ['transaction date','FT','IBFT','RTGS','Topup']\n",
    "a"
   ]
  },
  {
   "cell_type": "code",
   "execution_count": 76,
   "metadata": {},
   "outputs": [
    {
     "data": {
      "text/html": [
       "<div>\n",
       "<style scoped>\n",
       "    .dataframe tbody tr th:only-of-type {\n",
       "        vertical-align: middle;\n",
       "    }\n",
       "\n",
       "    .dataframe tbody tr th {\n",
       "        vertical-align: top;\n",
       "    }\n",
       "\n",
       "    .dataframe thead th {\n",
       "        text-align: right;\n",
       "    }\n",
       "</style>\n",
       "<table border=\"1\" class=\"dataframe\">\n",
       "  <thead>\n",
       "    <tr style=\"text-align: right;\">\n",
       "      <th></th>\n",
       "      <th>user id</th>\n",
       "      <th>account no</th>\n",
       "      <th>transaction id</th>\n",
       "      <th>type</th>\n",
       "      <th>city</th>\n",
       "      <th>date</th>\n",
       "      <th>amount</th>\n",
       "    </tr>\n",
       "  </thead>\n",
       "  <tbody>\n",
       "    <tr>\n",
       "      <th>1</th>\n",
       "      <td>1</td>\n",
       "      <td>a1</td>\n",
       "      <td>2</td>\n",
       "      <td>ft</td>\n",
       "      <td>karachi</td>\n",
       "      <td>2022-01-05</td>\n",
       "      <td>2000</td>\n",
       "    </tr>\n",
       "    <tr>\n",
       "      <th>6</th>\n",
       "      <td>2</td>\n",
       "      <td>b1</td>\n",
       "      <td>7</td>\n",
       "      <td>ft</td>\n",
       "      <td>karachi</td>\n",
       "      <td>2022-01-05</td>\n",
       "      <td>2000</td>\n",
       "    </tr>\n",
       "    <tr>\n",
       "      <th>11</th>\n",
       "      <td>6</td>\n",
       "      <td>d1</td>\n",
       "      <td>12</td>\n",
       "      <td>ft</td>\n",
       "      <td>Lahore</td>\n",
       "      <td>2022-01-05</td>\n",
       "      <td>2000</td>\n",
       "    </tr>\n",
       "    <tr>\n",
       "      <th>16</th>\n",
       "      <td>2</td>\n",
       "      <td>b1</td>\n",
       "      <td>17</td>\n",
       "      <td>ft</td>\n",
       "      <td>Lahore</td>\n",
       "      <td>2022-01-05</td>\n",
       "      <td>2000</td>\n",
       "    </tr>\n",
       "    <tr>\n",
       "      <th>21</th>\n",
       "      <td>1</td>\n",
       "      <td>a1</td>\n",
       "      <td>22</td>\n",
       "      <td>ft</td>\n",
       "      <td>karachi</td>\n",
       "      <td>2022-01-05</td>\n",
       "      <td>2000</td>\n",
       "    </tr>\n",
       "    <tr>\n",
       "      <th>26</th>\n",
       "      <td>2</td>\n",
       "      <td>b1</td>\n",
       "      <td>27</td>\n",
       "      <td>ft</td>\n",
       "      <td>Lahore</td>\n",
       "      <td>2022-01-05</td>\n",
       "      <td>2000</td>\n",
       "    </tr>\n",
       "    <tr>\n",
       "      <th>31</th>\n",
       "      <td>1</td>\n",
       "      <td>a1</td>\n",
       "      <td>32</td>\n",
       "      <td>ft</td>\n",
       "      <td>karachi</td>\n",
       "      <td>2022-01-05</td>\n",
       "      <td>2000</td>\n",
       "    </tr>\n",
       "    <tr>\n",
       "      <th>36</th>\n",
       "      <td>2</td>\n",
       "      <td>b1</td>\n",
       "      <td>37</td>\n",
       "      <td>ft</td>\n",
       "      <td>karachi</td>\n",
       "      <td>2022-01-05</td>\n",
       "      <td>2000</td>\n",
       "    </tr>\n",
       "  </tbody>\n",
       "</table>\n",
       "</div>"
      ],
      "text/plain": [
       "    user id account no  transaction id type     city       date  amount\n",
       "1         1         a1               2   ft  karachi 2022-01-05    2000\n",
       "6         2         b1               7   ft  karachi 2022-01-05    2000\n",
       "11        6         d1              12   ft   Lahore 2022-01-05    2000\n",
       "16        2         b1              17   ft   Lahore 2022-01-05    2000\n",
       "21        1         a1              22   ft  karachi 2022-01-05    2000\n",
       "26        2         b1              27   ft   Lahore 2022-01-05    2000\n",
       "31        1         a1              32   ft  karachi 2022-01-05    2000\n",
       "36        2         b1              37   ft  karachi 2022-01-05    2000"
      ]
     },
     "execution_count": 76,
     "metadata": {},
     "output_type": "execute_result"
    }
   ],
   "source": [
    "df[(df['date']=='2022-01-05') & (df['type']=='ft')]"
   ]
  },
  {
   "cell_type": "markdown",
   "metadata": {},
   "source": [
    "# Visualization with pandas"
   ]
  },
  {
   "cell_type": "code",
   "execution_count": 94,
   "metadata": {},
   "outputs": [
    {
     "data": {
      "text/plain": [
       "<AxesSubplot:xlabel='city'>"
      ]
     },
     "execution_count": 94,
     "metadata": {},
     "output_type": "execute_result"
    },
    {
     "data": {
      "image/png": "[encoded data removed]",
      "text/plain": [
       "<Figure size 432x288 with 1 Axes>"
      ]
     },
     "metadata": {
      "needs_background": "light"
     },
     "output_type": "display_data"
    }
   ],
   "source": [
    "df.groupby(['city'])['amount'].agg(['count','sum']).plot(kind='bar')"
   ]
  },
  {
   "cell_type": "code",
   "execution_count": 96,
   "metadata": {},
   "outputs": [
    {
     "data": {
      "text/plain": [
       "<AxesSubplot:xlabel='city'>"
      ]
     },
     "execution_count": 96,
     "metadata": {},
     "output_type": "execute_result"
    },
    {
     "data": {
      "image/png": "[encoded data removed]",
      "text/plain": [
       "<Figure size 432x288 with 1 Axes>"
      ]
     },
     "metadata": {
      "needs_background": "light"
     },
     "output_type": "display_data"
    }
   ],
   "source": [
    "df.groupby(['city'])['amount'].agg(['count']).plot(kind='bar')"
   ]
  },
  {
   "cell_type": "code",
   "execution_count": 100,
   "metadata": {},
   "outputs": [
    {
     "data": {
      "text/plain": [
       "<AxesSubplot:xlabel='city'>"
      ]
     },
     "execution_count": 100,
     "metadata": {},
     "output_type": "execute_result"
    },
    {
     "data": {
      "image/png": "[encoded data removed]",
      "text/plain": [
       "<Figure size 432x288 with 1 Axes>"
      ]
     },
     "metadata": {
      "needs_background": "light"
     },
     "output_type": "display_data"
    }
   ],
   "source": [
    "df.groupby(['city'])['amount'].agg(['sum']).sort_values(['sum'], ascending=False).plot(kind='bar')"
   ]
  },
  {
   "cell_type": "raw",
   "metadata": {},
   "source": [
    "‘bar’ or ‘barh’ for bar plots\n",
    "\n",
    "‘hist’ for histogram\n",
    "\n",
    "‘box’ for boxplot\n",
    "\n",
    "‘kde’ or ‘density’ for density plots\n",
    "\n",
    "‘area’ for area plots\n",
    "\n",
    "‘scatter’ for scatter plots\n",
    "\n",
    "‘hexbin’ for hexagonal bin plots\n",
    "\n",
    "‘pie’ for pie plots"
   ]
  },
  {
   "cell_type": "code",
   "execution_count": 104,
   "metadata": {},
   "outputs": [
    {
     "name": "stdout",
     "output_type": "stream",
     "text": [
      "Object `plot` not found.\n"
     ]
    }
   ],
   "source": [
    "df.groupby(['city'])['amount'].agg(['sum']).sort_values(['sum'], ascending=False).plot()"
   ]
  },
  {
   "cell_type": "code",
   "execution_count": null,
   "metadata": {},
   "outputs": [],
   "source": [
    "df.groupby(['city'])['amount'].agg(['sum']).sort_values(['sum'], ascending=False).plot"
   ]
  },
  {
   "cell_type": "code",
   "execution_count": 109,
   "metadata": {},
   "outputs": [
    {
     "data": {
      "text/plain": [
       "<AxesSubplot:>"
      ]
     },
     "execution_count": 109,
     "metadata": {},
     "output_type": "execute_result"
    },
    {
     "data": {
      "image/png": "[encoded data removed]",
      "text/plain": [
       "<Figure size 432x288 with 1 Axes>"
      ]
     },
     "metadata": {
      "needs_background": "light"
     },
     "output_type": "display_data"
    }
   ],
   "source": [
    "df.groupby(['city'])['amount'].agg(['sum']).plot(kind='box')"
   ]
  },
  {
   "cell_type": "markdown",
   "metadata": {},
   "source": [
    "# Matplotlib "
   ]
  },
  {
   "cell_type": "code",
   "execution_count": 111,
   "metadata": {},
   "outputs": [],
   "source": [
    "import matplotlib.pyplot as plt"
   ]
  },
  {
   "cell_type": "code",
   "execution_count": 113,
   "metadata": {},
   "outputs": [
    {
     "data": {
      "image/png": "[encoded data removed]",
      "text/plain": [
       "<Figure size 432x288 with 1 Axes>"
      ]
     },
     "metadata": {
      "needs_background": "light"
     },
     "output_type": "display_data"
    }
   ],
   "source": [
    "x = [1, 2, 3, 4]\n",
    "y =[1, 4, 2, 3]\n",
    "\n",
    "plt.plot(x,y)\n",
    "plt.show()"
   ]
  },
  {
   "cell_type": "code",
   "execution_count": 114,
   "metadata": {},
   "outputs": [
    {
     "data": {
      "image/png": "[encoded data removed]",
      "text/plain": [
       "<Figure size 432x288 with 1 Axes>"
      ]
     },
     "metadata": {
      "needs_background": "light"
     },
     "output_type": "display_data"
    }
   ],
   "source": [
    "x = [1, 2, 3, 4]\n",
    "y =[1, 4, 2, 3]\n",
    "y1 =[2,6,4,7]\n",
    "\n",
    "plt.plot(x,y)\n",
    "plt.plot(x,y1)\n",
    "plt.show()"
   ]
  },
  {
   "cell_type": "code",
   "execution_count": 115,
   "metadata": {},
   "outputs": [
    {
     "data": {
      "image/png": "[encoded data removed]",
      "text/plain": [
       "<Figure size 432x288 with 1 Axes>"
      ]
     },
     "metadata": {
      "needs_background": "light"
     },
     "output_type": "display_data"
    }
   ],
   "source": [
    "x = [1, 2, 3, 4]\n",
    "y =[1, 4, 2, 3]\n",
    "y1 =[2,6,4,7]\n",
    "\n",
    "plt.title(\"Pak Vs Ind\")\n",
    "plt.plot(x,y)\n",
    "plt.plot(x,y1)\n",
    "plt.show()"
   ]
  },
  {
   "cell_type": "code",
   "execution_count": 116,
   "metadata": {},
   "outputs": [
    {
     "data": {
      "image/png": "[encoded data removed]",
      "text/plain": [
       "<Figure size 432x288 with 1 Axes>"
      ]
     },
     "metadata": {
      "needs_background": "light"
     },
     "output_type": "display_data"
    }
   ],
   "source": [
    "x = [1, 2, 3, 4]\n",
    "y =[1, 4, 2, 3]\n",
    "y1 =[2,6,4,7]\n",
    "\n",
    "plt.title(\"Pak Vs Ind\")\n",
    "plt.xlabel(\"Overs\")\n",
    "plt.ylabel(\"Runs\")\n",
    "\n",
    "\n",
    "plt.plot(x,y)\n",
    "plt.plot(x,y1)\n",
    "\n",
    "\n",
    "plt.show()"
   ]
  },
  {
   "cell_type": "code",
   "execution_count": 120,
   "metadata": {},
   "outputs": [
    {
     "data": {
      "image/png": "[encoded data removed]",
      "text/plain": [
       "<Figure size 432x288 with 1 Axes>"
      ]
     },
     "metadata": {
      "needs_background": "light"
     },
     "output_type": "display_data"
    }
   ],
   "source": [
    "x = [1, 2, 3, 4]\n",
    "y =[1, 4, 2, 3]\n",
    "y1 =[2,6,4,7]\n",
    "y3 = [7,9,3,2]\n",
    "\n",
    "plt.title(\"Pak Vs Ind\")\n",
    "plt.xlabel(\"Overs\")\n",
    "plt.ylabel(\"Runs\")\n",
    "\n",
    "\n",
    "plt.plot(x,y)\n",
    "plt.plot(x,y1, color='g')\n",
    "plt.scatter(x,y3,color='r')\n",
    "\n",
    "\n",
    "plt.show()"
   ]
  },
  {
   "cell_type": "code",
   "execution_count": 127,
   "metadata": {},
   "outputs": [
    {
     "data": {
      "image/png": "[encoded data removed]",
      "text/plain": [
       "<Figure size 432x288 with 1 Axes>"
      ]
     },
     "metadata": {
      "needs_background": "light"
     },
     "output_type": "display_data"
    }
   ],
   "source": [
    "x = [1, 2, 3, 4]\n",
    "y =[1, 4, 2, 3]\n",
    "y1 =[2,6,4,7]\n",
    "y3 = [7,9,3,2]\n",
    "\n",
    "plt.title(\"Pak Vs Ind\")\n",
    "plt.xlabel(\"Overs\")\n",
    "plt.ylabel(\"Runs\")\n",
    "\n",
    "plt.plot(x,y, label=\"abc\")\n",
    "plt.plot(x,y1, color='g', label=\"xyz\")\n",
    "plt.scatter(x,y3,color='r',label='efg')\n",
    "\n",
    "\n",
    "plt.legend()\n",
    "plt.show()"
   ]
  },
  {
   "cell_type": "code",
   "execution_count": null,
   "metadata": {},
   "outputs": [],
   "source": []
  },
  {
   "cell_type": "code",
   "execution_count": null,
   "metadata": {},
   "outputs": [],
   "source": [
    "fig, ax = plt.subplots()  # Create a figure containing a single axes.\n",
    "ax.plot(, );  # Plot some data on the axes."
   ]
  }
 ],
 "metadata": {
  "kernelspec": {
   "display_name": "Python 3",
   "language": "python",
   "name": "python3"
  },
  "language_info": {
   "codemirror_mode": {
    "name": "ipython",
    "version": 3
   },
   "file_extension": ".py",
   "mimetype": "text/x-python",
   "name": "python",
   "nbconvert_exporter": "python",
   "pygments_lexer": "ipython3",
   "version": "3.7.6"
  }
 },
 "nbformat": 4,
 "nbformat_minor": 4
}
