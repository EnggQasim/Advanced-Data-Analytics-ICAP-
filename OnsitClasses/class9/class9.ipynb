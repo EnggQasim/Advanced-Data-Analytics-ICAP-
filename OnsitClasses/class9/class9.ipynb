{
 "cells": [
  {
   "cell_type": "markdown",
   "metadata": {},
   "source": [
    "# Pandas\n",
    "* DataFrame\n",
    "    * Series\n",
    "        * Cell/Value\n",
    "        * Series DataTypes\n",
    "            * Datetime\n",
    "            * Object/String\n",
    "        * Series has own Methods/attributes\n",
    "    * DataFrame also has own methods and attributes"
   ]
  },
  {
   "cell_type": "markdown",
   "metadata": {},
   "source": [
    "# Series"
   ]
  },
  {
   "cell_type": "code",
   "execution_count": 2,
   "metadata": {},
   "outputs": [],
   "source": [
    "import pandas as pd"
   ]
  },
  {
   "cell_type": "markdown",
   "metadata": {},
   "source": [
    "## create series with list"
   ]
  },
  {
   "cell_type": "code",
   "execution_count": 7,
   "metadata": {},
   "outputs": [
    {
     "name": "stdout",
     "output_type": "stream",
     "text": [
      "<class 'list'>\n"
     ]
    },
    {
     "data": {
      "text/plain": [
       "[1, 3, 2, 6, 9]"
      ]
     },
     "execution_count": 7,
     "metadata": {},
     "output_type": "execute_result"
    }
   ],
   "source": [
    "list1 = [1,3,2,6,9]\n",
    "print(type(list1))\n",
    "list1"
   ]
  },
  {
   "cell_type": "code",
   "execution_count": 6,
   "metadata": {},
   "outputs": [
    {
     "name": "stdout",
     "output_type": "stream",
     "text": [
      "<class 'pandas.core.series.Series'>\n"
     ]
    },
    {
     "data": {
      "text/plain": [
       "0    1\n",
       "1    3\n",
       "2    2\n",
       "3    6\n",
       "4    9\n",
       "dtype: int64"
      ]
     },
     "execution_count": 6,
     "metadata": {},
     "output_type": "execute_result"
    }
   ],
   "source": [
    "list1 = [1,3,2,6,9]\n",
    "s1 = pd.Series(list1)\n",
    "print(type(s1))\n",
    "s1"
   ]
  },
  {
   "cell_type": "code",
   "execution_count": 8,
   "metadata": {},
   "outputs": [
    {
     "data": {
      "text/plain": [
       "0    1\n",
       "1    2\n",
       "2    3\n",
       "3    4\n",
       "4    5\n",
       "5    6\n",
       "dtype: int64"
      ]
     },
     "execution_count": 8,
     "metadata": {},
     "output_type": "execute_result"
    }
   ],
   "source": [
    "s1 = pd.Series([1,2,3,4,5,6])\n",
    "s1"
   ]
  },
  {
   "cell_type": "code",
   "execution_count": 10,
   "metadata": {},
   "outputs": [
    {
     "data": {
      "text/plain": [
       "0    1\n",
       "1    2\n",
       "2    3\n",
       "3    4\n",
       "4    5\n",
       "5    6\n",
       "dtype: int64"
      ]
     },
     "execution_count": 10,
     "metadata": {},
     "output_type": "execute_result"
    }
   ],
   "source": [
    "#create list with tuple\n",
    "s1 = pd.Series((1,2,3,4,5,6))\n",
    "s1"
   ]
  },
  {
   "cell_type": "markdown",
   "metadata": {},
   "source": [
    "# Create Series with custome index values"
   ]
  },
  {
   "cell_type": "code",
   "execution_count": 11,
   "metadata": {},
   "outputs": [
    {
     "data": {
      "text/plain": [
       "a    1\n",
       "b    2\n",
       "c    3\n",
       "dtype: int64"
      ]
     },
     "execution_count": 11,
     "metadata": {},
     "output_type": "execute_result"
    }
   ],
   "source": [
    "s1 = pd.Series([1,2,3],['a','b','c'])\n",
    "s1"
   ]
  },
  {
   "cell_type": "code",
   "execution_count": 13,
   "metadata": {},
   "outputs": [
    {
     "data": {
      "text/plain": [
       "a    1\n",
       "b    2\n",
       "c    3\n",
       "dtype: int64"
      ]
     },
     "execution_count": 13,
     "metadata": {},
     "output_type": "execute_result"
    }
   ],
   "source": [
    "s1 = pd.Series({\n",
    "    \"a\":1,\n",
    "    \"b\":2,\n",
    "    \"c\":3\n",
    "})\n",
    "s1"
   ]
  },
  {
   "cell_type": "code",
   "execution_count": 27,
   "metadata": {},
   "outputs": [
    {
     "data": {
      "text/plain": [
       "DatetimeIndex(['2022-01-01', '2022-01-02', '2022-01-03', '2022-01-04',\n",
       "               '2022-01-05', '2022-01-06', '2022-01-07', '2022-01-08',\n",
       "               '2022-01-09', '2022-01-10', '2022-01-11', '2022-01-12',\n",
       "               '2022-01-13', '2022-01-14', '2022-01-15', '2022-01-16',\n",
       "               '2022-01-17', '2022-01-18', '2022-01-19', '2022-01-20',\n",
       "               '2022-01-21', '2022-01-22', '2022-01-23', '2022-01-24',\n",
       "               '2022-01-25', '2022-01-26', '2022-01-27', '2022-01-28',\n",
       "               '2022-01-29', '2022-01-30', '2022-01-31'],\n",
       "              dtype='datetime64[ns]', freq='D')"
      ]
     },
     "execution_count": 27,
     "metadata": {},
     "output_type": "execute_result"
    }
   ],
   "source": [
    "#date format year-month-day\n",
    "date_range = pd.date_range(\"2022-01-01\",\"2022-01-31\")\n",
    "date_range"
   ]
  },
  {
   "cell_type": "code",
   "execution_count": 32,
   "metadata": {},
   "outputs": [
    {
     "data": {
      "text/plain": [
       "Index(['01-Jan-2022', '01-Jan-2022', '01-Jan-2022', '01-Jan-2022',\n",
       "       '01-Jan-2022', '01-Jan-2022', '01-Jan-2022', '01-Jan-2022',\n",
       "       '01-Jan-2022', '01-Jan-2022', '01-Jan-2022', '01-Jan-2022',\n",
       "       '01-Jan-2022', '01-Jan-2022', '01-Jan-2022', '01-Jan-2022',\n",
       "       '01-Jan-2022', '01-Jan-2022', '01-Jan-2022', '01-Jan-2022',\n",
       "       '01-Jan-2022', '01-Jan-2022', '01-Jan-2022', '01-Jan-2022',\n",
       "       '01-Jan-2022', '01-Jan-2022', '01-Jan-2022', '01-Jan-2022',\n",
       "       '01-Jan-2022', '01-Jan-2022', '01-Jan-2022', '01-Jan-2022',\n",
       "       '01-Jan-2022', '01-Jan-2022', '01-Jan-2022', '01-Jan-2022',\n",
       "       '01-Jan-2022', '01-Jan-2022', '01-Jan-2022', '01-Jan-2022',\n",
       "       '01-Jan-2022', '01-Jan-2022', '01-Jan-2022', '01-Jan-2022',\n",
       "       '01-Jan-2022', '01-Jan-2022', '01-Jan-2022', '01-Jan-2022',\n",
       "       '02-Jan-2022'],\n",
       "      dtype='object')"
      ]
     },
     "execution_count": 32,
     "metadata": {},
     "output_type": "execute_result"
    }
   ],
   "source": [
    "date_range.strftime(\"%d-%b-%Y\")\n",
    "#https://www.programiz.com/python-programming/datetime/strftime"
   ]
  },
  {
   "cell_type": "code",
   "execution_count": 26,
   "metadata": {},
   "outputs": [
    {
     "data": {
      "text/plain": [
       "DatetimeIndex(['2022-01-01 00:00:00', '2022-01-01 02:00:00',\n",
       "               '2022-01-01 04:00:00', '2022-01-01 06:00:00',\n",
       "               '2022-01-01 08:00:00', '2022-01-01 10:00:00',\n",
       "               '2022-01-01 12:00:00', '2022-01-01 14:00:00',\n",
       "               '2022-01-01 16:00:00', '2022-01-01 18:00:00',\n",
       "               '2022-01-01 20:00:00', '2022-01-01 22:00:00',\n",
       "               '2022-01-02 00:00:00'],\n",
       "              dtype='datetime64[ns]', freq='2H')"
      ]
     },
     "execution_count": 26,
     "metadata": {},
     "output_type": "execute_result"
    }
   ],
   "source": [
    "date_range = pd.date_range(\"2022-01-01\",\"2022-01-02\", freq=\"2H\")\n",
    "date_range"
   ]
  },
  {
   "cell_type": "code",
   "execution_count": 31,
   "metadata": {},
   "outputs": [
    {
     "data": {
      "text/plain": [
       "DatetimeIndex(['2022-01-01 00:00:00', '2022-01-01 00:30:00',\n",
       "               '2022-01-01 01:00:00', '2022-01-01 01:30:00',\n",
       "               '2022-01-01 02:00:00', '2022-01-01 02:30:00',\n",
       "               '2022-01-01 03:00:00', '2022-01-01 03:30:00',\n",
       "               '2022-01-01 04:00:00', '2022-01-01 04:30:00',\n",
       "               '2022-01-01 05:00:00', '2022-01-01 05:30:00',\n",
       "               '2022-01-01 06:00:00', '2022-01-01 06:30:00',\n",
       "               '2022-01-01 07:00:00', '2022-01-01 07:30:00',\n",
       "               '2022-01-01 08:00:00', '2022-01-01 08:30:00',\n",
       "               '2022-01-01 09:00:00', '2022-01-01 09:30:00',\n",
       "               '2022-01-01 10:00:00', '2022-01-01 10:30:00',\n",
       "               '2022-01-01 11:00:00', '2022-01-01 11:30:00',\n",
       "               '2022-01-01 12:00:00', '2022-01-01 12:30:00',\n",
       "               '2022-01-01 13:00:00', '2022-01-01 13:30:00',\n",
       "               '2022-01-01 14:00:00', '2022-01-01 14:30:00',\n",
       "               '2022-01-01 15:00:00', '2022-01-01 15:30:00',\n",
       "               '2022-01-01 16:00:00', '2022-01-01 16:30:00',\n",
       "               '2022-01-01 17:00:00', '2022-01-01 17:30:00',\n",
       "               '2022-01-01 18:00:00', '2022-01-01 18:30:00',\n",
       "               '2022-01-01 19:00:00', '2022-01-01 19:30:00',\n",
       "               '2022-01-01 20:00:00', '2022-01-01 20:30:00',\n",
       "               '2022-01-01 21:00:00', '2022-01-01 21:30:00',\n",
       "               '2022-01-01 22:00:00', '2022-01-01 22:30:00',\n",
       "               '2022-01-01 23:00:00', '2022-01-01 23:30:00',\n",
       "               '2022-01-02 00:00:00'],\n",
       "              dtype='datetime64[ns]', freq='30T')"
      ]
     },
     "execution_count": 31,
     "metadata": {},
     "output_type": "execute_result"
    }
   ],
   "source": [
    "date_range = pd.date_range(\"2022-01-01\",\"2022-01-02\", freq=\"30min\")\n",
    "date_range"
   ]
  },
  {
   "cell_type": "markdown",
   "metadata": {},
   "source": [
    "# Important function for series"
   ]
  },
  {
   "cell_type": "markdown",
   "metadata": {},
   "source": [
    "* map\n",
    "* filter\n",
    "* apply"
   ]
  },
  {
   "cell_type": "code",
   "execution_count": 46,
   "metadata": {},
   "outputs": [
    {
     "name": "stdout",
     "output_type": "stream",
     "text": [
      "0    81\n",
      "1    65\n",
      "2    83\n",
      "3    73\n",
      "4    77\n",
      "dtype: int64\n"
     ]
    }
   ],
   "source": [
    "# ASCII code \n",
    "# A=65- Z-90\n",
    "# a=97 - z=122\n",
    "\n",
    "abc_maping = {\n",
    " 65: 'A',\n",
    " 66: 'B',\n",
    " 67: 'C',\n",
    " 68: 'D',\n",
    " 69: 'E',\n",
    " 70: 'F',\n",
    " 71: 'G',\n",
    " 72: 'H',\n",
    " 73: 'I',\n",
    " 74: 'J',\n",
    " 75: 'K',\n",
    " 76: 'L',\n",
    " 77: 'M',\n",
    " 78: 'N',\n",
    " 79: 'O',\n",
    " 80: 'P',\n",
    " 81: 'Q',\n",
    " 82: 'R',\n",
    " 83: 'S',\n",
    " 84: 'T',\n",
    " 85: 'U',\n",
    " 86: 'V',\n",
    " 87: 'W',\n",
    " 88: 'X',\n",
    " 89: 'Y',\n",
    " 90: 'Z'\n",
    "}\n",
    "\n",
    "\n",
    "codes = pd.Series([81,65,83,73,77])\n",
    "print(codes)\n"
   ]
  },
  {
   "cell_type": "code",
   "execution_count": 48,
   "metadata": {},
   "outputs": [
    {
     "data": {
      "text/plain": [
       "0    N\n",
       "1    O\n",
       "2    M\n",
       "3    A\n",
       "4    N\n",
       "dtype: object"
      ]
     },
     "execution_count": 48,
     "metadata": {},
     "output_type": "execute_result"
    }
   ],
   "source": [
    "codes = pd.Series([78,79,77,65,78])\n",
    "codes.map(abc_maping)"
   ]
  },
  {
   "cell_type": "raw",
   "metadata": {},
   "source": [
    "abc_mp = {i:chr(i) for i in range(65,91)}\n",
    "abc_mp"
   ]
  },
  {
   "cell_type": "markdown",
   "metadata": {},
   "source": [
    "### Filter"
   ]
  },
  {
   "cell_type": "code",
   "execution_count": 54,
   "metadata": {},
   "outputs": [
    {
     "data": {
      "text/plain": [
       "0       1\n",
       "1       2\n",
       "2       3\n",
       "3       4\n",
       "4       5\n",
       "     ... \n",
       "95     96\n",
       "96     97\n",
       "97     98\n",
       "98     99\n",
       "99    100\n",
       "Length: 100, dtype: int64"
      ]
     },
     "execution_count": 54,
     "metadata": {},
     "output_type": "execute_result"
    }
   ],
   "source": [
    "s2 = pd.Series(list(range(1,101)))\n",
    "s2"
   ]
  },
  {
   "cell_type": "code",
   "execution_count": 56,
   "metadata": {},
   "outputs": [
    {
     "data": {
      "text/html": [
       "<div>\n",
       "<style scoped>\n",
       "    .dataframe tbody tr th:only-of-type {\n",
       "        vertical-align: middle;\n",
       "    }\n",
       "\n",
       "    .dataframe tbody tr th {\n",
       "        vertical-align: top;\n",
       "    }\n",
       "\n",
       "    .dataframe thead th {\n",
       "        text-align: right;\n",
       "    }\n",
       "</style>\n",
       "<table border=\"1\" class=\"dataframe\">\n",
       "  <thead>\n",
       "    <tr style=\"text-align: right;\">\n",
       "      <th></th>\n",
       "      <th>one</th>\n",
       "      <th>two</th>\n",
       "      <th>three</th>\n",
       "    </tr>\n",
       "  </thead>\n",
       "  <tbody>\n",
       "    <tr>\n",
       "      <th>mouse</th>\n",
       "      <td>1</td>\n",
       "      <td>2</td>\n",
       "      <td>3</td>\n",
       "    </tr>\n",
       "    <tr>\n",
       "      <th>rabbit</th>\n",
       "      <td>4</td>\n",
       "      <td>5</td>\n",
       "      <td>6</td>\n",
       "    </tr>\n",
       "  </tbody>\n",
       "</table>\n",
       "</div>"
      ],
      "text/plain": [
       "        one  two  three\n",
       "mouse     1    2      3\n",
       "rabbit    4    5      6"
      ]
     },
     "execution_count": 56,
     "metadata": {},
     "output_type": "execute_result"
    }
   ],
   "source": [
    "import numpy as np\n",
    "df = pd.DataFrame(np.array(([1, 2, 3], [4, 5, 6])),\n",
    "                  index=['mouse', 'rabbit'],\n",
    "                  columns=['one', 'two', 'three'])\n",
    "df"
   ]
  },
  {
   "cell_type": "code",
   "execution_count": 57,
   "metadata": {},
   "outputs": [
    {
     "data": {
      "text/html": [
       "<div>\n",
       "<style scoped>\n",
       "    .dataframe tbody tr th:only-of-type {\n",
       "        vertical-align: middle;\n",
       "    }\n",
       "\n",
       "    .dataframe tbody tr th {\n",
       "        vertical-align: top;\n",
       "    }\n",
       "\n",
       "    .dataframe thead th {\n",
       "        text-align: right;\n",
       "    }\n",
       "</style>\n",
       "<table border=\"1\" class=\"dataframe\">\n",
       "  <thead>\n",
       "    <tr style=\"text-align: right;\">\n",
       "      <th></th>\n",
       "      <th>one</th>\n",
       "      <th>three</th>\n",
       "    </tr>\n",
       "  </thead>\n",
       "  <tbody>\n",
       "    <tr>\n",
       "      <th>mouse</th>\n",
       "      <td>1</td>\n",
       "      <td>3</td>\n",
       "    </tr>\n",
       "    <tr>\n",
       "      <th>rabbit</th>\n",
       "      <td>4</td>\n",
       "      <td>6</td>\n",
       "    </tr>\n",
       "  </tbody>\n",
       "</table>\n",
       "</div>"
      ],
      "text/plain": [
       "        one  three\n",
       "mouse     1      3\n",
       "rabbit    4      6"
      ]
     },
     "execution_count": 57,
     "metadata": {},
     "output_type": "execute_result"
    }
   ],
   "source": [
    "# select columns by name\n",
    "df.filter(items=['one', 'three'])\n"
   ]
  },
  {
   "cell_type": "code",
   "execution_count": 64,
   "metadata": {},
   "outputs": [
    {
     "data": {
      "text/html": [
       "<div>\n",
       "<style scoped>\n",
       "    .dataframe tbody tr th:only-of-type {\n",
       "        vertical-align: middle;\n",
       "    }\n",
       "\n",
       "    .dataframe tbody tr th {\n",
       "        vertical-align: top;\n",
       "    }\n",
       "\n",
       "    .dataframe thead th {\n",
       "        text-align: right;\n",
       "    }\n",
       "</style>\n",
       "<table border=\"1\" class=\"dataframe\">\n",
       "  <thead>\n",
       "    <tr style=\"text-align: right;\">\n",
       "      <th></th>\n",
       "      <th>two</th>\n",
       "    </tr>\n",
       "  </thead>\n",
       "  <tbody>\n",
       "    <tr>\n",
       "      <th>mouse</th>\n",
       "      <td>2</td>\n",
       "    </tr>\n",
       "    <tr>\n",
       "      <th>rabbit</th>\n",
       "      <td>5</td>\n",
       "    </tr>\n",
       "  </tbody>\n",
       "</table>\n",
       "</div>"
      ],
      "text/plain": [
       "        two\n",
       "mouse     2\n",
       "rabbit    5"
      ]
     },
     "execution_count": 64,
     "metadata": {},
     "output_type": "execute_result"
    }
   ],
   "source": [
    "# select columns by regular expression\n",
    "df.filter(regex='o$', axis=1)\n"
   ]
  },
  {
   "cell_type": "markdown",
   "metadata": {},
   "source": [
    "# Apply Method for series"
   ]
  },
  {
   "cell_type": "code",
   "execution_count": 67,
   "metadata": {},
   "outputs": [
    {
     "data": {
      "text/plain": [
       "0    67\n",
       "1    57\n",
       "2    98\n",
       "3    84\n",
       "4    61\n",
       "5    89\n",
       "6    71\n",
       "7    60\n",
       "8    51\n",
       "9    91\n",
       "dtype: int64"
      ]
     },
     "execution_count": 67,
     "metadata": {},
     "output_type": "execute_result"
    }
   ],
   "source": [
    "# apply alternate of loop\n",
    "percentages = pd.Series(np.random.randint(40,100,size=10))\n",
    "percentages\n"
   ]
  },
  {
   "cell_type": "code",
   "execution_count": 70,
   "metadata": {},
   "outputs": [
    {
     "name": "stdout",
     "output_type": "stream",
     "text": [
      "0     B\n",
      "1     C\n",
      "2    A+\n",
      "3    A+\n",
      "4     B\n",
      "5    A+\n",
      "6     A\n",
      "7     B\n",
      "8     C\n",
      "9    A+\n",
      "dtype: object\n",
      "0    67\n",
      "1    57\n",
      "2    98\n",
      "3    84\n",
      "4    61\n",
      "5    89\n",
      "6    71\n",
      "7    60\n",
      "8    51\n",
      "9    91\n",
      "dtype: int64\n"
     ]
    }
   ],
   "source": [
    "def fn_grading(x):\n",
    "    if x>=80:\n",
    "        return \"A+\"\n",
    "    elif x>=70:\n",
    "        return \"A\"\n",
    "    elif x>=60:\n",
    "        return \"B\"\n",
    "    elif x>=50:\n",
    "        return \"C\"\n",
    "    elif x>=40:\n",
    "        return \"D\"\n",
    "    else:\n",
    "        return \"F\"\n",
    "    \n",
    "print(percentages.apply(fn_grading))\n",
    "print(percentages)"
   ]
  },
  {
   "cell_type": "code",
   "execution_count": null,
   "metadata": {},
   "outputs": [],
   "source": [
    "ser.unique()\n",
    "ser.shape\n",
    "ser.size\n",
    "ser.astype('int')\n",
    "ser.value_counts()\n",
    "ser.to_list()\n",
    "ser.isna()\n",
    "ser.round(2)\n",
    "ser.eq(3)\n"
   ]
  },
  {
   "cell_type": "code",
   "execution_count": 102,
   "metadata": {},
   "outputs": [
    {
     "data": {
      "text/plain": [
       "0     L\n",
       "1     R\n",
       "2     E\n",
       "3     A\n",
       "4     O\n",
       "5     E\n",
       "6     K\n",
       "7     M\n",
       "8     K\n",
       "9     K\n",
       "10    X\n",
       "11    O\n",
       "12    J\n",
       "13    S\n",
       "14    M\n",
       "15    T\n",
       "16    X\n",
       "17    I\n",
       "18    F\n",
       "19    Q\n",
       "20    D\n",
       "21    B\n",
       "22    O\n",
       "23    B\n",
       "24    M\n",
       "25    T\n",
       "26    K\n",
       "27    D\n",
       "28    D\n",
       "29    B\n",
       "30    C\n",
       "31    O\n",
       "32    I\n",
       "33    G\n",
       "34    H\n",
       "35    L\n",
       "36    D\n",
       "37    P\n",
       "38    B\n",
       "39    K\n",
       "Name: A, dtype: object"
      ]
     },
     "execution_count": 102,
     "metadata": {},
     "output_type": "execute_result"
    }
   ],
   "source": [
    "s1 = pd.DataFrame(np.random.randint(65,90,size=40),columns=[\"A\"], dtype=np.int64)\n",
    "s1 = s1.A.apply(chr)\n",
    "s1"
   ]
  },
  {
   "cell_type": "code",
   "execution_count": 103,
   "metadata": {},
   "outputs": [
    {
     "data": {
      "text/plain": [
       "['A',\n",
       " 'B',\n",
       " 'C',\n",
       " 'D',\n",
       " 'E',\n",
       " 'F',\n",
       " 'G',\n",
       " 'H',\n",
       " 'I',\n",
       " 'J',\n",
       " 'K',\n",
       " 'L',\n",
       " 'M',\n",
       " 'O',\n",
       " 'P',\n",
       " 'Q',\n",
       " 'R',\n",
       " 'S',\n",
       " 'T',\n",
       " 'X']"
      ]
     },
     "execution_count": 103,
     "metadata": {},
     "output_type": "execute_result"
    }
   ],
   "source": [
    "sorted(s1.unique()) # show unique value"
   ]
  },
  {
   "cell_type": "code",
   "execution_count": 104,
   "metadata": {},
   "outputs": [
    {
     "data": {
      "text/plain": [
       "K    5\n",
       "B    4\n",
       "D    4\n",
       "O    4\n",
       "M    3\n",
       "L    2\n",
       "I    2\n",
       "T    2\n",
       "X    2\n",
       "E    2\n",
       "J    1\n",
       "S    1\n",
       "R    1\n",
       "F    1\n",
       "Q    1\n",
       "A    1\n",
       "C    1\n",
       "G    1\n",
       "H    1\n",
       "P    1\n",
       "Name: A, dtype: int64"
      ]
     },
     "execution_count": 104,
     "metadata": {},
     "output_type": "execute_result"
    }
   ],
   "source": [
    "s1.value_counts()"
   ]
  },
  {
   "cell_type": "code",
   "execution_count": 105,
   "metadata": {},
   "outputs": [
    {
     "data": {
      "text/plain": [
       "0    khi\n",
       "1    isb\n",
       "2    NaN\n",
       "3    lhr\n",
       "4    khi\n",
       "5    NaN\n",
       "dtype: object"
      ]
     },
     "execution_count": 105,
     "metadata": {},
     "output_type": "execute_result"
    }
   ],
   "source": [
    "s2 = pd.Series(['khi','isb',np.nan,'lhr','khi', np.nan])\n",
    "s2"
   ]
  },
  {
   "cell_type": "code",
   "execution_count": 106,
   "metadata": {},
   "outputs": [
    {
     "data": {
      "text/plain": [
       "khi    2\n",
       "isb    1\n",
       "lhr    1\n",
       "dtype: int64"
      ]
     },
     "execution_count": 106,
     "metadata": {},
     "output_type": "execute_result"
    }
   ],
   "source": [
    "s2.value_counts()"
   ]
  },
  {
   "cell_type": "code",
   "execution_count": 107,
   "metadata": {},
   "outputs": [
    {
     "data": {
      "text/plain": [
       "khi    2\n",
       "NaN    2\n",
       "isb    1\n",
       "lhr    1\n",
       "dtype: int64"
      ]
     },
     "execution_count": 107,
     "metadata": {},
     "output_type": "execute_result"
    }
   ],
   "source": [
    "s2.value_counts(dropna=False)"
   ]
  },
  {
   "cell_type": "code",
   "execution_count": 108,
   "metadata": {},
   "outputs": [
    {
     "data": {
      "text/plain": [
       "0    False\n",
       "1    False\n",
       "2     True\n",
       "3    False\n",
       "4    False\n",
       "5     True\n",
       "dtype: bool"
      ]
     },
     "execution_count": 108,
     "metadata": {},
     "output_type": "execute_result"
    }
   ],
   "source": [
    "s2.isnull()"
   ]
  },
  {
   "cell_type": "code",
   "execution_count": 109,
   "metadata": {},
   "outputs": [
    {
     "data": {
      "text/plain": [
       "2"
      ]
     },
     "execution_count": 109,
     "metadata": {},
     "output_type": "execute_result"
    }
   ],
   "source": [
    "s2.isnull().sum()"
   ]
  },
  {
   "cell_type": "code",
   "execution_count": 110,
   "metadata": {},
   "outputs": [
    {
     "data": {
      "text/plain": [
       "0     L\n",
       "1     R\n",
       "2     E\n",
       "3     A\n",
       "4     O\n",
       "5     E\n",
       "6     K\n",
       "7     M\n",
       "8     K\n",
       "9     K\n",
       "10    X\n",
       "11    O\n",
       "12    J\n",
       "13    S\n",
       "14    M\n",
       "15    T\n",
       "16    X\n",
       "17    I\n",
       "18    F\n",
       "19    Q\n",
       "20    D\n",
       "21    B\n",
       "22    O\n",
       "23    B\n",
       "24    M\n",
       "25    T\n",
       "26    K\n",
       "27    D\n",
       "28    D\n",
       "29    B\n",
       "30    C\n",
       "31    O\n",
       "32    I\n",
       "33    G\n",
       "34    H\n",
       "35    L\n",
       "36    D\n",
       "37    P\n",
       "38    B\n",
       "39    K\n",
       "Name: A, dtype: object"
      ]
     },
     "execution_count": 110,
     "metadata": {},
     "output_type": "execute_result"
    }
   ],
   "source": [
    "s1"
   ]
  },
  {
   "cell_type": "code",
   "execution_count": 111,
   "metadata": {},
   "outputs": [
    {
     "data": {
      "text/plain": [
       "array(['L', 'R', 'E', 'A', 'O', 'E', 'K', 'M', 'K', 'K', 'X', 'O', 'J',\n",
       "       'S', 'M', 'T', 'X', 'I', 'F', 'Q', 'D', 'B', 'O', 'B', 'M', 'T',\n",
       "       'K', 'D', 'D', 'B', 'C', 'O', 'I', 'G', 'H', 'L', 'D', 'P', 'B',\n",
       "       'K'], dtype=object)"
      ]
     },
     "execution_count": 111,
     "metadata": {},
     "output_type": "execute_result"
    }
   ],
   "source": [
    "s1.values"
   ]
  },
  {
   "cell_type": "code",
   "execution_count": 112,
   "metadata": {},
   "outputs": [
    {
     "data": {
      "text/plain": [
       "RangeIndex(start=0, stop=40, step=1)"
      ]
     },
     "execution_count": 112,
     "metadata": {},
     "output_type": "execute_result"
    }
   ],
   "source": [
    "s1.index"
   ]
  },
  {
   "cell_type": "code",
   "execution_count": 113,
   "metadata": {},
   "outputs": [
    {
     "data": {
      "text/plain": [
       "['L',\n",
       " 'R',\n",
       " 'E',\n",
       " 'A',\n",
       " 'O',\n",
       " 'E',\n",
       " 'K',\n",
       " 'M',\n",
       " 'K',\n",
       " 'K',\n",
       " 'X',\n",
       " 'O',\n",
       " 'J',\n",
       " 'S',\n",
       " 'M',\n",
       " 'T',\n",
       " 'X',\n",
       " 'I',\n",
       " 'F',\n",
       " 'Q',\n",
       " 'D',\n",
       " 'B',\n",
       " 'O',\n",
       " 'B',\n",
       " 'M',\n",
       " 'T',\n",
       " 'K',\n",
       " 'D',\n",
       " 'D',\n",
       " 'B',\n",
       " 'C',\n",
       " 'O',\n",
       " 'I',\n",
       " 'G',\n",
       " 'H',\n",
       " 'L',\n",
       " 'D',\n",
       " 'P',\n",
       " 'B',\n",
       " 'K']"
      ]
     },
     "execution_count": 113,
     "metadata": {},
     "output_type": "execute_result"
    }
   ],
   "source": [
    "#convert series into list\n",
    "s1.to_list()"
   ]
  },
  {
   "cell_type": "code",
   "execution_count": 115,
   "metadata": {},
   "outputs": [
    {
     "data": {
      "text/plain": [
       "'E'"
      ]
     },
     "execution_count": 115,
     "metadata": {},
     "output_type": "execute_result"
    }
   ],
   "source": [
    "s1[2]"
   ]
  },
  {
   "cell_type": "code",
   "execution_count": 116,
   "metadata": {},
   "outputs": [
    {
     "data": {
      "text/plain": [
       "36    D\n",
       "37    P\n",
       "38    B\n",
       "39    K\n",
       "Name: A, dtype: object"
      ]
     },
     "execution_count": 116,
     "metadata": {},
     "output_type": "execute_result"
    }
   ],
   "source": [
    "s1[-4:]"
   ]
  },
  {
   "cell_type": "code",
   "execution_count": 117,
   "metadata": {},
   "outputs": [
    {
     "data": {
      "text/plain": [
       "(40,)"
      ]
     },
     "execution_count": 117,
     "metadata": {},
     "output_type": "execute_result"
    }
   ],
   "source": [
    "s1.shape"
   ]
  },
  {
   "cell_type": "code",
   "execution_count": 118,
   "metadata": {},
   "outputs": [
    {
     "data": {
      "text/plain": [
       "40"
      ]
     },
     "execution_count": 118,
     "metadata": {},
     "output_type": "execute_result"
    }
   ],
   "source": [
    "s1.size"
   ]
  },
  {
   "cell_type": "code",
   "execution_count": 119,
   "metadata": {},
   "outputs": [
    {
     "data": {
      "text/plain": [
       "dtype('O')"
      ]
     },
     "execution_count": 119,
     "metadata": {},
     "output_type": "execute_result"
    }
   ],
   "source": [
    "s1.dtype"
   ]
  },
  {
   "cell_type": "code",
   "execution_count": 122,
   "metadata": {},
   "outputs": [
    {
     "name": "stdout",
     "output_type": "stream",
     "text": [
      "0    0.060283\n",
      "1    0.812757\n",
      "2    0.881443\n",
      "3    0.853465\n",
      "4    0.289647\n",
      "5    0.049404\n",
      "6    0.403892\n",
      "7    0.842360\n",
      "8    0.146397\n",
      "9    0.686237\n",
      "dtype: float64\n"
     ]
    },
    {
     "data": {
      "text/plain": [
       "0    0.06\n",
       "1    0.81\n",
       "2    0.88\n",
       "3    0.85\n",
       "4    0.29\n",
       "5    0.05\n",
       "6    0.40\n",
       "7    0.84\n",
       "8    0.15\n",
       "9    0.69\n",
       "dtype: float64"
      ]
     },
     "execution_count": 122,
     "metadata": {},
     "output_type": "execute_result"
    }
   ],
   "source": [
    "a = pd.Series(np.random.random(10))\n",
    "print(a)\n",
    "a.round(2)"
   ]
  },
  {
   "cell_type": "code",
   "execution_count": 126,
   "metadata": {},
   "outputs": [
    {
     "data": {
      "text/plain": [
       "0      0.0\n",
       "1      1.0\n",
       "2      2.0\n",
       "3      3.0\n",
       "4      4.0\n",
       "5      5.0\n",
       "6      6.0\n",
       "7      7.0\n",
       "8      8.0\n",
       "9      9.0\n",
       "10    10.0\n",
       "11    11.0\n",
       "12    12.0\n",
       "13    13.0\n",
       "14    14.0\n",
       "15    15.0\n",
       "16    16.0\n",
       "17    17.0\n",
       "18    18.0\n",
       "19    19.0\n",
       "dtype: float64"
      ]
     },
     "execution_count": 126,
     "metadata": {},
     "output_type": "execute_result"
    }
   ],
   "source": [
    "a = pd.Series(list(range(20)), dtype=np.float)\n",
    "a"
   ]
  },
  {
   "cell_type": "code",
   "execution_count": 127,
   "metadata": {},
   "outputs": [
    {
     "data": {
      "text/plain": [
       "0      0\n",
       "1      1\n",
       "2      2\n",
       "3      3\n",
       "4      4\n",
       "5      5\n",
       "6      6\n",
       "7      7\n",
       "8      8\n",
       "9      9\n",
       "10    10\n",
       "11    11\n",
       "12    12\n",
       "13    13\n",
       "14    14\n",
       "15    15\n",
       "16    16\n",
       "17    17\n",
       "18    18\n",
       "19    19\n",
       "dtype: int64"
      ]
     },
     "execution_count": 127,
     "metadata": {},
     "output_type": "execute_result"
    }
   ],
   "source": [
    "a.astype(np.int64)"
   ]
  },
  {
   "cell_type": "code",
   "execution_count": null,
   "metadata": {},
   "outputs": [],
   "source": []
  },
  {
   "cell_type": "code",
   "execution_count": null,
   "metadata": {},
   "outputs": [],
   "source": []
  },
  {
   "cell_type": "markdown",
   "metadata": {},
   "source": [
    "# DAtaFrame"
   ]
  },
  {
   "cell_type": "code",
   "execution_count": null,
   "metadata": {},
   "outputs": [],
   "source": []
  },
  {
   "cell_type": "code",
   "execution_count": null,
   "metadata": {},
   "outputs": [],
   "source": []
  },
  {
   "cell_type": "markdown",
   "metadata": {},
   "source": [
    "#### create dataframe with json api"
   ]
  },
  {
   "cell_type": "code",
   "execution_count": 15,
   "metadata": {},
   "outputs": [
    {
     "data": {
      "text/html": [
       "<div>\n",
       "<style scoped>\n",
       "    .dataframe tbody tr th:only-of-type {\n",
       "        vertical-align: middle;\n",
       "    }\n",
       "\n",
       "    .dataframe tbody tr th {\n",
       "        vertical-align: top;\n",
       "    }\n",
       "\n",
       "    .dataframe thead th {\n",
       "        text-align: right;\n",
       "    }\n",
       "</style>\n",
       "<table border=\"1\" class=\"dataframe\">\n",
       "  <thead>\n",
       "    <tr style=\"text-align: right;\">\n",
       "      <th></th>\n",
       "      <th>login</th>\n",
       "      <th>id</th>\n",
       "      <th>node_id</th>\n",
       "      <th>url</th>\n",
       "      <th>repos_url</th>\n",
       "      <th>events_url</th>\n",
       "      <th>hooks_url</th>\n",
       "      <th>issues_url</th>\n",
       "      <th>members_url</th>\n",
       "      <th>public_members_url</th>\n",
       "      <th>avatar_url</th>\n",
       "      <th>description</th>\n",
       "    </tr>\n",
       "  </thead>\n",
       "  <tbody>\n",
       "    <tr>\n",
       "      <th>0</th>\n",
       "      <td>ggobi</td>\n",
       "      <td>423638</td>\n",
       "      <td>MDEyOk9yZ2FuaXphdGlvbjQyMzYzOA==</td>\n",
       "      <td>https://api.github.com/orgs/ggobi</td>\n",
       "      <td>https://api.github.com/orgs/ggobi/repos</td>\n",
       "      <td>https://api.github.com/orgs/ggobi/events</td>\n",
       "      <td>https://api.github.com/orgs/ggobi/hooks</td>\n",
       "      <td>https://api.github.com/orgs/ggobi/issues</td>\n",
       "      <td>https://api.github.com/orgs/ggobi/members{/mem...</td>\n",
       "      <td>https://api.github.com/orgs/ggobi/public_membe...</td>\n",
       "      <td>https://avatars.githubusercontent.com/u/423638...</td>\n",
       "      <td></td>\n",
       "    </tr>\n",
       "    <tr>\n",
       "      <th>1</th>\n",
       "      <td>rstudio</td>\n",
       "      <td>513560</td>\n",
       "      <td>MDEyOk9yZ2FuaXphdGlvbjUxMzU2MA==</td>\n",
       "      <td>https://api.github.com/orgs/rstudio</td>\n",
       "      <td>https://api.github.com/orgs/rstudio/repos</td>\n",
       "      <td>https://api.github.com/orgs/rstudio/events</td>\n",
       "      <td>https://api.github.com/orgs/rstudio/hooks</td>\n",
       "      <td>https://api.github.com/orgs/rstudio/issues</td>\n",
       "      <td>https://api.github.com/orgs/rstudio/members{/m...</td>\n",
       "      <td>https://api.github.com/orgs/rstudio/public_mem...</td>\n",
       "      <td>https://avatars.githubusercontent.com/u/513560...</td>\n",
       "      <td></td>\n",
       "    </tr>\n",
       "    <tr>\n",
       "      <th>2</th>\n",
       "      <td>rstats</td>\n",
       "      <td>722735</td>\n",
       "      <td>MDEyOk9yZ2FuaXphdGlvbjcyMjczNQ==</td>\n",
       "      <td>https://api.github.com/orgs/rstats</td>\n",
       "      <td>https://api.github.com/orgs/rstats/repos</td>\n",
       "      <td>https://api.github.com/orgs/rstats/events</td>\n",
       "      <td>https://api.github.com/orgs/rstats/hooks</td>\n",
       "      <td>https://api.github.com/orgs/rstats/issues</td>\n",
       "      <td>https://api.github.com/orgs/rstats/members{/me...</td>\n",
       "      <td>https://api.github.com/orgs/rstats/public_memb...</td>\n",
       "      <td>https://avatars.githubusercontent.com/u/722735...</td>\n",
       "      <td>None</td>\n",
       "    </tr>\n",
       "    <tr>\n",
       "      <th>3</th>\n",
       "      <td>ropensci</td>\n",
       "      <td>1200269</td>\n",
       "      <td>MDEyOk9yZ2FuaXphdGlvbjEyMDAyNjk=</td>\n",
       "      <td>https://api.github.com/orgs/ropensci</td>\n",
       "      <td>https://api.github.com/orgs/ropensci/repos</td>\n",
       "      <td>https://api.github.com/orgs/ropensci/events</td>\n",
       "      <td>https://api.github.com/orgs/ropensci/hooks</td>\n",
       "      <td>https://api.github.com/orgs/ropensci/issues</td>\n",
       "      <td>https://api.github.com/orgs/ropensci/members{/...</td>\n",
       "      <td>https://api.github.com/orgs/ropensci/public_me...</td>\n",
       "      <td>https://avatars.githubusercontent.com/u/120026...</td>\n",
       "      <td></td>\n",
       "    </tr>\n",
       "    <tr>\n",
       "      <th>4</th>\n",
       "      <td>rjournal</td>\n",
       "      <td>3330561</td>\n",
       "      <td>MDEyOk9yZ2FuaXphdGlvbjMzMzA1NjE=</td>\n",
       "      <td>https://api.github.com/orgs/rjournal</td>\n",
       "      <td>https://api.github.com/orgs/rjournal/repos</td>\n",
       "      <td>https://api.github.com/orgs/rjournal/events</td>\n",
       "      <td>https://api.github.com/orgs/rjournal/hooks</td>\n",
       "      <td>https://api.github.com/orgs/rjournal/issues</td>\n",
       "      <td>https://api.github.com/orgs/rjournal/members{/...</td>\n",
       "      <td>https://api.github.com/orgs/rjournal/public_me...</td>\n",
       "      <td>https://avatars.githubusercontent.com/u/333056...</td>\n",
       "      <td>None</td>\n",
       "    </tr>\n",
       "    <tr>\n",
       "      <th>5</th>\n",
       "      <td>r-dbi</td>\n",
       "      <td>5695665</td>\n",
       "      <td>MDEyOk9yZ2FuaXphdGlvbjU2OTU2NjU=</td>\n",
       "      <td>https://api.github.com/orgs/r-dbi</td>\n",
       "      <td>https://api.github.com/orgs/r-dbi/repos</td>\n",
       "      <td>https://api.github.com/orgs/r-dbi/events</td>\n",
       "      <td>https://api.github.com/orgs/r-dbi/hooks</td>\n",
       "      <td>https://api.github.com/orgs/r-dbi/issues</td>\n",
       "      <td>https://api.github.com/orgs/r-dbi/members{/mem...</td>\n",
       "      <td>https://api.github.com/orgs/r-dbi/public_membe...</td>\n",
       "      <td>https://avatars.githubusercontent.com/u/569566...</td>\n",
       "      <td>R + databases</td>\n",
       "    </tr>\n",
       "    <tr>\n",
       "      <th>6</th>\n",
       "      <td>RConsortium</td>\n",
       "      <td>15366137</td>\n",
       "      <td>MDEyOk9yZ2FuaXphdGlvbjE1MzY2MTM3</td>\n",
       "      <td>https://api.github.com/orgs/RConsortium</td>\n",
       "      <td>https://api.github.com/orgs/RConsortium/repos</td>\n",
       "      <td>https://api.github.com/orgs/RConsortium/events</td>\n",
       "      <td>https://api.github.com/orgs/RConsortium/hooks</td>\n",
       "      <td>https://api.github.com/orgs/RConsortium/issues</td>\n",
       "      <td>https://api.github.com/orgs/RConsortium/member...</td>\n",
       "      <td>https://api.github.com/orgs/RConsortium/public...</td>\n",
       "      <td>https://avatars.githubusercontent.com/u/153661...</td>\n",
       "      <td>The R Consortium, Inc was established to provi...</td>\n",
       "    </tr>\n",
       "    <tr>\n",
       "      <th>7</th>\n",
       "      <td>tidyverse</td>\n",
       "      <td>22032646</td>\n",
       "      <td>MDEyOk9yZ2FuaXphdGlvbjIyMDMyNjQ2</td>\n",
       "      <td>https://api.github.com/orgs/tidyverse</td>\n",
       "      <td>https://api.github.com/orgs/tidyverse/repos</td>\n",
       "      <td>https://api.github.com/orgs/tidyverse/events</td>\n",
       "      <td>https://api.github.com/orgs/tidyverse/hooks</td>\n",
       "      <td>https://api.github.com/orgs/tidyverse/issues</td>\n",
       "      <td>https://api.github.com/orgs/tidyverse/members{...</td>\n",
       "      <td>https://api.github.com/orgs/tidyverse/public_m...</td>\n",
       "      <td>https://avatars.githubusercontent.com/u/220326...</td>\n",
       "      <td>The tidyverse is a collection of R packages th...</td>\n",
       "    </tr>\n",
       "    <tr>\n",
       "      <th>8</th>\n",
       "      <td>r-lib</td>\n",
       "      <td>22618716</td>\n",
       "      <td>MDEyOk9yZ2FuaXphdGlvbjIyNjE4NzE2</td>\n",
       "      <td>https://api.github.com/orgs/r-lib</td>\n",
       "      <td>https://api.github.com/orgs/r-lib/repos</td>\n",
       "      <td>https://api.github.com/orgs/r-lib/events</td>\n",
       "      <td>https://api.github.com/orgs/r-lib/hooks</td>\n",
       "      <td>https://api.github.com/orgs/r-lib/issues</td>\n",
       "      <td>https://api.github.com/orgs/r-lib/members{/mem...</td>\n",
       "      <td>https://api.github.com/orgs/r-lib/public_membe...</td>\n",
       "      <td>https://avatars.githubusercontent.com/u/226187...</td>\n",
       "      <td></td>\n",
       "    </tr>\n",
       "    <tr>\n",
       "      <th>9</th>\n",
       "      <td>rstudio-education</td>\n",
       "      <td>34165516</td>\n",
       "      <td>MDEyOk9yZ2FuaXphdGlvbjM0MTY1NTE2</td>\n",
       "      <td>https://api.github.com/orgs/rstudio-education</td>\n",
       "      <td>https://api.github.com/orgs/rstudio-education/...</td>\n",
       "      <td>https://api.github.com/orgs/rstudio-education/...</td>\n",
       "      <td>https://api.github.com/orgs/rstudio-education/...</td>\n",
       "      <td>https://api.github.com/orgs/rstudio-education/...</td>\n",
       "      <td>https://api.github.com/orgs/rstudio-education/...</td>\n",
       "      <td>https://api.github.com/orgs/rstudio-education/...</td>\n",
       "      <td>https://avatars.githubusercontent.com/u/341655...</td>\n",
       "      <td></td>\n",
       "    </tr>\n",
       "  </tbody>\n",
       "</table>\n",
       "</div>"
      ],
      "text/plain": [
       "               login        id                           node_id  \\\n",
       "0              ggobi    423638  MDEyOk9yZ2FuaXphdGlvbjQyMzYzOA==   \n",
       "1            rstudio    513560  MDEyOk9yZ2FuaXphdGlvbjUxMzU2MA==   \n",
       "2             rstats    722735  MDEyOk9yZ2FuaXphdGlvbjcyMjczNQ==   \n",
       "3           ropensci   1200269  MDEyOk9yZ2FuaXphdGlvbjEyMDAyNjk=   \n",
       "4           rjournal   3330561  MDEyOk9yZ2FuaXphdGlvbjMzMzA1NjE=   \n",
       "5              r-dbi   5695665  MDEyOk9yZ2FuaXphdGlvbjU2OTU2NjU=   \n",
       "6        RConsortium  15366137  MDEyOk9yZ2FuaXphdGlvbjE1MzY2MTM3   \n",
       "7          tidyverse  22032646  MDEyOk9yZ2FuaXphdGlvbjIyMDMyNjQ2   \n",
       "8              r-lib  22618716  MDEyOk9yZ2FuaXphdGlvbjIyNjE4NzE2   \n",
       "9  rstudio-education  34165516  MDEyOk9yZ2FuaXphdGlvbjM0MTY1NTE2   \n",
       "\n",
       "                                             url  \\\n",
       "0              https://api.github.com/orgs/ggobi   \n",
       "1            https://api.github.com/orgs/rstudio   \n",
       "2             https://api.github.com/orgs/rstats   \n",
       "3           https://api.github.com/orgs/ropensci   \n",
       "4           https://api.github.com/orgs/rjournal   \n",
       "5              https://api.github.com/orgs/r-dbi   \n",
       "6        https://api.github.com/orgs/RConsortium   \n",
       "7          https://api.github.com/orgs/tidyverse   \n",
       "8              https://api.github.com/orgs/r-lib   \n",
       "9  https://api.github.com/orgs/rstudio-education   \n",
       "\n",
       "                                           repos_url  \\\n",
       "0            https://api.github.com/orgs/ggobi/repos   \n",
       "1          https://api.github.com/orgs/rstudio/repos   \n",
       "2           https://api.github.com/orgs/rstats/repos   \n",
       "3         https://api.github.com/orgs/ropensci/repos   \n",
       "4         https://api.github.com/orgs/rjournal/repos   \n",
       "5            https://api.github.com/orgs/r-dbi/repos   \n",
       "6      https://api.github.com/orgs/RConsortium/repos   \n",
       "7        https://api.github.com/orgs/tidyverse/repos   \n",
       "8            https://api.github.com/orgs/r-lib/repos   \n",
       "9  https://api.github.com/orgs/rstudio-education/...   \n",
       "\n",
       "                                          events_url  \\\n",
       "0           https://api.github.com/orgs/ggobi/events   \n",
       "1         https://api.github.com/orgs/rstudio/events   \n",
       "2          https://api.github.com/orgs/rstats/events   \n",
       "3        https://api.github.com/orgs/ropensci/events   \n",
       "4        https://api.github.com/orgs/rjournal/events   \n",
       "5           https://api.github.com/orgs/r-dbi/events   \n",
       "6     https://api.github.com/orgs/RConsortium/events   \n",
       "7       https://api.github.com/orgs/tidyverse/events   \n",
       "8           https://api.github.com/orgs/r-lib/events   \n",
       "9  https://api.github.com/orgs/rstudio-education/...   \n",
       "\n",
       "                                           hooks_url  \\\n",
       "0            https://api.github.com/orgs/ggobi/hooks   \n",
       "1          https://api.github.com/orgs/rstudio/hooks   \n",
       "2           https://api.github.com/orgs/rstats/hooks   \n",
       "3         https://api.github.com/orgs/ropensci/hooks   \n",
       "4         https://api.github.com/orgs/rjournal/hooks   \n",
       "5            https://api.github.com/orgs/r-dbi/hooks   \n",
       "6      https://api.github.com/orgs/RConsortium/hooks   \n",
       "7        https://api.github.com/orgs/tidyverse/hooks   \n",
       "8            https://api.github.com/orgs/r-lib/hooks   \n",
       "9  https://api.github.com/orgs/rstudio-education/...   \n",
       "\n",
       "                                          issues_url  \\\n",
       "0           https://api.github.com/orgs/ggobi/issues   \n",
       "1         https://api.github.com/orgs/rstudio/issues   \n",
       "2          https://api.github.com/orgs/rstats/issues   \n",
       "3        https://api.github.com/orgs/ropensci/issues   \n",
       "4        https://api.github.com/orgs/rjournal/issues   \n",
       "5           https://api.github.com/orgs/r-dbi/issues   \n",
       "6     https://api.github.com/orgs/RConsortium/issues   \n",
       "7       https://api.github.com/orgs/tidyverse/issues   \n",
       "8           https://api.github.com/orgs/r-lib/issues   \n",
       "9  https://api.github.com/orgs/rstudio-education/...   \n",
       "\n",
       "                                         members_url  \\\n",
       "0  https://api.github.com/orgs/ggobi/members{/mem...   \n",
       "1  https://api.github.com/orgs/rstudio/members{/m...   \n",
       "2  https://api.github.com/orgs/rstats/members{/me...   \n",
       "3  https://api.github.com/orgs/ropensci/members{/...   \n",
       "4  https://api.github.com/orgs/rjournal/members{/...   \n",
       "5  https://api.github.com/orgs/r-dbi/members{/mem...   \n",
       "6  https://api.github.com/orgs/RConsortium/member...   \n",
       "7  https://api.github.com/orgs/tidyverse/members{...   \n",
       "8  https://api.github.com/orgs/r-lib/members{/mem...   \n",
       "9  https://api.github.com/orgs/rstudio-education/...   \n",
       "\n",
       "                                  public_members_url  \\\n",
       "0  https://api.github.com/orgs/ggobi/public_membe...   \n",
       "1  https://api.github.com/orgs/rstudio/public_mem...   \n",
       "2  https://api.github.com/orgs/rstats/public_memb...   \n",
       "3  https://api.github.com/orgs/ropensci/public_me...   \n",
       "4  https://api.github.com/orgs/rjournal/public_me...   \n",
       "5  https://api.github.com/orgs/r-dbi/public_membe...   \n",
       "6  https://api.github.com/orgs/RConsortium/public...   \n",
       "7  https://api.github.com/orgs/tidyverse/public_m...   \n",
       "8  https://api.github.com/orgs/r-lib/public_membe...   \n",
       "9  https://api.github.com/orgs/rstudio-education/...   \n",
       "\n",
       "                                          avatar_url  \\\n",
       "0  https://avatars.githubusercontent.com/u/423638...   \n",
       "1  https://avatars.githubusercontent.com/u/513560...   \n",
       "2  https://avatars.githubusercontent.com/u/722735...   \n",
       "3  https://avatars.githubusercontent.com/u/120026...   \n",
       "4  https://avatars.githubusercontent.com/u/333056...   \n",
       "5  https://avatars.githubusercontent.com/u/569566...   \n",
       "6  https://avatars.githubusercontent.com/u/153661...   \n",
       "7  https://avatars.githubusercontent.com/u/220326...   \n",
       "8  https://avatars.githubusercontent.com/u/226187...   \n",
       "9  https://avatars.githubusercontent.com/u/341655...   \n",
       "\n",
       "                                         description  \n",
       "0                                                     \n",
       "1                                                     \n",
       "2                                               None  \n",
       "3                                                     \n",
       "4                                               None  \n",
       "5                                      R + databases  \n",
       "6  The R Consortium, Inc was established to provi...  \n",
       "7  The tidyverse is a collection of R packages th...  \n",
       "8                                                     \n",
       "9                                                     "
      ]
     },
     "execution_count": 15,
     "metadata": {},
     "output_type": "execute_result"
    }
   ],
   "source": [
    "df1 = pd.read_json(\"https://api.github.com/users/hadley/orgs\")\n",
    "df1"
   ]
  },
  {
   "cell_type": "markdown",
   "metadata": {},
   "source": [
    "# create dataframe from csv file"
   ]
  },
  {
   "cell_type": "code",
   "execution_count": 16,
   "metadata": {},
   "outputs": [
    {
     "data": {
      "text/html": [
       "<div>\n",
       "<style scoped>\n",
       "    .dataframe tbody tr th:only-of-type {\n",
       "        vertical-align: middle;\n",
       "    }\n",
       "\n",
       "    .dataframe tbody tr th {\n",
       "        vertical-align: top;\n",
       "    }\n",
       "\n",
       "    .dataframe thead th {\n",
       "        text-align: right;\n",
       "    }\n",
       "</style>\n",
       "<table border=\"1\" class=\"dataframe\">\n",
       "  <thead>\n",
       "    <tr style=\"text-align: right;\">\n",
       "      <th></th>\n",
       "      <th>Unnamed: 0</th>\n",
       "      <th>Rank</th>\n",
       "      <th>NCTId</th>\n",
       "      <th>BriefTitle</th>\n",
       "      <th>Condition</th>\n",
       "      <th>StudyType</th>\n",
       "      <th>EligibilityCriteria</th>\n",
       "      <th>EnrollmentCount</th>\n",
       "      <th>LocationCity</th>\n",
       "      <th>LocationCountry</th>\n",
       "      <th>...</th>\n",
       "      <th>MinimumAge</th>\n",
       "      <th>MaximumAge</th>\n",
       "      <th>OverallStatus</th>\n",
       "      <th>Phase</th>\n",
       "      <th>ResponsiblePartyInvestigatorFullName</th>\n",
       "      <th>ResponsiblePartyInvestigatorAffiliation</th>\n",
       "      <th>LeadSponsorName</th>\n",
       "      <th>InterventionName</th>\n",
       "      <th>StartDate</th>\n",
       "      <th>CentralContactName</th>\n",
       "    </tr>\n",
       "  </thead>\n",
       "  <tbody>\n",
       "    <tr>\n",
       "      <th>0</th>\n",
       "      <td>0</td>\n",
       "      <td>1</td>\n",
       "      <td>NCT04875351</td>\n",
       "      <td>Breast Cancer Index (BCI) Registry</td>\n",
       "      <td>Breast Cancer</td>\n",
       "      <td>Observational</td>\n",
       "      <td>Inclusion Criteria:\\n\\nEarly stage (I, II or I...</td>\n",
       "      <td>3000.0</td>\n",
       "      <td>Daphne</td>\n",
       "      <td>United States</td>\n",
       "      <td>...</td>\n",
       "      <td>18 Years</td>\n",
       "      <td>NaN</td>\n",
       "      <td>Recruiting</td>\n",
       "      <td>NaN</td>\n",
       "      <td>NaN</td>\n",
       "      <td>NaN</td>\n",
       "      <td>Biotheranostics, Inc.</td>\n",
       "      <td>Breast Cancer Index (BCI) Risk of Recurrence &amp;...</td>\n",
       "      <td>April 14, 2021</td>\n",
       "      <td>Brandon N O'Neal, MS</td>\n",
       "    </tr>\n",
       "    <tr>\n",
       "      <th>1</th>\n",
       "      <td>1</td>\n",
       "      <td>2</td>\n",
       "      <td>NCT03180086</td>\n",
       "      <td>Breast Cancer Risk Assessment in Women Aged 40-49</td>\n",
       "      <td>Breast Cancer</td>\n",
       "      <td>Interventional</td>\n",
       "      <td>Inclusion Criteria:\\n\\nwomen\\naged 40-49 years...</td>\n",
       "      <td>338.0</td>\n",
       "      <td>Boston</td>\n",
       "      <td>United States</td>\n",
       "      <td>...</td>\n",
       "      <td>40 Years</td>\n",
       "      <td>49 Years</td>\n",
       "      <td>Active, not recruiting</td>\n",
       "      <td>Not Applicable</td>\n",
       "      <td>Mara Schonberg</td>\n",
       "      <td>Beth Israel Deaconess Medical Center</td>\n",
       "      <td>Beth Israel Deaconess Medical Center</td>\n",
       "      <td>Breast cancer risk report</td>\n",
       "      <td>July 1, 2017</td>\n",
       "      <td>NaN</td>\n",
       "    </tr>\n",
       "    <tr>\n",
       "      <th>2</th>\n",
       "      <td>2</td>\n",
       "      <td>3</td>\n",
       "      <td>NCT03662633</td>\n",
       "      <td>Diagnosis Value of SEMA4C in Breast Cancer</td>\n",
       "      <td>Breast Neoplasm Female</td>\n",
       "      <td>Observational</td>\n",
       "      <td>Inclusion Criteria:\\n\\nReceiving no treatment ...</td>\n",
       "      <td>2300.0</td>\n",
       "      <td>NaN</td>\n",
       "      <td>NaN</td>\n",
       "      <td>...</td>\n",
       "      <td>18 Years</td>\n",
       "      <td>80 Years</td>\n",
       "      <td>Not yet recruiting</td>\n",
       "      <td>NaN</td>\n",
       "      <td>Qinglei Gao</td>\n",
       "      <td>Tongji Hospital</td>\n",
       "      <td>Tongji Hospital</td>\n",
       "      <td>Breast cancer group</td>\n",
       "      <td>September 1, 2022</td>\n",
       "      <td>Qinglei Gao, MD, PhD</td>\n",
       "    </tr>\n",
       "    <tr>\n",
       "      <th>3</th>\n",
       "      <td>3</td>\n",
       "      <td>4</td>\n",
       "      <td>NCT02493569</td>\n",
       "      <td>A Multicenter Study of Clinical Epidemiology o...</td>\n",
       "      <td>Breast Cancer</td>\n",
       "      <td>Observational</td>\n",
       "      <td>Inclusion Criteria:\\n\\nFemale patients;\\nThe h...</td>\n",
       "      <td>3000.0</td>\n",
       "      <td>NaN</td>\n",
       "      <td>NaN</td>\n",
       "      <td>...</td>\n",
       "      <td>NaN</td>\n",
       "      <td>NaN</td>\n",
       "      <td>Unknown status</td>\n",
       "      <td>NaN</td>\n",
       "      <td>NaN</td>\n",
       "      <td>NaN</td>\n",
       "      <td>First Affiliated Hospital Xi'an Jiaotong Unive...</td>\n",
       "      <td>The radical mastectomy of breast cancer</td>\n",
       "      <td>October 2016</td>\n",
       "      <td>Yu Ren, MD,PhD</td>\n",
       "    </tr>\n",
       "    <tr>\n",
       "      <th>4</th>\n",
       "      <td>4</td>\n",
       "      <td>5</td>\n",
       "      <td>NCT03598660</td>\n",
       "      <td>Role of Sorcin and Annexin A3 in Breast Cancer...</td>\n",
       "      <td>Breast Cancer</td>\n",
       "      <td>Observational</td>\n",
       "      <td>Inclusion Criteria:\\n\\nbreast cancer patients ...</td>\n",
       "      <td>80.0</td>\n",
       "      <td>NaN</td>\n",
       "      <td>NaN</td>\n",
       "      <td>...</td>\n",
       "      <td>20 Years</td>\n",
       "      <td>75 Years</td>\n",
       "      <td>Unknown status</td>\n",
       "      <td>NaN</td>\n",
       "      <td>Reham I El-mahdy</td>\n",
       "      <td>Assiut University</td>\n",
       "      <td>Assiut University</td>\n",
       "      <td>Sorcin gene expression</td>\n",
       "      <td>January 20, 2019</td>\n",
       "      <td>reham elmahdy</td>\n",
       "    </tr>\n",
       "    <tr>\n",
       "      <th>...</th>\n",
       "      <td>...</td>\n",
       "      <td>...</td>\n",
       "      <td>...</td>\n",
       "      <td>...</td>\n",
       "      <td>...</td>\n",
       "      <td>...</td>\n",
       "      <td>...</td>\n",
       "      <td>...</td>\n",
       "      <td>...</td>\n",
       "      <td>...</td>\n",
       "      <td>...</td>\n",
       "      <td>...</td>\n",
       "      <td>...</td>\n",
       "      <td>...</td>\n",
       "      <td>...</td>\n",
       "      <td>...</td>\n",
       "      <td>...</td>\n",
       "      <td>...</td>\n",
       "      <td>...</td>\n",
       "      <td>...</td>\n",
       "      <td>...</td>\n",
       "    </tr>\n",
       "    <tr>\n",
       "      <th>995</th>\n",
       "      <td>995</td>\n",
       "      <td>996</td>\n",
       "      <td>NCT00009945</td>\n",
       "      <td>Clodronate With or Without Chemotherapy and/or...</td>\n",
       "      <td>Breast Cancer</td>\n",
       "      <td>Interventional</td>\n",
       "      <td>Eligibility\\n\\nPatients must have undergone ei...</td>\n",
       "      <td>3323.0</td>\n",
       "      <td>Scottsdale</td>\n",
       "      <td>United States</td>\n",
       "      <td>...</td>\n",
       "      <td>18 Years</td>\n",
       "      <td>NaN</td>\n",
       "      <td>Completed</td>\n",
       "      <td>Phase 3</td>\n",
       "      <td>NaN</td>\n",
       "      <td>NaN</td>\n",
       "      <td>NSABP Foundation Inc</td>\n",
       "      <td>clodronate</td>\n",
       "      <td>January 2001</td>\n",
       "      <td>NaN</td>\n",
       "    </tr>\n",
       "    <tr>\n",
       "      <th>996</th>\n",
       "      <td>996</td>\n",
       "      <td>997</td>\n",
       "      <td>NCT00313248</td>\n",
       "      <td>Evaluation of a New Agent for Treatment of Adv...</td>\n",
       "      <td>Breast Neoplasm</td>\n",
       "      <td>Interventional</td>\n",
       "      <td>Inclusion Criteria:\\n\\nMetastatic breast cance...</td>\n",
       "      <td>65.0</td>\n",
       "      <td>Birmingham</td>\n",
       "      <td>United States</td>\n",
       "      <td>...</td>\n",
       "      <td>18 Years</td>\n",
       "      <td>NaN</td>\n",
       "      <td>Completed</td>\n",
       "      <td>Phase 2</td>\n",
       "      <td>NaN</td>\n",
       "      <td>NaN</td>\n",
       "      <td>Bayer</td>\n",
       "      <td>Sagopilone (ZK 219477)</td>\n",
       "      <td>April 2006</td>\n",
       "      <td>NaN</td>\n",
       "    </tr>\n",
       "    <tr>\n",
       "      <th>997</th>\n",
       "      <td>997</td>\n",
       "      <td>998</td>\n",
       "      <td>NCT00196859</td>\n",
       "      <td>Study in Elderly Patients With Early Breast Ca...</td>\n",
       "      <td>Breast Cancer</td>\n",
       "      <td>Interventional</td>\n",
       "      <td>Inclusion Criteria:\\n\\nWritten informed consen...</td>\n",
       "      <td>1500.0</td>\n",
       "      <td>Mönchengladbach</td>\n",
       "      <td>Germany</td>\n",
       "      <td>...</td>\n",
       "      <td>65 Years</td>\n",
       "      <td>NaN</td>\n",
       "      <td>Completed</td>\n",
       "      <td>Phase 3</td>\n",
       "      <td>NaN</td>\n",
       "      <td>NaN</td>\n",
       "      <td>German Breast Group</td>\n",
       "      <td>Ibandronate, Capecitabine</td>\n",
       "      <td>June 2004</td>\n",
       "      <td>NaN</td>\n",
       "    </tr>\n",
       "    <tr>\n",
       "      <th>998</th>\n",
       "      <td>998</td>\n",
       "      <td>999</td>\n",
       "      <td>NCT02591316</td>\n",
       "      <td>Nutrition, Physical Activity, and Cognition in...</td>\n",
       "      <td>Breast Cancer</td>\n",
       "      <td>Observational</td>\n",
       "      <td>Inclusion Criteria:\\n\\nBreast cancer survivors...</td>\n",
       "      <td>68.0</td>\n",
       "      <td>San Marcos</td>\n",
       "      <td>United States</td>\n",
       "      <td>...</td>\n",
       "      <td>30 Years</td>\n",
       "      <td>70 Years</td>\n",
       "      <td>Completed</td>\n",
       "      <td>NaN</td>\n",
       "      <td>Krystle Zuniga</td>\n",
       "      <td>Texas State University, San Marcos</td>\n",
       "      <td>Texas State University, San Marcos</td>\n",
       "      <td>no intervention</td>\n",
       "      <td>February 2015</td>\n",
       "      <td>NaN</td>\n",
       "    </tr>\n",
       "    <tr>\n",
       "      <th>999</th>\n",
       "      <td>999</td>\n",
       "      <td>1000</td>\n",
       "      <td>NCT01216124</td>\n",
       "      <td>Efficacy and Safety Study of Neoadjuvant Chemo...</td>\n",
       "      <td>Triple Negative Local Advanced Breast Cancer</td>\n",
       "      <td>Expanded Access</td>\n",
       "      <td>Inclusion Criteria:\\n\\nWomen aged from 18 to 6...</td>\n",
       "      <td>NaN</td>\n",
       "      <td>NaN</td>\n",
       "      <td>NaN</td>\n",
       "      <td>...</td>\n",
       "      <td>18 Years</td>\n",
       "      <td>65 Years</td>\n",
       "      <td>Available</td>\n",
       "      <td>NaN</td>\n",
       "      <td>NaN</td>\n",
       "      <td>NaN</td>\n",
       "      <td>Fudan University</td>\n",
       "      <td>docetaxel oxaliplatin</td>\n",
       "      <td>NaN</td>\n",
       "      <td>Zhimin Shao, MD, PHD</td>\n",
       "    </tr>\n",
       "  </tbody>\n",
       "</table>\n",
       "<p>1000 rows × 22 columns</p>\n",
       "</div>"
      ],
      "text/plain": [
       "     Unnamed: 0  Rank        NCTId  \\\n",
       "0             0     1  NCT04875351   \n",
       "1             1     2  NCT03180086   \n",
       "2             2     3  NCT03662633   \n",
       "3             3     4  NCT02493569   \n",
       "4             4     5  NCT03598660   \n",
       "..          ...   ...          ...   \n",
       "995         995   996  NCT00009945   \n",
       "996         996   997  NCT00313248   \n",
       "997         997   998  NCT00196859   \n",
       "998         998   999  NCT02591316   \n",
       "999         999  1000  NCT01216124   \n",
       "\n",
       "                                            BriefTitle  \\\n",
       "0                   Breast Cancer Index (BCI) Registry   \n",
       "1    Breast Cancer Risk Assessment in Women Aged 40-49   \n",
       "2           Diagnosis Value of SEMA4C in Breast Cancer   \n",
       "3    A Multicenter Study of Clinical Epidemiology o...   \n",
       "4    Role of Sorcin and Annexin A3 in Breast Cancer...   \n",
       "..                                                 ...   \n",
       "995  Clodronate With or Without Chemotherapy and/or...   \n",
       "996  Evaluation of a New Agent for Treatment of Adv...   \n",
       "997  Study in Elderly Patients With Early Breast Ca...   \n",
       "998  Nutrition, Physical Activity, and Cognition in...   \n",
       "999  Efficacy and Safety Study of Neoadjuvant Chemo...   \n",
       "\n",
       "                                        Condition        StudyType  \\\n",
       "0                                   Breast Cancer    Observational   \n",
       "1                                   Breast Cancer   Interventional   \n",
       "2                          Breast Neoplasm Female    Observational   \n",
       "3                                   Breast Cancer    Observational   \n",
       "4                                   Breast Cancer    Observational   \n",
       "..                                            ...              ...   \n",
       "995                                 Breast Cancer   Interventional   \n",
       "996                               Breast Neoplasm   Interventional   \n",
       "997                                 Breast Cancer   Interventional   \n",
       "998                                 Breast Cancer    Observational   \n",
       "999  Triple Negative Local Advanced Breast Cancer  Expanded Access   \n",
       "\n",
       "                                   EligibilityCriteria  EnrollmentCount  \\\n",
       "0    Inclusion Criteria:\\n\\nEarly stage (I, II or I...           3000.0   \n",
       "1    Inclusion Criteria:\\n\\nwomen\\naged 40-49 years...            338.0   \n",
       "2    Inclusion Criteria:\\n\\nReceiving no treatment ...           2300.0   \n",
       "3    Inclusion Criteria:\\n\\nFemale patients;\\nThe h...           3000.0   \n",
       "4    Inclusion Criteria:\\n\\nbreast cancer patients ...             80.0   \n",
       "..                                                 ...              ...   \n",
       "995  Eligibility\\n\\nPatients must have undergone ei...           3323.0   \n",
       "996  Inclusion Criteria:\\n\\nMetastatic breast cance...             65.0   \n",
       "997  Inclusion Criteria:\\n\\nWritten informed consen...           1500.0   \n",
       "998  Inclusion Criteria:\\n\\nBreast cancer survivors...             68.0   \n",
       "999  Inclusion Criteria:\\n\\nWomen aged from 18 to 6...              NaN   \n",
       "\n",
       "        LocationCity LocationCountry  ... MinimumAge MaximumAge  \\\n",
       "0             Daphne   United States  ...   18 Years        NaN   \n",
       "1             Boston   United States  ...   40 Years   49 Years   \n",
       "2                NaN             NaN  ...   18 Years   80 Years   \n",
       "3                NaN             NaN  ...        NaN        NaN   \n",
       "4                NaN             NaN  ...   20 Years   75 Years   \n",
       "..               ...             ...  ...        ...        ...   \n",
       "995       Scottsdale   United States  ...   18 Years        NaN   \n",
       "996       Birmingham   United States  ...   18 Years        NaN   \n",
       "997  Mönchengladbach         Germany  ...   65 Years        NaN   \n",
       "998       San Marcos   United States  ...   30 Years   70 Years   \n",
       "999              NaN             NaN  ...   18 Years   65 Years   \n",
       "\n",
       "              OverallStatus           Phase  \\\n",
       "0                Recruiting             NaN   \n",
       "1    Active, not recruiting  Not Applicable   \n",
       "2        Not yet recruiting             NaN   \n",
       "3            Unknown status             NaN   \n",
       "4            Unknown status             NaN   \n",
       "..                      ...             ...   \n",
       "995               Completed         Phase 3   \n",
       "996               Completed         Phase 2   \n",
       "997               Completed         Phase 3   \n",
       "998               Completed             NaN   \n",
       "999               Available             NaN   \n",
       "\n",
       "    ResponsiblePartyInvestigatorFullName  \\\n",
       "0                                    NaN   \n",
       "1                         Mara Schonberg   \n",
       "2                            Qinglei Gao   \n",
       "3                                    NaN   \n",
       "4                       Reham I El-mahdy   \n",
       "..                                   ...   \n",
       "995                                  NaN   \n",
       "996                                  NaN   \n",
       "997                                  NaN   \n",
       "998                       Krystle Zuniga   \n",
       "999                                  NaN   \n",
       "\n",
       "    ResponsiblePartyInvestigatorAffiliation  \\\n",
       "0                                       NaN   \n",
       "1      Beth Israel Deaconess Medical Center   \n",
       "2                           Tongji Hospital   \n",
       "3                                       NaN   \n",
       "4                         Assiut University   \n",
       "..                                      ...   \n",
       "995                                     NaN   \n",
       "996                                     NaN   \n",
       "997                                     NaN   \n",
       "998      Texas State University, San Marcos   \n",
       "999                                     NaN   \n",
       "\n",
       "                                       LeadSponsorName  \\\n",
       "0                                Biotheranostics, Inc.   \n",
       "1                 Beth Israel Deaconess Medical Center   \n",
       "2                                      Tongji Hospital   \n",
       "3    First Affiliated Hospital Xi'an Jiaotong Unive...   \n",
       "4                                    Assiut University   \n",
       "..                                                 ...   \n",
       "995                               NSABP Foundation Inc   \n",
       "996                                              Bayer   \n",
       "997                                German Breast Group   \n",
       "998                 Texas State University, San Marcos   \n",
       "999                                   Fudan University   \n",
       "\n",
       "                                      InterventionName          StartDate  \\\n",
       "0    Breast Cancer Index (BCI) Risk of Recurrence &...     April 14, 2021   \n",
       "1                            Breast cancer risk report       July 1, 2017   \n",
       "2                                  Breast cancer group  September 1, 2022   \n",
       "3              The radical mastectomy of breast cancer       October 2016   \n",
       "4                               Sorcin gene expression   January 20, 2019   \n",
       "..                                                 ...                ...   \n",
       "995                                         clodronate       January 2001   \n",
       "996                             Sagopilone (ZK 219477)         April 2006   \n",
       "997                          Ibandronate, Capecitabine          June 2004   \n",
       "998                                    no intervention      February 2015   \n",
       "999                              docetaxel oxaliplatin                NaN   \n",
       "\n",
       "       CentralContactName  \n",
       "0    Brandon N O'Neal, MS  \n",
       "1                     NaN  \n",
       "2    Qinglei Gao, MD, PhD  \n",
       "3          Yu Ren, MD,PhD  \n",
       "4           reham elmahdy  \n",
       "..                    ...  \n",
       "995                   NaN  \n",
       "996                   NaN  \n",
       "997                   NaN  \n",
       "998                   NaN  \n",
       "999  Zhimin Shao, MD, PHD  \n",
       "\n",
       "[1000 rows x 22 columns]"
      ]
     },
     "execution_count": 16,
     "metadata": {},
     "output_type": "execute_result"
    }
   ],
   "source": [
    "df2 = pd.read_csv(\"./data/cancerDataframe.csv\")\n",
    "df2"
   ]
  },
  {
   "cell_type": "markdown",
   "metadata": {},
   "source": [
    "# Create DataFrame with Excel"
   ]
  },
  {
   "cell_type": "code",
   "execution_count": 17,
   "metadata": {},
   "outputs": [
    {
     "data": {
      "text/html": [
       "<div>\n",
       "<style scoped>\n",
       "    .dataframe tbody tr th:only-of-type {\n",
       "        vertical-align: middle;\n",
       "    }\n",
       "\n",
       "    .dataframe tbody tr th {\n",
       "        vertical-align: top;\n",
       "    }\n",
       "\n",
       "    .dataframe thead th {\n",
       "        text-align: right;\n",
       "    }\n",
       "</style>\n",
       "<table border=\"1\" class=\"dataframe\">\n",
       "  <thead>\n",
       "    <tr style=\"text-align: right;\">\n",
       "      <th></th>\n",
       "      <th>NCTId</th>\n",
       "      <th>BriefTitle</th>\n",
       "      <th>Karnofsky</th>\n",
       "      <th>Inclusion Criteria</th>\n",
       "    </tr>\n",
       "  </thead>\n",
       "  <tbody>\n",
       "    <tr>\n",
       "      <th>0</th>\n",
       "      <td>NCT04875351</td>\n",
       "      <td>Breast Cancer Index (BCI) Registry</td>\n",
       "      <td>NaN</td>\n",
       "      <td>:\\n\\nEarly stage (I, II or III) female breast ...</td>\n",
       "    </tr>\n",
       "    <tr>\n",
       "      <th>1</th>\n",
       "      <td>NCT03180086</td>\n",
       "      <td>Breast Cancer Risk Assessment in Women Aged 40-49</td>\n",
       "      <td>NaN</td>\n",
       "      <td>:\\n\\nwomen\\naged 40-49 years\\nread and speak E...</td>\n",
       "    </tr>\n",
       "    <tr>\n",
       "      <th>2</th>\n",
       "      <td>NCT03662633</td>\n",
       "      <td>Diagnosis Value of SEMA4C in Breast Cancer</td>\n",
       "      <td>NaN</td>\n",
       "      <td>:\\n\\nReceiving no treatment before diagnosis\\n...</td>\n",
       "    </tr>\n",
       "    <tr>\n",
       "      <th>3</th>\n",
       "      <td>NCT02493569</td>\n",
       "      <td>A Multicenter Study of Clinical Epidemiology o...</td>\n",
       "      <td>NaN</td>\n",
       "      <td>:\\n\\nFemale patients;\\nThe hospitalized patien...</td>\n",
       "    </tr>\n",
       "    <tr>\n",
       "      <th>4</th>\n",
       "      <td>NCT03598660</td>\n",
       "      <td>Role of Sorcin and Annexin A3 in Breast Cancer...</td>\n",
       "      <td>NaN</td>\n",
       "      <td>:\\n\\nbreast cancer patients before surgery who...</td>\n",
       "    </tr>\n",
       "    <tr>\n",
       "      <th>...</th>\n",
       "      <td>...</td>\n",
       "      <td>...</td>\n",
       "      <td>...</td>\n",
       "      <td>...</td>\n",
       "    </tr>\n",
       "    <tr>\n",
       "      <th>995</th>\n",
       "      <td>NCT00009945</td>\n",
       "      <td>Clodronate With or Without Chemotherapy and/or...</td>\n",
       "      <td>NaN</td>\n",
       "      <td>Eligibility\\n\\nPatients must have undergone ei...</td>\n",
       "    </tr>\n",
       "    <tr>\n",
       "      <th>996</th>\n",
       "      <td>NCT00313248</td>\n",
       "      <td>Evaluation of a New Agent for Treatment of Adv...</td>\n",
       "      <td>NaN</td>\n",
       "      <td>:\\n\\nMetastatic breast cancer (meaning the can...</td>\n",
       "    </tr>\n",
       "    <tr>\n",
       "      <th>997</th>\n",
       "      <td>NCT00196859</td>\n",
       "      <td>Study in Elderly Patients With Early Breast Ca...</td>\n",
       "      <td>NaN</td>\n",
       "      <td>:\\n\\nWritten informed consent prior to beginni...</td>\n",
       "    </tr>\n",
       "    <tr>\n",
       "      <th>998</th>\n",
       "      <td>NCT02591316</td>\n",
       "      <td>Nutrition, Physical Activity, and Cognition in...</td>\n",
       "      <td>NaN</td>\n",
       "      <td>:\\n\\nBreast cancer survivors must have complet...</td>\n",
       "    </tr>\n",
       "    <tr>\n",
       "      <th>999</th>\n",
       "      <td>NCT01216124</td>\n",
       "      <td>Efficacy and Safety Study of Neoadjuvant Chemo...</td>\n",
       "      <td>NaN</td>\n",
       "      <td>:\\n\\nWomen aged from 18 to 65 years;\\nHistolog...</td>\n",
       "    </tr>\n",
       "  </tbody>\n",
       "</table>\n",
       "<p>1000 rows × 4 columns</p>\n",
       "</div>"
      ],
      "text/plain": [
       "           NCTId                                         BriefTitle Karnofsky  \\\n",
       "0    NCT04875351                 Breast Cancer Index (BCI) Registry       NaN   \n",
       "1    NCT03180086  Breast Cancer Risk Assessment in Women Aged 40-49       NaN   \n",
       "2    NCT03662633         Diagnosis Value of SEMA4C in Breast Cancer       NaN   \n",
       "3    NCT02493569  A Multicenter Study of Clinical Epidemiology o...       NaN   \n",
       "4    NCT03598660  Role of Sorcin and Annexin A3 in Breast Cancer...       NaN   \n",
       "..           ...                                                ...       ...   \n",
       "995  NCT00009945  Clodronate With or Without Chemotherapy and/or...       NaN   \n",
       "996  NCT00313248  Evaluation of a New Agent for Treatment of Adv...       NaN   \n",
       "997  NCT00196859  Study in Elderly Patients With Early Breast Ca...       NaN   \n",
       "998  NCT02591316  Nutrition, Physical Activity, and Cognition in...       NaN   \n",
       "999  NCT01216124  Efficacy and Safety Study of Neoadjuvant Chemo...       NaN   \n",
       "\n",
       "                                    Inclusion Criteria  \n",
       "0    :\\n\\nEarly stage (I, II or III) female breast ...  \n",
       "1    :\\n\\nwomen\\naged 40-49 years\\nread and speak E...  \n",
       "2    :\\n\\nReceiving no treatment before diagnosis\\n...  \n",
       "3    :\\n\\nFemale patients;\\nThe hospitalized patien...  \n",
       "4    :\\n\\nbreast cancer patients before surgery who...  \n",
       "..                                                 ...  \n",
       "995  Eligibility\\n\\nPatients must have undergone ei...  \n",
       "996  :\\n\\nMetastatic breast cancer (meaning the can...  \n",
       "997  :\\n\\nWritten informed consent prior to beginni...  \n",
       "998  :\\n\\nBreast cancer survivors must have complet...  \n",
       "999  :\\n\\nWomen aged from 18 to 65 years;\\nHistolog...  \n",
       "\n",
       "[1000 rows x 4 columns]"
      ]
     },
     "execution_count": 17,
     "metadata": {},
     "output_type": "execute_result"
    }
   ],
   "source": [
    "#./ go farward from current path\n",
    "#../Go backward from current path\n",
    "df3 = pd.read_excel(\"./data/Inclusion Criteria_1.xlsx)                    \n",
    "df3"
   ]
  },
  {
   "cell_type": "code",
   "execution_count": 23,
   "metadata": {},
   "outputs": [
    {
     "data": {
      "text/html": [
       "<div>\n",
       "<style scoped>\n",
       "    .dataframe tbody tr th:only-of-type {\n",
       "        vertical-align: middle;\n",
       "    }\n",
       "\n",
       "    .dataframe tbody tr th {\n",
       "        vertical-align: top;\n",
       "    }\n",
       "\n",
       "    .dataframe thead th {\n",
       "        text-align: right;\n",
       "    }\n",
       "</style>\n",
       "<table border=\"1\" class=\"dataframe\">\n",
       "  <thead>\n",
       "    <tr style=\"text-align: right;\">\n",
       "      <th></th>\n",
       "      <th>NCTId</th>\n",
       "      <th>BriefTitle</th>\n",
       "      <th>Karnofsky</th>\n",
       "      <th>Inclusion Criteria</th>\n",
       "    </tr>\n",
       "  </thead>\n",
       "  <tbody>\n",
       "    <tr>\n",
       "      <th>0</th>\n",
       "      <td>NCT04875351</td>\n",
       "      <td>Breast Cancer Index (BCI) Registry</td>\n",
       "      <td>NaN</td>\n",
       "      <td>:\\n\\nEarly stage (I, II or III) female breast ...</td>\n",
       "    </tr>\n",
       "    <tr>\n",
       "      <th>1</th>\n",
       "      <td>NCT03180086</td>\n",
       "      <td>Breast Cancer Risk Assessment in Women Aged 40-49</td>\n",
       "      <td>NaN</td>\n",
       "      <td>:\\n\\nwomen\\naged 40-49 years\\nread and speak E...</td>\n",
       "    </tr>\n",
       "    <tr>\n",
       "      <th>2</th>\n",
       "      <td>NCT03662633</td>\n",
       "      <td>Diagnosis Value of SEMA4C in Breast Cancer</td>\n",
       "      <td>NaN</td>\n",
       "      <td>:\\n\\nReceiving no treatment before diagnosis\\n...</td>\n",
       "    </tr>\n",
       "    <tr>\n",
       "      <th>3</th>\n",
       "      <td>NCT02493569</td>\n",
       "      <td>A Multicenter Study of Clinical Epidemiology o...</td>\n",
       "      <td>NaN</td>\n",
       "      <td>:\\n\\nFemale patients;\\nThe hospitalized patien...</td>\n",
       "    </tr>\n",
       "    <tr>\n",
       "      <th>4</th>\n",
       "      <td>NCT03598660</td>\n",
       "      <td>Role of Sorcin and Annexin A3 in Breast Cancer...</td>\n",
       "      <td>NaN</td>\n",
       "      <td>:\\n\\nbreast cancer patients before surgery who...</td>\n",
       "    </tr>\n",
       "    <tr>\n",
       "      <th>...</th>\n",
       "      <td>...</td>\n",
       "      <td>...</td>\n",
       "      <td>...</td>\n",
       "      <td>...</td>\n",
       "    </tr>\n",
       "    <tr>\n",
       "      <th>995</th>\n",
       "      <td>NCT00009945</td>\n",
       "      <td>Clodronate With or Without Chemotherapy and/or...</td>\n",
       "      <td>NaN</td>\n",
       "      <td>Eligibility\\n\\nPatients must have undergone ei...</td>\n",
       "    </tr>\n",
       "    <tr>\n",
       "      <th>996</th>\n",
       "      <td>NCT00313248</td>\n",
       "      <td>Evaluation of a New Agent for Treatment of Adv...</td>\n",
       "      <td>NaN</td>\n",
       "      <td>:\\n\\nMetastatic breast cancer (meaning the can...</td>\n",
       "    </tr>\n",
       "    <tr>\n",
       "      <th>997</th>\n",
       "      <td>NCT00196859</td>\n",
       "      <td>Study in Elderly Patients With Early Breast Ca...</td>\n",
       "      <td>NaN</td>\n",
       "      <td>:\\n\\nWritten informed consent prior to beginni...</td>\n",
       "    </tr>\n",
       "    <tr>\n",
       "      <th>998</th>\n",
       "      <td>NCT02591316</td>\n",
       "      <td>Nutrition, Physical Activity, and Cognition in...</td>\n",
       "      <td>NaN</td>\n",
       "      <td>:\\n\\nBreast cancer survivors must have complet...</td>\n",
       "    </tr>\n",
       "    <tr>\n",
       "      <th>999</th>\n",
       "      <td>NCT01216124</td>\n",
       "      <td>Efficacy and Safety Study of Neoadjuvant Chemo...</td>\n",
       "      <td>NaN</td>\n",
       "      <td>:\\n\\nWomen aged from 18 to 65 years;\\nHistolog...</td>\n",
       "    </tr>\n",
       "  </tbody>\n",
       "</table>\n",
       "<p>1000 rows × 4 columns</p>\n",
       "</div>"
      ],
      "text/plain": [
       "           NCTId                                         BriefTitle Karnofsky  \\\n",
       "0    NCT04875351                 Breast Cancer Index (BCI) Registry       NaN   \n",
       "1    NCT03180086  Breast Cancer Risk Assessment in Women Aged 40-49       NaN   \n",
       "2    NCT03662633         Diagnosis Value of SEMA4C in Breast Cancer       NaN   \n",
       "3    NCT02493569  A Multicenter Study of Clinical Epidemiology o...       NaN   \n",
       "4    NCT03598660  Role of Sorcin and Annexin A3 in Breast Cancer...       NaN   \n",
       "..           ...                                                ...       ...   \n",
       "995  NCT00009945  Clodronate With or Without Chemotherapy and/or...       NaN   \n",
       "996  NCT00313248  Evaluation of a New Agent for Treatment of Adv...       NaN   \n",
       "997  NCT00196859  Study in Elderly Patients With Early Breast Ca...       NaN   \n",
       "998  NCT02591316  Nutrition, Physical Activity, and Cognition in...       NaN   \n",
       "999  NCT01216124  Efficacy and Safety Study of Neoadjuvant Chemo...       NaN   \n",
       "\n",
       "                                    Inclusion Criteria  \n",
       "0    :\\n\\nEarly stage (I, II or III) female breast ...  \n",
       "1    :\\n\\nwomen\\naged 40-49 years\\nread and speak E...  \n",
       "2    :\\n\\nReceiving no treatment before diagnosis\\n...  \n",
       "3    :\\n\\nFemale patients;\\nThe hospitalized patien...  \n",
       "4    :\\n\\nbreast cancer patients before surgery who...  \n",
       "..                                                 ...  \n",
       "995  Eligibility\\n\\nPatients must have undergone ei...  \n",
       "996  :\\n\\nMetastatic breast cancer (meaning the can...  \n",
       "997  :\\n\\nWritten informed consent prior to beginni...  \n",
       "998  :\\n\\nBreast cancer survivors must have complet...  \n",
       "999  :\\n\\nWomen aged from 18 to 65 years;\\nHistolog...  \n",
       "\n",
       "[1000 rows x 4 columns]"
      ]
     },
     "execution_count": 23,
     "metadata": {},
     "output_type": "execute_result"
    }
   ],
   "source": [
    "df3 = pd.read_excel(r\"./data/Inclusion Criteria_1.xlsx\")                    \n",
    "df3"
   ]
  },
  {
   "cell_type": "code",
   "execution_count": null,
   "metadata": {},
   "outputs": [],
   "source": []
  }
 ],
 "metadata": {
  "kernelspec": {
   "display_name": "Python 3",
   "language": "python",
   "name": "python3"
  },
  "language_info": {
   "codemirror_mode": {
    "name": "ipython",
    "version": 3
   },
   "file_extension": ".py",
   "mimetype": "text/x-python",
   "name": "python",
   "nbconvert_exporter": "python",
   "pygments_lexer": "ipython3",
   "version": "3.7.6"
  }
 },
 "nbformat": 4,
 "nbformat_minor": 4
}
