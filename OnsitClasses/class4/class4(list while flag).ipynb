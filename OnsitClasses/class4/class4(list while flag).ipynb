{
 "cells": [
  {
   "cell_type": "code",
   "execution_count": 3,
   "metadata": {},
   "outputs": [
    {
     "name": "stdout",
     "output_type": "stream",
     "text": [
      "Please enter hours 0\n",
      "Please enter minutes 1\n",
      "Please enter duration in minutes 2939\n",
      "1:0\n"
     ]
    }
   ],
   "source": [
    "hours = int(input(\"Please enter hours \"))\n",
    "minutes = int(input(\"Please enter minutes \"))\n",
    "duration = int(input(\"Please enter duration in minutes \"))\n",
    "\n",
    "ehours = (hours + (minutes + duration)//60)%24\n",
    "eminutes = (minutes + duration)%60\n",
    "print(f\"{ehours}:{eminutes}\")"
   ]
  },
  {
   "cell_type": "code",
   "execution_count": 5,
   "metadata": {},
   "outputs": [
    {
     "name": "stdout",
     "output_type": "stream",
     "text": [
      "Enter guest name and press q to exitasad\n",
      "Enter guest name and press q to exitsadd\n",
      "Enter guest name and press q to exitfahad\n",
      "Enter guest name and press q to exitkamil\n",
      "Enter guest name and press q to exitqwer\n",
      "Enter guest name and press q to exitasdf\n",
      "Enter guest name and press q to exitghty\n",
      "Enter guest name and press q to exituio\n",
      "Enter guest name and press q to exitplk\n",
      "Enter guest name and press q to exitmhj\n",
      "Enter guest name and press q to exitrt\n",
      "Enter guest name and press q to exithg\n",
      "Enter guest name and press q to exitfg\n",
      "Enter guest name and press q to exitrt\n",
      "Enter guest name and press q to exited\n",
      "Enter guest name and press q to exitq\n",
      "['asad', 'sadd', 'fahad', 'kamil', 'qwer', 'asdf', 'ghty', 'uio', 'plk', 'mhj', 'rt', 'hg', 'fg', 'rt', 'ed']\n"
     ]
    }
   ],
   "source": [
    "guests=[]\n",
    "flag=True\n",
    "while flag:\n",
    "    guest_name = input(\"Enter guest name and press q to exit\")\n",
    "    if guest_name == 'q':\n",
    "        flag=False    \n",
    "    else:\n",
    "        guests.append(guest_name)  \n",
    "\n",
    "print(guests)\n",
    "    "
   ]
  },
  {
   "cell_type": "code",
   "execution_count": 8,
   "metadata": {},
   "outputs": [
    {
     "name": "stdout",
     "output_type": "stream",
     "text": [
      "Enter guest name and press q to exitAsad\n",
      "Enter guest name and press q to exitAsad\n",
      "The guest already added\n",
      "Enter guest name and press q to exitq\n",
      "['Asad']\n"
     ]
    }
   ],
   "source": [
    "guests=[]\n",
    "flag=True\n",
    "while flag:\n",
    "    guest_name = input(\"Enter guest name and press q to exit\")\n",
    "    if guest_name == 'q':\n",
    "        flag=False    \n",
    "    elif guest_name in guests:\n",
    "        print(\"The guest already added\")\n",
    "        #continue\n",
    "    else:\n",
    "        guests.append(guest_name)  \n",
    "\n",
    "print(guests)"
   ]
  },
  {
   "cell_type": "code",
   "execution_count": 16,
   "metadata": {},
   "outputs": [
    {
     "name": "stdout",
     "output_type": "stream",
     "text": [
      "Enter a number or press q to exit6\n",
      "Enter a number or press q to exit8\n",
      "Enter a number or press q to exit9\n",
      "Enter a number or press q to exit3\n",
      "Enter a number or press q to exit9\n",
      "Already exist\n",
      "Enter a number or press q to exit5\n",
      "Enter a number or press q to exit8\n",
      "Already exist\n",
      "Enter a number or press q to exitq\n",
      "['6', '8']\n",
      "['9', '3', '5']\n"
     ]
    }
   ],
   "source": [
    "even=[]\n",
    "odd = []\n",
    "flag=True\n",
    "while flag:    \n",
    "    num = input(\"Enter a number or press q to exit\")\n",
    "    if num == \"q\":\n",
    "        flag=False\n",
    "    elif (num in even) or (num in odd):\n",
    "        print(\"Already exist\")\n",
    "    elif int(num)%2==0:\n",
    "        even.append(num)\n",
    "    else:\n",
    "        odd.append(num)\n",
    "print(even)\n",
    "print(odd)"
   ]
  },
  {
   "cell_type": "raw",
   "metadata": {},
   "source": [
    "Operators \n",
    "- logical and , logical or logical not\n",
    "- botwise & , bitwise | ~"
   ]
  },
  {
   "cell_type": "raw",
   "metadata": {},
   "source": [
    "     and(*) \n",
    "True True  True\n",
    "True  False False\n",
    "False True   False\n",
    "False False\n",
    "\n",
    "      or(+)\n",
    "      \n",
    "True True True\n",
    "True False True\n",
    "False True True\n",
    "False False False\n"
   ]
  },
  {
   "cell_type": "code",
   "execution_count": 13,
   "metadata": {},
   "outputs": [],
   "source": [
    "a=10\n",
    "b= 20 \n",
    "c= 100"
   ]
  },
  {
   "cell_type": "code",
   "execution_count": 15,
   "metadata": {},
   "outputs": [
    {
     "name": "stdout",
     "output_type": "stream",
     "text": [
      "not OK\n"
     ]
    }
   ],
   "source": [
    "if (a>b)and (b<c)and (c>a):\n",
    "    print(\"Ok\")\n",
    "else:\n",
    "    print(\"not OK\")"
   ]
  },
  {
   "cell_type": "code",
   "execution_count": 18,
   "metadata": {},
   "outputs": [
    {
     "name": "stdout",
     "output_type": "stream",
     "text": [
      "A\n"
     ]
    }
   ],
   "source": [
    "if a<b:\n",
    "    if b<c:\n",
    "        if c>a:\n",
    "            print(\"ok\")"
   ]
  },
  {
   "cell_type": "markdown",
   "metadata": {},
   "source": [
    "Task:\n",
    "    You need to trace and make a list of all such numbers from 1000 to 3000 whose all digits are even \n",
    " "
   ]
  },
  {
   "cell_type": "code",
   "execution_count": 26,
   "metadata": {},
   "outputs": [
    {
     "name": "stdout",
     "output_type": "stream",
     "text": [
      "['2000', '2002', '2004', '2006', '2008', '2020', '2022', '2024', '2026', '2028', '2040', '2042', '2044', '2046', '2048', '2060', '2062', '2064', '2066', '2068', '2080', '2082', '2084', '2086', '2088', '2200', '2202', '2204', '2206', '2208', '2220', '2222', '2224', '2226', '2228', '2240', '2242', '2244', '2246', '2248', '2260', '2262', '2264', '2266', '2268', '2280', '2282', '2284', '2286', '2288', '2400', '2402', '2404', '2406', '2408', '2420', '2422', '2424', '2426', '2428', '2440', '2442', '2444', '2446', '2448', '2460', '2462', '2464', '2466', '2468', '2480', '2482', '2484', '2486', '2488', '2600', '2602', '2604', '2606', '2608', '2620', '2622', '2624', '2626', '2628', '2640', '2642', '2644', '2646', '2648', '2660', '2662', '2664', '2666', '2668', '2680', '2682', '2684', '2686', '2688', '2800', '2802', '2804', '2806', '2808', '2820', '2822', '2824', '2826', '2828', '2840', '2842', '2844', '2846', '2848', '2860', '2862', '2864', '2866', '2868', '2880', '2882', '2884', '2886', '2888']\n"
     ]
    }
   ],
   "source": [
    "even_digits_nums = []\n",
    "for num in range(1000,3001):\n",
    "    str_num = str(num)\n",
    "    if int(str_num[0])%2==0 and int(str_num[1])%2==0 and int(str_num[2])%2==0 and int(str_num[3])%2==0:\n",
    "        even_digits_nums.append(str_num) \n",
    "print(even_digits_nums)"
   ]
  },
  {
   "cell_type": "code",
   "execution_count": 22,
   "metadata": {},
   "outputs": [
    {
     "data": {
      "text/plain": [
       "'Even'"
      ]
     },
     "execution_count": 22,
     "metadata": {},
     "output_type": "execute_result"
    }
   ],
   "source": [
    "#True_body if logic  else Elese_body\n",
    "a = 2\n",
    "\"Even\" if a%2==0 else \"Odd\""
   ]
  },
  {
   "cell_type": "code",
   "execution_count": 31,
   "metadata": {},
   "outputs": [
    {
     "name": "stdout",
     "output_type": "stream",
     "text": [
      "Enter your comma separated favourite numberhello,nasir,jawed,apkistan\n"
     ]
    },
    {
     "data": {
      "text/plain": [
       "['hello', 'nasir', 'jawed', 'apkistan']"
      ]
     },
     "execution_count": 31,
     "metadata": {},
     "output_type": "execute_result"
    }
   ],
   "source": [
    "fav_numbers = input(\"Enter your comma separated favourite number\").split(',')\n",
    "fav_numbers"
   ]
  },
  {
   "cell_type": "code",
   "execution_count": 28,
   "metadata": {},
   "outputs": [
    {
     "data": {
      "text/plain": [
       "['P', 'kist', 'nZindb', 'd']"
      ]
     },
     "execution_count": 28,
     "metadata": {},
     "output_type": "execute_result"
    }
   ],
   "source": [
    "'PakistanZindbad'.split('a')"
   ]
  },
  {
   "cell_type": "code",
   "execution_count": 41,
   "metadata": {},
   "outputs": [
    {
     "data": {
      "text/plain": [
       "['We are learning ', ' programming']"
      ]
     },
     "execution_count": 41,
     "metadata": {},
     "output_type": "execute_result"
    }
   ],
   "source": [
    "'We are learning python programming'.split(\"python\")"
   ]
  },
  {
   "cell_type": "code",
   "execution_count": 36,
   "metadata": {},
   "outputs": [
    {
     "name": "stdout",
     "output_type": "stream",
     "text": [
      "Enter your numbers (comma separated)2002,2005\n"
     ]
    },
    {
     "data": {
      "text/plain": [
       "[]"
      ]
     },
     "execution_count": 36,
     "metadata": {},
     "output_type": "execute_result"
    }
   ],
   "source": [
    "even_digit_list=[]\n",
    "nums = input(\"Enter your numbers (comma separated)\").split(\",\")\n",
    "for num in nums:\n",
    "    for digit in num:\n",
    "        if int(digit)%2==0:\n",
    "            continue\n",
    "        else:\n",
    "            break\n",
    "        even_digit_list.append(num)\n",
    "    \n",
    "    \n",
    "even_digit_list   "
   ]
  },
  {
   "cell_type": "code",
   "execution_count": 40,
   "metadata": {},
   "outputs": [
    {
     "name": "stdout",
     "output_type": "stream",
     "text": [
      "Enter your numbers (comma separated)2222,111,3333,6666,4444\n"
     ]
    },
    {
     "data": {
      "text/plain": [
       "['2222', '6666', '4444']"
      ]
     },
     "execution_count": 40,
     "metadata": {},
     "output_type": "execute_result"
    }
   ],
   "source": [
    "even_digit_list=[]\n",
    "nums = input(\"Enter your numbers (comma separated)\").split(\",\")\n",
    "for num in nums:\n",
    "    l = []\n",
    "    for digit in num:\n",
    "        if int(digit)%2==0:\n",
    "            l.append(digit)\n",
    "    if len(num)  == len(l):\n",
    "        even_digit_list.append(num)\n",
    "    \n",
    "    \n",
    "even_digit_list   "
   ]
  },
  {
   "cell_type": "code",
   "execution_count": 33,
   "metadata": {},
   "outputs": [
    {
     "name": "stdout",
     "output_type": "stream",
     "text": [
      "P\n",
      "a\n",
      "k\n",
      "i\n",
      "s\n",
      "t\n",
      "a\n",
      "n\n",
      "I\n",
      "n\n",
      "d\n",
      "i\n",
      "a\n"
     ]
    }
   ],
   "source": [
    "alist = ['Pakistan', 'India']\n",
    "\n",
    "for count in alist:\n",
    "    for char in count:\n",
    "        print(char)"
   ]
  },
  {
   "cell_type": "markdown",
   "metadata": {},
   "source": [
    "# List Comprehension"
   ]
  },
  {
   "cell_type": "code",
   "execution_count": 42,
   "metadata": {},
   "outputs": [
    {
     "data": {
      "text/plain": [
       "'/home/mqasim'"
      ]
     },
     "execution_count": 42,
     "metadata": {},
     "output_type": "execute_result"
    }
   ],
   "source": [
    "pwd"
   ]
  },
  {
   "cell_type": "code",
   "execution_count": null,
   "metadata": {},
   "outputs": [],
   "source": []
  }
 ],
 "metadata": {
  "kernelspec": {
   "display_name": "Python 3",
   "language": "python",
   "name": "python3"
  },
  "language_info": {
   "codemirror_mode": {
    "name": "ipython",
    "version": 3
   },
   "file_extension": ".py",
   "mimetype": "text/x-python",
   "name": "python",
   "nbconvert_exporter": "python",
   "pygments_lexer": "ipython3",
   "version": "3.7.6"
  }
 },
 "nbformat": 4,
 "nbformat_minor": 4
}
