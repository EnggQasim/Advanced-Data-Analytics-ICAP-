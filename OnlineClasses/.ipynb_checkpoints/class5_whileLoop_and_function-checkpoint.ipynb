{
 "cells": [
  {
   "cell_type": "markdown",
   "metadata": {},
   "source": [
    "# Topic\n",
    "* While\n",
    "    * counter\n",
    "    * condition\n",
    "    * increment/decrement\n",
    "* function\n",
    "    * defualt\n",
    "    * return function\n",
    "    * non-return function\n",
    "    * parameter/argument \n",
    "    * defualt parameter\n",
    "    * pass argment by sequance\n",
    "    * pass argument by key value pair\n",
    "    * pass by list\n",
    "    * pass by dictionary\n"
   ]
  },
  {
   "cell_type": "code",
   "execution_count": null,
   "metadata": {},
   "outputs": [],
   "source": [
    "#  * While\n",
    "#     * counter\n",
    "#     * condition\n",
    "#     * increment/decrement\n",
    "\n",
    "# How to write while loop code\n",
    "# counter\n",
    "\n",
    "# while logic:\n",
    "#     steps/statment\n",
    "#     counter increment/decrement"
   ]
  },
  {
   "cell_type": "code",
   "execution_count": 2,
   "metadata": {},
   "outputs": [
    {
     "name": "stdout",
     "output_type": "stream",
     "text": [
      "z\n"
     ]
    }
   ],
   "source": [
    "name = 'a'\n",
    "name = 'b'\n",
    "name = 'c'\n",
    "name = 'z'\n",
    "print(name)"
   ]
  },
  {
   "cell_type": "code",
   "execution_count": 1,
   "metadata": {},
   "outputs": [
    {
     "name": "stdout",
     "output_type": "stream",
     "text": [
      "Step no 0\n",
      "Step no 1\n",
      "Step no 2\n",
      "Step no 3\n",
      "Step no 4\n",
      "Step no 5\n",
      "Step no 6\n",
      "Step no 7\n",
      "Step no 8\n",
      "Step no 9\n",
      "Step no 10\n"
     ]
    }
   ],
   "source": [
    "counter = 0\n",
    "\n",
    "while counter <= 10:\n",
    "    print(f\"Step no {counter}\")\n",
    "    counter = counter + 1\n",
    "    "
   ]
  },
  {
   "cell_type": "code",
   "execution_count": 4,
   "metadata": {},
   "outputs": [
    {
     "data": {
      "text/plain": [
       "['A', 'A', 'A', 'A', 'A', 'A', 'A', 'A', 'A', 'A', 'A']"
      ]
     },
     "execution_count": 4,
     "metadata": {},
     "output_type": "execute_result"
    }
   ],
   "source": [
    "flag = True\n",
    "\n",
    "l = []\n",
    "\n",
    "while flag:\n",
    "    if len(l)<=10:\n",
    "        l.append(\"A\")\n",
    "    else:\n",
    "        flag =False\n",
    "        \n",
    "l    "
   ]
  },
  {
   "cell_type": "code",
   "execution_count": 5,
   "metadata": {},
   "outputs": [
    {
     "name": "stdout",
     "output_type": "stream",
     "text": [
      "NameQasim\n",
      "NameNoman\n",
      "NameNasir\n",
      "NameNaveed\n"
     ]
    },
    {
     "data": {
      "text/plain": [
       "['Qasim', 'Noman', 'Nasir', 'Naveed']"
      ]
     },
     "execution_count": 5,
     "metadata": {},
     "output_type": "execute_result"
    }
   ],
   "source": [
    "flag = True\n",
    "\n",
    "l = []\n",
    "\n",
    "while flag:\n",
    "    if len(l)<=3:\n",
    "        l.append(input(\"Name\"))\n",
    "    else:\n",
    "        flag =False\n",
    "        \n",
    "l    "
   ]
  },
  {
   "cell_type": "code",
   "execution_count": 10,
   "metadata": {},
   "outputs": [
    {
     "name": "stdout",
     "output_type": "stream",
     "text": [
      "Enter Name | 'enter q for exit' qasim\n",
      "aaaaa\n",
      "aaaaa\n",
      "aaaaa\n",
      "Enter Name | 'enter q for exit' asib\n",
      "aaaaa\n",
      "aaaaa\n",
      "aaaaa\n",
      "Enter Name | 'enter q for exit' q\n",
      "aaaaa\n",
      "aaaaa\n",
      "aaaaa\n"
     ]
    },
    {
     "data": {
      "text/plain": [
       "['qasim', 'asib', 'q']"
      ]
     },
     "execution_count": 10,
     "metadata": {},
     "output_type": "execute_result"
    }
   ],
   "source": [
    "flag = True\n",
    "\n",
    "names = []\n",
    "\n",
    "while flag:\n",
    "    name = input(\"Enter Name | 'enter q for exit' \")\n",
    "    if name.lower() == 'q':\n",
    "        flag = False\n",
    "        break\n",
    "    names.append(name)\n",
    "        \n",
    "names  "
   ]
  },
  {
   "cell_type": "code",
   "execution_count": null,
   "metadata": {},
   "outputs": [],
   "source": []
  },
  {
   "cell_type": "code",
   "execution_count": 8,
   "metadata": {},
   "outputs": [
    {
     "name": "stdout",
     "output_type": "stream",
     "text": [
      "Pakistan\n"
     ]
    }
   ],
   "source": [
    "if True:\n",
    "    print(\"Pakistan\")"
   ]
  },
  {
   "cell_type": "code",
   "execution_count": 9,
   "metadata": {},
   "outputs": [
    {
     "name": "stdout",
     "output_type": "stream",
     "text": [
      "True Block\n"
     ]
    }
   ],
   "source": [
    "if True:\n",
    "    print(\"True Block\")\n",
    "else:\n",
    "    print(\"Else Block\")"
   ]
  },
  {
   "cell_type": "code",
   "execution_count": null,
   "metadata": {},
   "outputs": [],
   "source": [
    "# Task1\n",
    "\n",
    "enter your: qasim,123\n",
    "enter your: nasir,125\n",
    "\n",
    "[['qasim','123'],\n",
    "['nasir','abc123'],\n",
    "['noman','abc']]\n"
   ]
  },
  {
   "cell_type": "code",
   "execution_count": 13,
   "metadata": {},
   "outputs": [
    {
     "name": "stdout",
     "output_type": "stream",
     "text": [
      "Enter username, password | 'enter q for exit' qasim,123\n",
      "Enter username, password | 'enter q for exit' asif,aaa\n",
      "Enter username, password | 'enter q for exit' noman,2222\n",
      "Enter username, password | 'enter q for exit' q\n"
     ]
    },
    {
     "data": {
      "text/plain": [
       "[['qasim', '123'], ['asif', 'aaa'], ['noman', '2222']]"
      ]
     },
     "execution_count": 13,
     "metadata": {},
     "output_type": "execute_result"
    }
   ],
   "source": [
    "flag = True\n",
    "\n",
    "database = []\n",
    "\n",
    "while flag:\n",
    "    name = input(\"Enter username, password | 'enter q for exit' \")\n",
    "    if name.lower() == 'q':\n",
    "        flag = False\n",
    "        break\n",
    "    database.append(name.split(\",\"))\n",
    "        \n",
    "database  "
   ]
  },
  {
   "cell_type": "code",
   "execution_count": null,
   "metadata": {},
   "outputs": [],
   "source": []
  },
  {
   "cell_type": "code",
   "execution_count": 12,
   "metadata": {},
   "outputs": [
    {
     "data": {
      "text/plain": [
       "['qasim', '123']"
      ]
     },
     "execution_count": 12,
     "metadata": {},
     "output_type": "execute_result"
    }
   ],
   "source": [
    "flag = True\n",
    "\n",
    "database = []\n",
    "\n",
    "\n",
    "while flag:\n",
    "    name = input(\"Enter username, password | 'enter q for exit' \")\n",
    "    if name.lower() == 'q':\n",
    "        flag = False\n",
    "        break\n",
    "    database.append(name.split(\",\"))\n",
    "        \n",
    "database  "
   ]
  },
  {
   "cell_type": "code",
   "execution_count": null,
   "metadata": {},
   "outputs": [],
   "source": [
    "T\n",
    "[name,father,cnic,passord]"
   ]
  }
 ],
 "metadata": {
  "kernelspec": {
   "display_name": "Python 3",
   "language": "python",
   "name": "python3"
  },
  "language_info": {
   "codemirror_mode": {
    "name": "ipython",
    "version": 3
   },
   "file_extension": ".py",
   "mimetype": "text/x-python",
   "name": "python",
   "nbconvert_exporter": "python",
   "pygments_lexer": "ipython3",
   "version": "3.7.6"
  }
 },
 "nbformat": 4,
 "nbformat_minor": 4
}
