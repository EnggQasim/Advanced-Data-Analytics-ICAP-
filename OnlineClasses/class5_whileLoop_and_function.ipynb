{
 "cells": [
  {
   "cell_type": "markdown",
   "metadata": {},
   "source": [
    "# Topic\n",
    "* While\n",
    "    * counter\n",
    "    * condition\n",
    "    * increment/decrement\n",
    "* function\n",
    "    * defualt\n",
    "    * return function\n",
    "    * non-return function\n",
    "    * parameter/argument \n",
    "    * defualt parameter\n",
    "    * pass argment by sequance\n",
    "    * pass argument by key value pair\n",
    "    * pass by list\n",
    "    * pass by dictionary\n"
   ]
  },
  {
   "cell_type": "code",
   "execution_count": null,
   "metadata": {},
   "outputs": [],
   "source": [
    "#  * While\n",
    "#     * counter\n",
    "#     * condition\n",
    "#     * increment/decrement\n",
    "\n",
    "# How to write while loop code\n",
    "# counter\n",
    "\n",
    "# while logic:\n",
    "#     steps/statment\n",
    "#     counter increment/decrement"
   ]
  },
  {
   "cell_type": "code",
   "execution_count": 2,
   "metadata": {},
   "outputs": [
    {
     "name": "stdout",
     "output_type": "stream",
     "text": [
      "z\n"
     ]
    }
   ],
   "source": [
    "name = 'a'\n",
    "name = 'b'\n",
    "name = 'c'\n",
    "name = 'z'\n",
    "print(name)"
   ]
  },
  {
   "cell_type": "code",
   "execution_count": 1,
   "metadata": {},
   "outputs": [
    {
     "name": "stdout",
     "output_type": "stream",
     "text": [
      "Step no 0\n",
      "Step no 1\n",
      "Step no 2\n",
      "Step no 3\n",
      "Step no 4\n",
      "Step no 5\n",
      "Step no 6\n",
      "Step no 7\n",
      "Step no 8\n",
      "Step no 9\n",
      "Step no 10\n"
     ]
    }
   ],
   "source": [
    "counter = 0\n",
    "\n",
    "while counter <= 10:\n",
    "    print(f\"Step no {counter}\")\n",
    "    counter = counter + 1\n",
    "    "
   ]
  },
  {
   "cell_type": "code",
   "execution_count": 4,
   "metadata": {},
   "outputs": [
    {
     "data": {
      "text/plain": [
       "['A', 'A', 'A', 'A', 'A', 'A', 'A', 'A', 'A', 'A', 'A']"
      ]
     },
     "execution_count": 4,
     "metadata": {},
     "output_type": "execute_result"
    }
   ],
   "source": [
    "flag = True\n",
    "\n",
    "l = []\n",
    "\n",
    "while flag:\n",
    "    if len(l)<=10:\n",
    "        l.append(\"A\")\n",
    "    else:\n",
    "        flag =False\n",
    "        \n",
    "l    "
   ]
  },
  {
   "cell_type": "code",
   "execution_count": 5,
   "metadata": {},
   "outputs": [
    {
     "name": "stdout",
     "output_type": "stream",
     "text": [
      "NameQasim\n",
      "NameNoman\n",
      "NameNasir\n",
      "NameNaveed\n"
     ]
    },
    {
     "data": {
      "text/plain": [
       "['Qasim', 'Noman', 'Nasir', 'Naveed']"
      ]
     },
     "execution_count": 5,
     "metadata": {},
     "output_type": "execute_result"
    }
   ],
   "source": [
    "flag = True\n",
    "\n",
    "l = []\n",
    "\n",
    "while flag:\n",
    "    if len(l)<=3:\n",
    "        l.append(input(\"Name\"))\n",
    "    else:\n",
    "        flag =False\n",
    "        \n",
    "l    "
   ]
  },
  {
   "cell_type": "code",
   "execution_count": 10,
   "metadata": {},
   "outputs": [
    {
     "name": "stdout",
     "output_type": "stream",
     "text": [
      "Enter Name | 'enter q for exit' qasim\n",
      "aaaaa\n",
      "aaaaa\n",
      "aaaaa\n",
      "Enter Name | 'enter q for exit' asib\n",
      "aaaaa\n",
      "aaaaa\n",
      "aaaaa\n",
      "Enter Name | 'enter q for exit' q\n",
      "aaaaa\n",
      "aaaaa\n",
      "aaaaa\n"
     ]
    },
    {
     "data": {
      "text/plain": [
       "['qasim', 'asib', 'q']"
      ]
     },
     "execution_count": 10,
     "metadata": {},
     "output_type": "execute_result"
    }
   ],
   "source": [
    "flag = True\n",
    "\n",
    "names = []\n",
    "\n",
    "while flag:\n",
    "    name = input(\"Enter Name | 'enter q for exit' \")\n",
    "    if name.lower() == 'q':\n",
    "        flag = False\n",
    "        break\n",
    "    names.append(name)\n",
    "        \n",
    "names  "
   ]
  },
  {
   "cell_type": "code",
   "execution_count": null,
   "metadata": {},
   "outputs": [],
   "source": []
  },
  {
   "cell_type": "code",
   "execution_count": 8,
   "metadata": {},
   "outputs": [
    {
     "name": "stdout",
     "output_type": "stream",
     "text": [
      "Pakistan\n"
     ]
    }
   ],
   "source": [
    "if True:\n",
    "    print(\"Pakistan\")"
   ]
  },
  {
   "cell_type": "code",
   "execution_count": 9,
   "metadata": {},
   "outputs": [
    {
     "name": "stdout",
     "output_type": "stream",
     "text": [
      "True Block\n"
     ]
    }
   ],
   "source": [
    "if True:\n",
    "    print(\"True Block\")\n",
    "else:\n",
    "    print(\"Else Block\")"
   ]
  },
  {
   "cell_type": "code",
   "execution_count": null,
   "metadata": {},
   "outputs": [],
   "source": [
    "# Task1\n",
    "\n",
    "enter your: qasim,123\n",
    "enter your: nasir,125\n",
    "\n",
    "[['qasim','123'],\n",
    "['nasir','abc123'],\n",
    "['noman','abc']]\n"
   ]
  },
  {
   "cell_type": "code",
   "execution_count": 13,
   "metadata": {},
   "outputs": [
    {
     "name": "stdout",
     "output_type": "stream",
     "text": [
      "Enter username, password | 'enter q for exit' qasim,123\n",
      "Enter username, password | 'enter q for exit' asif,aaa\n",
      "Enter username, password | 'enter q for exit' noman,2222\n",
      "Enter username, password | 'enter q for exit' q\n"
     ]
    },
    {
     "data": {
      "text/plain": [
       "[['qasim', '123'], ['asif', 'aaa'], ['noman', '2222']]"
      ]
     },
     "execution_count": 13,
     "metadata": {},
     "output_type": "execute_result"
    }
   ],
   "source": [
    "flag = True\n",
    "\n",
    "database = []\n",
    "\n",
    "while flag:\n",
    "    name = input(\"Enter username, password | 'enter q for exit' \")\n",
    "    if name.lower() == 'q':\n",
    "        flag = False\n",
    "        break\n",
    "    database.append(name.split(\",\"))\n",
    "        \n",
    "database  "
   ]
  },
  {
   "cell_type": "code",
   "execution_count": null,
   "metadata": {},
   "outputs": [],
   "source": []
  },
  {
   "cell_type": "code",
   "execution_count": 12,
   "metadata": {},
   "outputs": [
    {
     "data": {
      "text/plain": [
       "['qasim', '123']"
      ]
     },
     "execution_count": 12,
     "metadata": {},
     "output_type": "execute_result"
    }
   ],
   "source": [
    "flag = True\n",
    "\n",
    "database = []\n",
    "\n",
    "while flag:\n",
    "    name = input(\"Enter username, password | 'enter q for exit' \")\n",
    "    if name.lower() == 'q':\n",
    "        flag = False\n",
    "        break\n",
    "    database.append(name.split(\",\"))\n",
    "        \n",
    "database  "
   ]
  },
  {
   "cell_type": "code",
   "execution_count": null,
   "metadata": {},
   "outputs": [],
   "source": [
    "Task 2\n",
    "step1: [name,father,cnic,passord] until insert q\n",
    "\n",
    "enter 4 records\n",
    "\n",
    "Login\n",
    "[cnic,password] Valid else not valid"
   ]
  },
  {
   "cell_type": "code",
   "execution_count": 14,
   "metadata": {},
   "outputs": [
    {
     "name": "stdout",
     "output_type": "stream",
     "text": [
      "Enter name,father name, cnic, passwor | 'enter q for exit' qasim,aslam,4220175787603,123\n",
      "Enter name,father name, cnic, passwor | 'enter q for exit' nasir,hussain,1234567891234,abc123\n",
      "Enter name,father name, cnic, passwor | 'enter q for exit' noman,Farooq, 1234569871236,abcabc\n",
      "Enter name,father name, cnic, passwor | 'enter q for exit' q\n"
     ]
    },
    {
     "data": {
      "text/plain": [
       "[['qasim', 'aslam', '4220175787603', '123'],\n",
       " ['nasir', 'hussain', '1234567891234', 'abc123'],\n",
       " ['noman', 'Farooq', ' 1234569871236', 'abcabc']]"
      ]
     },
     "execution_count": 14,
     "metadata": {},
     "output_type": "execute_result"
    }
   ],
   "source": [
    "flag = True\n",
    "\n",
    "database = []\n",
    "\n",
    "while flag:\n",
    "    name = input(\"Enter name,father name, cnic, passwor | 'enter q for exit' \")\n",
    "    if name.lower() == 'q':\n",
    "        flag = False\n",
    "        break\n",
    "    database.append(name.split(\",\"))\n",
    "        \n",
    "database  "
   ]
  },
  {
   "cell_type": "code",
   "execution_count": 23,
   "metadata": {},
   "outputs": [
    {
     "name": "stdout",
     "output_type": "stream",
     "text": [
      "cnic4220175787603\n",
      "password123\n",
      "4220175787603 123\n",
      "Valid User\n"
     ]
    }
   ],
   "source": [
    "# cnic = input(\"cnic\")\n",
    "# password = input('Password')\n",
    "\n",
    "cnic , password   = input(\"cnic\"), input('password')\n",
    "\n",
    "for record in database:\n",
    "    print(record[2],record[3])# just for our understanding\n",
    "    if cnic == record[2] and password ==record[3]:\n",
    "        print(\"Valid User\")\n",
    "        break\n",
    "else:\n",
    "    print(\"Not Valid Name and password\")\n",
    "        \n",
    "    "
   ]
  },
  {
   "cell_type": "code",
   "execution_count": 16,
   "metadata": {},
   "outputs": [
    {
     "name": "stdout",
     "output_type": "stream",
     "text": [
      "[1, 2, 3]\n",
      "1\n",
      "2\n",
      "3\n"
     ]
    }
   ],
   "source": [
    "# pack and unpack\n",
    "numbers = [1,2,3] # pack\n",
    "a,b,c = numbers # unpack\n",
    "\n",
    "\n",
    "print(numbers)\n",
    "print(a)\n",
    "print(b)\n",
    "print(c)"
   ]
  },
  {
   "cell_type": "code",
   "execution_count": 18,
   "metadata": {},
   "outputs": [
    {
     "name": "stdout",
     "output_type": "stream",
     "text": [
      "1 2 3 4 5\n"
     ]
    }
   ],
   "source": [
    "a,b,c,d,e = 1,2,3,4,5\n",
    "print(a,b,c,d,e)"
   ]
  },
  {
   "cell_type": "code",
   "execution_count": 17,
   "metadata": {},
   "outputs": [
    {
     "data": {
      "text/plain": [
       "(1, 2, 3, 4, 5, 6)"
      ]
     },
     "execution_count": 17,
     "metadata": {},
     "output_type": "execute_result"
    }
   ],
   "source": [
    "abc = 1,2,3,4,5,6\n",
    "abc"
   ]
  },
  {
   "cell_type": "code",
   "execution_count": 24,
   "metadata": {},
   "outputs": [],
   "source": [
    "# Nested1"
   ]
  },
  {
   "cell_type": "code",
   "execution_count": null,
   "metadata": {},
   "outputs": [],
   "source": [
    "#list with in a list is called nested list\n",
    "[['qasim', 'aslam', '4220175787603', '123'],\n",
    " ['nasir', 'hussain', '1234567891234', 'abc123'],\n",
    " ['noman', 'Farooq', ' 1234569871236', 'abcabc']]"
   ]
  },
  {
   "cell_type": "code",
   "execution_count": null,
   "metadata": {},
   "outputs": [],
   "source": [
    "[{\"name\":'qasim', 'fname':'aslam', \"cnic\":'4220175787603', \"pass\":'123'},\n",
    " {\"name\":'qasim', 'fname':'aslam', \"cnic\":'4220175787603', \"pass\":'123'},\n",
    " {\"name\":'qasim', 'fname':'aslam', \"cnic\":'4220175787603', \"pass\":'123'}]"
   ]
  },
  {
   "cell_type": "code",
   "execution_count": null,
   "metadata": {},
   "outputs": [],
   "source": [
    "[\n",
    "    [[1],[2]],\n",
    "    [[2],[4]]\n",
    "]"
   ]
  },
  {
   "cell_type": "code",
   "execution_count": 26,
   "metadata": {},
   "outputs": [
    {
     "data": {
      "text/plain": [
       "{'name': 'Qasim',\n",
       " 'fname': 'Aslam',\n",
       " 'skills': ['python', 'c', 'c++', 'java', 'rust'],\n",
       " 'transactions': [{'id': 1, 'amount': 100}, {'id': 2, 'amount': 500}]}"
      ]
     },
     "execution_count": 26,
     "metadata": {},
     "output_type": "execute_result"
    }
   ],
   "source": [
    "student1 = {\n",
    "    \"name\":\"Qasim\",\n",
    "    \"fname\":\"Aslam\",\n",
    "    \"skills\":['python','c','c++','java','rust'],\n",
    "    \"transactions\":[{\"id\":1,\"amount\":100},\n",
    "                   {\"id\":2,\"amount\": 500}]\n",
    "}\n",
    "student1"
   ]
  },
  {
   "cell_type": "code",
   "execution_count": 28,
   "metadata": {},
   "outputs": [
    {
     "name": "stdout",
     "output_type": "stream",
     "text": [
      "{'name': 'Qasim', 'fname': 'Aslam', 'skills': ['python', 'c', 'c++', 'java', 'rust'], 'transactions': [{'id': 1, 'amount': 100}, {'id': 2, 'amount': 500}]}\n"
     ]
    },
    {
     "data": {
      "text/plain": [
       "'Qasim'"
      ]
     },
     "execution_count": 28,
     "metadata": {},
     "output_type": "execute_result"
    }
   ],
   "source": [
    "student1 = {\n",
    "    \"name\":\"Qasim\",\n",
    "    \"fname\":\"Aslam\",\n",
    "    \"skills\":['python','c','c++','java','rust'],\n",
    "    \"transactions\":[{\"id\":1,\"amount\":100},\n",
    "                   {\"id\":2,\"amount\": 500}]\n",
    "}\n",
    "print(student1)\n",
    "student1['name']"
   ]
  },
  {
   "cell_type": "code",
   "execution_count": 29,
   "metadata": {},
   "outputs": [
    {
     "name": "stdout",
     "output_type": "stream",
     "text": [
      "{'name': 'Qasim', 'fname': 'Aslam', 'skills': ['python', 'c', 'c++', 'java', 'rust'], 'transactions': [{'id': 1, 'amount': 100}, {'id': 2, 'amount': 500}]}\n"
     ]
    },
    {
     "data": {
      "text/plain": [
       "['python', 'c', 'c++', 'java', 'rust']"
      ]
     },
     "execution_count": 29,
     "metadata": {},
     "output_type": "execute_result"
    }
   ],
   "source": [
    "student1 = {\n",
    "    \"name\":\"Qasim\",\n",
    "    \"fname\":\"Aslam\",\n",
    "    \"skills\":['python','c','c++','java','rust'],\n",
    "    \"transactions\":[{\"id\":1,\"amount\":100},\n",
    "                   {\"id\":2,\"amount\": 500}]\n",
    "}\n",
    "print(student1)\n",
    "student1['skills']"
   ]
  },
  {
   "cell_type": "code",
   "execution_count": 30,
   "metadata": {},
   "outputs": [
    {
     "name": "stdout",
     "output_type": "stream",
     "text": [
      "{'name': 'Qasim', 'fname': 'Aslam', 'skills': ['python', 'c', 'c++', 'java', 'rust'], 'transactions': [{'id': 1, 'amount': 100}, {'id': 2, 'amount': 500}]}\n"
     ]
    },
    {
     "data": {
      "text/plain": [
       "[{'id': 1, 'amount': 100}, {'id': 2, 'amount': 500}]"
      ]
     },
     "execution_count": 30,
     "metadata": {},
     "output_type": "execute_result"
    }
   ],
   "source": [
    "student1 = {\n",
    "    \"name\":\"Qasim\",\n",
    "    \"fname\":\"Aslam\",\n",
    "    \"skills\":['python','c','c++','java','rust'],\n",
    "    \"transactions\":[{\"id\":1,\"amount\":100},\n",
    "                   {\"id\":2,\"amount\": 500}]\n",
    "}\n",
    "print(student1)\n",
    "student1['transactions']"
   ]
  },
  {
   "cell_type": "code",
   "execution_count": 33,
   "metadata": {},
   "outputs": [
    {
     "name": "stdout",
     "output_type": "stream",
     "text": [
      "[{'id': 1, 'amount': 100}, {'id': 2, 'amount': 500}]\n",
      "{'id': 2, 'amount': 500}\n",
      "500\n"
     ]
    }
   ],
   "source": [
    "print(student1['transactions']) #pass dictionary key\n",
    "print(student1['transactions'][1]) # pass list index\n",
    "print(student1['transactions'][1]['amount'])#pass nested dictionary key"
   ]
  },
  {
   "cell_type": "code",
   "execution_count": null,
   "metadata": {},
   "outputs": [],
   "source": []
  }
 ],
 "metadata": {
  "kernelspec": {
   "display_name": "Python 3",
   "language": "python",
   "name": "python3"
  },
  "language_info": {
   "codemirror_mode": {
    "name": "ipython",
    "version": 3
   },
   "file_extension": ".py",
   "mimetype": "text/x-python",
   "name": "python",
   "nbconvert_exporter": "python",
   "pygments_lexer": "ipython3",
   "version": "3.7.6"
  }
 },
 "nbformat": 4,
 "nbformat_minor": 4
}
