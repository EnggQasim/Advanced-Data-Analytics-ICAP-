{
 "cells": [
  {
   "cell_type": "markdown",
   "metadata": {},
   "source": [
    "# Excercises"
   ]
  },
  {
   "cell_type": "raw",
   "metadata": {},
   "source": [
    "Task1:\n",
    "\n",
    "A firm decides to give bonus of 10% to employee if his/her year of service is more than 5 years.\n",
    "Ask user for their salary and year of service and print the net bonus amount."
   ]
  },
  {
   "cell_type": "code",
   "execution_count": null,
   "metadata": {},
   "outputs": [],
   "source": [
    "#Type your code here"
   ]
  },
  {
   "cell_type": "raw",
   "metadata": {},
   "source": [
    "Task2:\n",
    "    \n",
    "Ask user to input the length and breadth. Then check if the it is a square or rectangle "
   ]
  },
  {
   "cell_type": "code",
   "execution_count": null,
   "metadata": {},
   "outputs": [],
   "source": [
    "#Type your code here"
   ]
  },
  {
   "cell_type": "raw",
   "metadata": {},
   "source": [
    "Task3:\n",
    "\n",
    "The one unit cost of an article in a super store is 100\n",
    "The store will give discount of 10% if the cost of purchased quantity is more than 1000.\n",
    "Ask user for quantity(number of articles)\n",
    "if user buys as much articles that cost more than oe equal to 1000 then give discount and print the cost for user.\n"
   ]
  },
  {
   "cell_type": "code",
   "execution_count": null,
   "metadata": {},
   "outputs": [],
   "source": [
    "#Type your code here"
   ]
  },
  {
   "cell_type": "raw",
   "metadata": {},
   "source": [
    "Task4:\n",
    "Take input of age of 3 people by user and determine oldest and youngest among them."
   ]
  },
  {
   "cell_type": "code",
   "execution_count": null,
   "metadata": {},
   "outputs": [],
   "source": [
    "#Type your code here"
   ]
  },
  {
   "cell_type": "raw",
   "metadata": {},
   "source": [
    "Task5:\n",
    "    \n",
    "The students will not be allowed to sit in exam if his/her attendence is less than 75%.\n",
    "Take following input from user:\n",
    "\n",
    "Number of classes held\n",
    "Number of classes attended.\n",
    "And print\n",
    "percentage of class attended\n",
    "Is student is allowed to sit in exam or not."
   ]
  },
  {
   "cell_type": "code",
   "execution_count": null,
   "metadata": {},
   "outputs": [],
   "source": [
    "#Type your code here"
   ]
  },
  {
   "cell_type": "raw",
   "metadata": {},
   "source": [
    "Task6:\n",
    "    \n",
    "You need to write a Python code to convert temperatures to and from celsius, fahrenheit. \n",
    "[ Formula : c/5 = f-32/9 [ where c = temperature in celsius and f = temperature in fahrenheit ]\n",
    "Ask the user to enter temperature then ask the degree if it is in C and print it in F and if it is in F print it in C degree.  \n",
    "Expected Output :\n",
    "60°C is 140 in Fahrenheit\n",
    "45°F is 7 in Celsius"
   ]
  },
  {
   "cell_type": "code",
   "execution_count": null,
   "metadata": {},
   "outputs": [],
   "source": [
    "#Type your code here"
   ]
  }
 ],
 "metadata": {
  "kernelspec": {
   "display_name": "Python 3",
   "language": "python",
   "name": "python3"
  },
  "language_info": {
   "codemirror_mode": {
    "name": "ipython",
    "version": 3
   },
   "file_extension": ".py",
   "mimetype": "text/x-python",
   "name": "python",
   "nbconvert_exporter": "python",
   "pygments_lexer": "ipython3",
   "version": "3.7.4"
  }
 },
 "nbformat": 4,
 "nbformat_minor": 2
}
