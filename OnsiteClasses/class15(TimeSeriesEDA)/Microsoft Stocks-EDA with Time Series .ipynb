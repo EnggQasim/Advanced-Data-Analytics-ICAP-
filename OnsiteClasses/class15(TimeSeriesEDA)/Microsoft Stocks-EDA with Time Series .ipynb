{
 "cells": [
  {
   "cell_type": "code",
   "execution_count": 1,
   "metadata": {},
   "outputs": [],
   "source": [
    "import pandas_datareader as pdr\n",
    "import pandas as pd\n",
    "from datetime import datetime"
   ]
  },
  {
   "cell_type": "code",
   "execution_count": 2,
   "metadata": {},
   "outputs": [],
   "source": [
    "df_msft = pdr.get_data_yahoo('MSFT')"
   ]
  },
  {
   "cell_type": "code",
   "execution_count": 8,
   "metadata": {},
   "outputs": [
    {
     "data": {
      "text/html": [
       "<div>\n",
       "<style scoped>\n",
       "    .dataframe tbody tr th:only-of-type {\n",
       "        vertical-align: middle;\n",
       "    }\n",
       "\n",
       "    .dataframe tbody tr th {\n",
       "        vertical-align: top;\n",
       "    }\n",
       "\n",
       "    .dataframe thead th {\n",
       "        text-align: right;\n",
       "    }\n",
       "</style>\n",
       "<table border=\"1\" class=\"dataframe\">\n",
       "  <thead>\n",
       "    <tr style=\"text-align: right;\">\n",
       "      <th></th>\n",
       "      <th>High</th>\n",
       "      <th>Low</th>\n",
       "      <th>Open</th>\n",
       "      <th>Close</th>\n",
       "      <th>Volume</th>\n",
       "      <th>Adj Close</th>\n",
       "    </tr>\n",
       "    <tr>\n",
       "      <th>Date</th>\n",
       "      <th></th>\n",
       "      <th></th>\n",
       "      <th></th>\n",
       "      <th></th>\n",
       "      <th></th>\n",
       "      <th></th>\n",
       "    </tr>\n",
       "  </thead>\n",
       "  <tbody>\n",
       "    <tr>\n",
       "      <td>2017-03-02</td>\n",
       "      <td>64.750000</td>\n",
       "      <td>63.880001</td>\n",
       "      <td>64.690002</td>\n",
       "      <td>64.010002</td>\n",
       "      <td>24539600.0</td>\n",
       "      <td>59.752350</td>\n",
       "    </tr>\n",
       "    <tr>\n",
       "      <td>2017-03-03</td>\n",
       "      <td>64.279999</td>\n",
       "      <td>63.619999</td>\n",
       "      <td>63.990002</td>\n",
       "      <td>64.250000</td>\n",
       "      <td>18135900.0</td>\n",
       "      <td>59.976395</td>\n",
       "    </tr>\n",
       "    <tr>\n",
       "      <td>2017-03-06</td>\n",
       "      <td>64.559998</td>\n",
       "      <td>63.810001</td>\n",
       "      <td>63.970001</td>\n",
       "      <td>64.269997</td>\n",
       "      <td>18750300.0</td>\n",
       "      <td>59.995064</td>\n",
       "    </tr>\n",
       "    <tr>\n",
       "      <td>2017-03-07</td>\n",
       "      <td>64.779999</td>\n",
       "      <td>64.190002</td>\n",
       "      <td>64.190002</td>\n",
       "      <td>64.400002</td>\n",
       "      <td>18521000.0</td>\n",
       "      <td>60.116425</td>\n",
       "    </tr>\n",
       "    <tr>\n",
       "      <td>2017-03-08</td>\n",
       "      <td>65.080002</td>\n",
       "      <td>64.250000</td>\n",
       "      <td>64.260002</td>\n",
       "      <td>64.989998</td>\n",
       "      <td>21510900.0</td>\n",
       "      <td>60.667168</td>\n",
       "    </tr>\n",
       "  </tbody>\n",
       "</table>\n",
       "</div>"
      ],
      "text/plain": [
       "                 High        Low       Open      Close      Volume  Adj Close\n",
       "Date                                                                         \n",
       "2017-03-02  64.750000  63.880001  64.690002  64.010002  24539600.0  59.752350\n",
       "2017-03-03  64.279999  63.619999  63.990002  64.250000  18135900.0  59.976395\n",
       "2017-03-06  64.559998  63.810001  63.970001  64.269997  18750300.0  59.995064\n",
       "2017-03-07  64.779999  64.190002  64.190002  64.400002  18521000.0  60.116425\n",
       "2017-03-08  65.080002  64.250000  64.260002  64.989998  21510900.0  60.667168"
      ]
     },
     "execution_count": 8,
     "metadata": {},
     "output_type": "execute_result"
    }
   ],
   "source": [
    "df_msft.head()"
   ]
  },
  {
   "cell_type": "code",
   "execution_count": 9,
   "metadata": {},
   "outputs": [
    {
     "data": {
      "text/html": [
       "<div>\n",
       "<style scoped>\n",
       "    .dataframe tbody tr th:only-of-type {\n",
       "        vertical-align: middle;\n",
       "    }\n",
       "\n",
       "    .dataframe tbody tr th {\n",
       "        vertical-align: top;\n",
       "    }\n",
       "\n",
       "    .dataframe thead th {\n",
       "        text-align: right;\n",
       "    }\n",
       "</style>\n",
       "<table border=\"1\" class=\"dataframe\">\n",
       "  <thead>\n",
       "    <tr style=\"text-align: right;\">\n",
       "      <th></th>\n",
       "      <th>High</th>\n",
       "      <th>Low</th>\n",
       "      <th>Open</th>\n",
       "      <th>Close</th>\n",
       "      <th>Volume</th>\n",
       "      <th>Adj Close</th>\n",
       "    </tr>\n",
       "    <tr>\n",
       "      <th>Date</th>\n",
       "      <th></th>\n",
       "      <th></th>\n",
       "      <th></th>\n",
       "      <th></th>\n",
       "      <th></th>\n",
       "      <th></th>\n",
       "    </tr>\n",
       "  </thead>\n",
       "  <tbody>\n",
       "    <tr>\n",
       "      <td>2022-02-23</td>\n",
       "      <td>291.700012</td>\n",
       "      <td>280.100006</td>\n",
       "      <td>290.179993</td>\n",
       "      <td>280.269989</td>\n",
       "      <td>37811200.0</td>\n",
       "      <td>280.269989</td>\n",
       "    </tr>\n",
       "    <tr>\n",
       "      <td>2022-02-24</td>\n",
       "      <td>295.160004</td>\n",
       "      <td>271.519989</td>\n",
       "      <td>272.510010</td>\n",
       "      <td>294.589996</td>\n",
       "      <td>56989700.0</td>\n",
       "      <td>294.589996</td>\n",
       "    </tr>\n",
       "    <tr>\n",
       "      <td>2022-02-25</td>\n",
       "      <td>297.630005</td>\n",
       "      <td>291.649994</td>\n",
       "      <td>295.140015</td>\n",
       "      <td>297.309998</td>\n",
       "      <td>32546700.0</td>\n",
       "      <td>297.309998</td>\n",
       "    </tr>\n",
       "    <tr>\n",
       "      <td>2022-02-28</td>\n",
       "      <td>299.140015</td>\n",
       "      <td>293.000000</td>\n",
       "      <td>294.309998</td>\n",
       "      <td>298.790009</td>\n",
       "      <td>34585700.0</td>\n",
       "      <td>298.790009</td>\n",
       "    </tr>\n",
       "    <tr>\n",
       "      <td>2022-03-01</td>\n",
       "      <td>299.970001</td>\n",
       "      <td>292.149994</td>\n",
       "      <td>296.399994</td>\n",
       "      <td>294.950012</td>\n",
       "      <td>31188900.0</td>\n",
       "      <td>294.950012</td>\n",
       "    </tr>\n",
       "  </tbody>\n",
       "</table>\n",
       "</div>"
      ],
      "text/plain": [
       "                  High         Low        Open       Close      Volume  \\\n",
       "Date                                                                     \n",
       "2022-02-23  291.700012  280.100006  290.179993  280.269989  37811200.0   \n",
       "2022-02-24  295.160004  271.519989  272.510010  294.589996  56989700.0   \n",
       "2022-02-25  297.630005  291.649994  295.140015  297.309998  32546700.0   \n",
       "2022-02-28  299.140015  293.000000  294.309998  298.790009  34585700.0   \n",
       "2022-03-01  299.970001  292.149994  296.399994  294.950012  31188900.0   \n",
       "\n",
       "             Adj Close  \n",
       "Date                    \n",
       "2022-02-23  280.269989  \n",
       "2022-02-24  294.589996  \n",
       "2022-02-25  297.309998  \n",
       "2022-02-28  298.790009  \n",
       "2022-03-01  294.950012  "
      ]
     },
     "execution_count": 9,
     "metadata": {},
     "output_type": "execute_result"
    }
   ],
   "source": [
    "df_msft.tail()"
   ]
  },
  {
   "cell_type": "code",
   "execution_count": 4,
   "metadata": {},
   "outputs": [
    {
     "data": {
      "text/plain": [
       "<matplotlib.axes._subplots.AxesSubplot at 0x1df9ef30288>"
      ]
     },
     "execution_count": 4,
     "metadata": {},
     "output_type": "execute_result"
    },
    {
     "data": {
      "image/png": "[encoded data removed]",
      "text/plain": [
       "<Figure size 432x288 with 1 Axes>"
      ]
     },
     "metadata": {
      "needs_background": "light"
     },
     "output_type": "display_data"
    }
   ],
   "source": [
    "df_msft.plot()"
   ]
  },
  {
   "cell_type": "code",
   "execution_count": 51,
   "metadata": {},
   "outputs": [
    {
     "data": {
      "text/plain": [
       "<matplotlib.axes._subplots.AxesSubplot at 0x1dfa427f208>"
      ]
     },
     "execution_count": 51,
     "metadata": {},
     "output_type": "execute_result"
    },
    {
     "data": {
      "image/png": "[encoded data removed]",
      "text/plain": [
       "<Figure size 1296x288 with 1 Axes>"
      ]
     },
     "metadata": {
      "needs_background": "light"
     },
     "output_type": "display_data"
    }
   ],
   "source": [
    "df_msft['High'].plot(figsize=(18,4))"
   ]
  },
  {
   "cell_type": "code",
   "execution_count": 52,
   "metadata": {},
   "outputs": [
    {
     "data": {
      "text/plain": [
       "<matplotlib.axes._subplots.AxesSubplot at 0x1dfa2f90c48>"
      ]
     },
     "execution_count": 52,
     "metadata": {},
     "output_type": "execute_result"
    },
    {
     "data": {
      "image/png": "[encoded data removed]",
      "text/plain": [
       "<Figure size 864x360 with 1 Axes>"
      ]
     },
     "metadata": {
      "needs_background": "light"
     },
     "output_type": "display_data"
    }
   ],
   "source": [
    "df_msft['High'].plot(xlim=['2017-3-2', '2022-3-1'], ylim=[0,1000],figsize=(12,5))"
   ]
  },
  {
   "cell_type": "code",
   "execution_count": 20,
   "metadata": {},
   "outputs": [],
   "source": [
    "# selective indices\n",
    "index = df_msft.loc['2020-01-01':'2021-09-03'].index"
   ]
  },
  {
   "cell_type": "code",
   "execution_count": 21,
   "metadata": {},
   "outputs": [
    {
     "data": {
      "text/plain": [
       "DatetimeIndex(['2020-01-02', '2020-01-03', '2020-01-06', '2020-01-07',\n",
       "               '2020-01-08', '2020-01-09', '2020-01-10', '2020-01-13',\n",
       "               '2020-01-14', '2020-01-15',\n",
       "               ...\n",
       "               '2021-08-23', '2021-08-24', '2021-08-25', '2021-08-26',\n",
       "               '2021-08-27', '2021-08-30', '2021-08-31', '2021-09-01',\n",
       "               '2021-09-02', '2021-09-03'],\n",
       "              dtype='datetime64[ns]', name='Date', length=423, freq=None)"
      ]
     },
     "execution_count": 21,
     "metadata": {},
     "output_type": "execute_result"
    }
   ],
   "source": [
    "index"
   ]
  },
  {
   "cell_type": "code",
   "execution_count": 23,
   "metadata": {},
   "outputs": [],
   "source": [
    "share_open = df_msft.loc['2020-01-01':'2021-09-03'][['Open','Close']]"
   ]
  },
  {
   "cell_type": "code",
   "execution_count": 24,
   "metadata": {},
   "outputs": [
    {
     "data": {
      "text/html": [
       "<div>\n",
       "<style scoped>\n",
       "    .dataframe tbody tr th:only-of-type {\n",
       "        vertical-align: middle;\n",
       "    }\n",
       "\n",
       "    .dataframe tbody tr th {\n",
       "        vertical-align: top;\n",
       "    }\n",
       "\n",
       "    .dataframe thead th {\n",
       "        text-align: right;\n",
       "    }\n",
       "</style>\n",
       "<table border=\"1\" class=\"dataframe\">\n",
       "  <thead>\n",
       "    <tr style=\"text-align: right;\">\n",
       "      <th></th>\n",
       "      <th>Open</th>\n",
       "      <th>Close</th>\n",
       "    </tr>\n",
       "    <tr>\n",
       "      <th>Date</th>\n",
       "      <th></th>\n",
       "      <th></th>\n",
       "    </tr>\n",
       "  </thead>\n",
       "  <tbody>\n",
       "    <tr>\n",
       "      <td>2020-01-02</td>\n",
       "      <td>158.779999</td>\n",
       "      <td>160.619995</td>\n",
       "    </tr>\n",
       "    <tr>\n",
       "      <td>2020-01-03</td>\n",
       "      <td>158.320007</td>\n",
       "      <td>158.619995</td>\n",
       "    </tr>\n",
       "    <tr>\n",
       "      <td>2020-01-06</td>\n",
       "      <td>157.080002</td>\n",
       "      <td>159.029999</td>\n",
       "    </tr>\n",
       "    <tr>\n",
       "      <td>2020-01-07</td>\n",
       "      <td>159.320007</td>\n",
       "      <td>157.580002</td>\n",
       "    </tr>\n",
       "    <tr>\n",
       "      <td>2020-01-08</td>\n",
       "      <td>158.929993</td>\n",
       "      <td>160.089996</td>\n",
       "    </tr>\n",
       "    <tr>\n",
       "      <td>...</td>\n",
       "      <td>...</td>\n",
       "      <td>...</td>\n",
       "    </tr>\n",
       "    <tr>\n",
       "      <td>2021-08-30</td>\n",
       "      <td>301.119995</td>\n",
       "      <td>303.589996</td>\n",
       "    </tr>\n",
       "    <tr>\n",
       "      <td>2021-08-31</td>\n",
       "      <td>304.420013</td>\n",
       "      <td>301.880005</td>\n",
       "    </tr>\n",
       "    <tr>\n",
       "      <td>2021-09-01</td>\n",
       "      <td>302.869995</td>\n",
       "      <td>301.829987</td>\n",
       "    </tr>\n",
       "    <tr>\n",
       "      <td>2021-09-02</td>\n",
       "      <td>302.200012</td>\n",
       "      <td>301.149994</td>\n",
       "    </tr>\n",
       "    <tr>\n",
       "      <td>2021-09-03</td>\n",
       "      <td>300.989990</td>\n",
       "      <td>301.140015</td>\n",
       "    </tr>\n",
       "  </tbody>\n",
       "</table>\n",
       "<p>423 rows × 2 columns</p>\n",
       "</div>"
      ],
      "text/plain": [
       "                  Open       Close\n",
       "Date                              \n",
       "2020-01-02  158.779999  160.619995\n",
       "2020-01-03  158.320007  158.619995\n",
       "2020-01-06  157.080002  159.029999\n",
       "2020-01-07  159.320007  157.580002\n",
       "2020-01-08  158.929993  160.089996\n",
       "...                ...         ...\n",
       "2021-08-30  301.119995  303.589996\n",
       "2021-08-31  304.420013  301.880005\n",
       "2021-09-01  302.869995  301.829987\n",
       "2021-09-02  302.200012  301.149994\n",
       "2021-09-03  300.989990  301.140015\n",
       "\n",
       "[423 rows x 2 columns]"
      ]
     },
     "execution_count": 24,
     "metadata": {},
     "output_type": "execute_result"
    }
   ],
   "source": [
    "share_open"
   ]
  },
  {
   "cell_type": "code",
   "execution_count": 25,
   "metadata": {},
   "outputs": [],
   "source": [
    "import matplotlib.pyplot as plt"
   ]
  },
  {
   "cell_type": "code",
   "execution_count": 27,
   "metadata": {},
   "outputs": [
    {
     "data": {
      "text/plain": [
       "[<matplotlib.lines.Line2D at 0x1dfa2256248>,\n",
       " <matplotlib.lines.Line2D at 0x1df9fb66e48>]"
      ]
     },
     "execution_count": 27,
     "metadata": {},
     "output_type": "execute_result"
    },
    {
     "data": {
      "image/png": "[encoded data removed]",
      "text/plain": [
       "<Figure size 432x288 with 1 Axes>"
      ]
     },
     "metadata": {
      "needs_background": "light"
     },
     "output_type": "display_data"
    }
   ],
   "source": [
    "figure,axis = plt.subplots()\n",
    "plt.tight_layout()\n",
    "figure.autofmt_xdate()\n",
    "axis.plot(index, share_open, c='red')"
   ]
  },
  {
   "cell_type": "markdown",
   "metadata": {},
   "source": [
    "# Time Resampling"
   ]
  },
  {
   "cell_type": "code",
   "execution_count": 45,
   "metadata": {},
   "outputs": [
    {
     "data": {
      "text/html": [
       "<div>\n",
       "<style scoped>\n",
       "    .dataframe tbody tr th:only-of-type {\n",
       "        vertical-align: middle;\n",
       "    }\n",
       "\n",
       "    .dataframe tbody tr th {\n",
       "        vertical-align: top;\n",
       "    }\n",
       "\n",
       "    .dataframe thead th {\n",
       "        text-align: right;\n",
       "    }\n",
       "</style>\n",
       "<table border=\"1\" class=\"dataframe\">\n",
       "  <thead>\n",
       "    <tr style=\"text-align: right;\">\n",
       "      <th></th>\n",
       "      <th>High</th>\n",
       "      <th>Low</th>\n",
       "      <th>Open</th>\n",
       "      <th>Close</th>\n",
       "      <th>Volume</th>\n",
       "      <th>Adj Close</th>\n",
       "    </tr>\n",
       "    <tr>\n",
       "      <th>Date</th>\n",
       "      <th></th>\n",
       "      <th></th>\n",
       "      <th></th>\n",
       "      <th></th>\n",
       "      <th></th>\n",
       "      <th></th>\n",
       "    </tr>\n",
       "  </thead>\n",
       "  <tbody>\n",
       "    <tr>\n",
       "      <td>2017-03-02</td>\n",
       "      <td>64.750000</td>\n",
       "      <td>63.880001</td>\n",
       "      <td>64.690002</td>\n",
       "      <td>64.010002</td>\n",
       "      <td>24539600.0</td>\n",
       "      <td>59.752350</td>\n",
       "    </tr>\n",
       "    <tr>\n",
       "      <td>2017-03-03</td>\n",
       "      <td>64.279999</td>\n",
       "      <td>63.619999</td>\n",
       "      <td>63.990002</td>\n",
       "      <td>64.250000</td>\n",
       "      <td>18135900.0</td>\n",
       "      <td>59.976395</td>\n",
       "    </tr>\n",
       "    <tr>\n",
       "      <td>2017-03-06</td>\n",
       "      <td>64.559998</td>\n",
       "      <td>63.810001</td>\n",
       "      <td>63.970001</td>\n",
       "      <td>64.269997</td>\n",
       "      <td>18750300.0</td>\n",
       "      <td>59.995064</td>\n",
       "    </tr>\n",
       "    <tr>\n",
       "      <td>2017-03-07</td>\n",
       "      <td>64.779999</td>\n",
       "      <td>64.190002</td>\n",
       "      <td>64.190002</td>\n",
       "      <td>64.400002</td>\n",
       "      <td>18521000.0</td>\n",
       "      <td>60.116425</td>\n",
       "    </tr>\n",
       "    <tr>\n",
       "      <td>2017-03-08</td>\n",
       "      <td>65.080002</td>\n",
       "      <td>64.250000</td>\n",
       "      <td>64.260002</td>\n",
       "      <td>64.989998</td>\n",
       "      <td>21510900.0</td>\n",
       "      <td>60.667168</td>\n",
       "    </tr>\n",
       "  </tbody>\n",
       "</table>\n",
       "</div>"
      ],
      "text/plain": [
       "                 High        Low       Open      Close      Volume  Adj Close\n",
       "Date                                                                         \n",
       "2017-03-02  64.750000  63.880001  64.690002  64.010002  24539600.0  59.752350\n",
       "2017-03-03  64.279999  63.619999  63.990002  64.250000  18135900.0  59.976395\n",
       "2017-03-06  64.559998  63.810001  63.970001  64.269997  18750300.0  59.995064\n",
       "2017-03-07  64.779999  64.190002  64.190002  64.400002  18521000.0  60.116425\n",
       "2017-03-08  65.080002  64.250000  64.260002  64.989998  21510900.0  60.667168"
      ]
     },
     "execution_count": 45,
     "metadata": {},
     "output_type": "execute_result"
    }
   ],
   "source": [
    "df_msft.head()"
   ]
  },
  {
   "cell_type": "code",
   "execution_count": 32,
   "metadata": {},
   "outputs": [],
   "source": [
    "maxOfOpenEveryYear = df_msft.resample(rule=\"A\").max()['Open']"
   ]
  },
  {
   "cell_type": "code",
   "execution_count": 40,
   "metadata": {},
   "outputs": [
    {
     "data": {
      "text/plain": [
       "Date\n",
       "2017-12-31     87.120003\n",
       "2018-12-31    115.419998\n",
       "2019-12-31    159.449997\n",
       "2020-12-31    229.270004\n",
       "2021-12-31    344.619995\n",
       "2022-12-31    335.350006\n",
       "Freq: A-DEC, Name: Open, dtype: float64"
      ]
     },
     "execution_count": 40,
     "metadata": {},
     "output_type": "execute_result"
    }
   ],
   "source": [
    "maxOfOpenEveryYear"
   ]
  },
  {
   "cell_type": "code",
   "execution_count": 36,
   "metadata": {},
   "outputs": [
    {
     "data": {
      "text/plain": [
       "<matplotlib.axes._subplots.AxesSubplot at 0x1dfa213bbc8>"
      ]
     },
     "execution_count": 36,
     "metadata": {},
     "output_type": "execute_result"
    },
    {
     "data": {
      "image/png": "[encoded data removed]",
      "text/plain": [
       "<Figure size 432x288 with 1 Axes>"
      ]
     },
     "metadata": {
      "needs_background": "light"
     },
     "output_type": "display_data"
    }
   ],
   "source": [
    "maxOfOpenEveryYear.plot(kind ='bar')"
   ]
  },
  {
   "cell_type": "code",
   "execution_count": 37,
   "metadata": {},
   "outputs": [
    {
     "data": {
      "text/plain": [
       "<matplotlib.axes._subplots.AxesSubplot at 0x1dfa257c988>"
      ]
     },
     "execution_count": 37,
     "metadata": {},
     "output_type": "execute_result"
    },
    {
     "data": {
      "image/png": "[encoded data removed]",
      "text/plain": [
       "<Figure size 432x288 with 1 Axes>"
      ]
     },
     "metadata": {
      "needs_background": "light"
     },
     "output_type": "display_data"
    }
   ],
   "source": [
    "maxOfOpenEveryYear.plot(c='green')"
   ]
  },
  {
   "cell_type": "code",
   "execution_count": 49,
   "metadata": {},
   "outputs": [
    {
     "data": {
      "text/plain": [
       "Timestamp('2021-12-31 00:00:00', freq='A-DEC')"
      ]
     },
     "execution_count": 49,
     "metadata": {},
     "output_type": "execute_result"
    }
   ],
   "source": [
    "maxOfOpenEveryYear.idxmax()"
   ]
  },
  {
   "cell_type": "code",
   "execution_count": 50,
   "metadata": {},
   "outputs": [
    {
     "data": {
      "text/plain": [
       "Timestamp('2017-12-31 00:00:00', freq='A-DEC')"
      ]
     },
     "execution_count": 50,
     "metadata": {},
     "output_type": "execute_result"
    }
   ],
   "source": [
    "maxOfOpenEveryYear.idxmin()"
   ]
  },
  {
   "cell_type": "code",
   "execution_count": null,
   "metadata": {},
   "outputs": [],
   "source": []
  }
 ],
 "metadata": {
  "kernelspec": {
   "display_name": "Python 3",
   "language": "python",
   "name": "python3"
  },
  "language_info": {
   "codemirror_mode": {
    "name": "ipython",
    "version": 3
   },
   "file_extension": ".py",
   "mimetype": "text/x-python",
   "name": "python",
   "nbconvert_exporter": "python",
   "pygments_lexer": "ipython3",
   "version": "3.7.4"
  }
 },
 "nbformat": 4,
 "nbformat_minor": 2
}
