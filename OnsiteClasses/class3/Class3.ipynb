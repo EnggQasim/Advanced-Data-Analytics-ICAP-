{
 "cells": [
  {
   "cell_type": "markdown",
   "metadata": {},
   "source": [
    "Topics:\n",
    "1. List and list function\n",
    "2. if else elif\n",
    "3. loop"
   ]
  },
  {
   "cell_type": "code",
   "execution_count": 2,
   "metadata": {},
   "outputs": [
    {
     "name": "stdout",
     "output_type": "stream",
     "text": [
      "<class 'list'>\n"
     ]
    }
   ],
   "source": [
    "#index      0      1        2        3\n",
    "names = ['Qasim',\"Nasir\",\"Imran\",\"Arsalan\"]\n",
    "#index      -4    -3        -2        -1\n",
    "\n",
    "print(type(names))"
   ]
  },
  {
   "cell_type": "code",
   "execution_count": 3,
   "metadata": {},
   "outputs": [
    {
     "data": {
      "text/plain": [
       "'Imran'"
      ]
     },
     "execution_count": 3,
     "metadata": {},
     "output_type": "execute_result"
    }
   ],
   "source": [
    "#index      0      1        2        3\n",
    "names = ['Qasim',\"Nasir\",\"Imran\",\"Arsalan\"]\n",
    "#index      -4    -3        -2        -1\n",
    "names[2]"
   ]
  },
  {
   "cell_type": "code",
   "execution_count": 4,
   "metadata": {},
   "outputs": [
    {
     "name": "stdout",
     "output_type": "stream",
     "text": [
      "Qasim\n",
      "Qasim\n"
     ]
    }
   ],
   "source": [
    "#index      0      1        2        3\n",
    "names = ['Qasim',\"Nasir\",\"Imran\",\"Arsalan\"]\n",
    "#index      -4    -3        -2        -1\n",
    "print(names[0]) # positive\n",
    "print(names[-4]) # negative"
   ]
  },
  {
   "cell_type": "code",
   "execution_count": 6,
   "metadata": {},
   "outputs": [
    {
     "data": {
      "text/plain": [
       "['Qasim', 'Nasir', 'Ajlal', 'Arsalan']"
      ]
     },
     "execution_count": 6,
     "metadata": {},
     "output_type": "execute_result"
    }
   ],
   "source": [
    "#index      0      1        2        3\n",
    "names = ['Qasim',\"Nasir\",\"Imran\",\"Arsalan\"]\n",
    "#index      -4    -3        -2        -1\n",
    "\n",
    "names[2] = \"Ajlal\" # change index two item \n",
    "\n",
    "names"
   ]
  },
  {
   "cell_type": "code",
   "execution_count": 9,
   "metadata": {},
   "outputs": [
    {
     "name": "stdout",
     "output_type": "stream",
     "text": [
      "['Qasim', 'Nasir']\n",
      "['Qasim', 'Nasir']\n",
      "['Qasim', 'Nasir', 'Imran', 'Arsalan']\n"
     ]
    }
   ],
   "source": [
    "#index      0      1        2        3\n",
    "names = ['Qasim',\"Nasir\",\"Imran\",\"Arsalan\"]\n",
    "#index      -4    -3        -2        -1\n",
    "#Slicing\n",
    "# start (include)\n",
    "# end (exclude) -1\n",
    "# step sequance\n",
    "# run from left to right (defualt)\n",
    "# list[start:end:step]\n",
    "print(names[0:2])#positive\n",
    "print(names[-4:-2])#negative\n",
    "print(names[::]) # add all defual value for slicing\n",
    "print(names[1:]) # add all defual value for slicing\n",
    "\n"
   ]
  },
  {
   "cell_type": "code",
   "execution_count": 14,
   "metadata": {},
   "outputs": [
    {
     "name": "stdout",
     "output_type": "stream",
     "text": [
      "['Nasir', 'Imran', 'Arsalan']\n",
      "['Nasir', 'Imran', 'Arsalan']\n",
      "['Qasim', 'Nasir', 'Imran']\n",
      "[]\n",
      "['Nasir', 'Imran', 'Arsalan']\n",
      "['Nasir', 'Imran', 'Arsalan']\n",
      "['Qasim', 'Nasir', 'Imran']\n",
      "[]\n",
      "['Qasim', 'Nasir']\n"
     ]
    }
   ],
   "source": [
    "#index      0      1        2        3\n",
    "names = ['Qasim',\"Nasir\",\"Imran\",\"Arsalan\"]\n",
    "#index      -4    -3        -2        -1\n",
    "print(names[1:]) # add all defual value for slicing\n",
    "print(names[-3:]) # add all defual value for slicing\n",
    "print(names[-4:-1]) # add all defual value for slicing\n",
    "print(names[-4:0]) # add all defual value for slicing\n",
    "#index      0      1        2        3\n",
    "names = ['Qasim',\"Nasir\",\"Imran\",\"Arsalan\"]\n",
    "#index      -4    -3        -2        -1\n",
    "print(names[1:]) # add all defual value for slicing\n",
    "print(names[-3:]) # add all defual value for slicing\n",
    "print(names[-4:-1]) # add all defual value for slicing\n",
    "print(names[-4:0]) # add all defual value for slicing\n",
    "\n",
    "print(names[:2]) # add all defual value for slicing\n",
    "\n",
    "\n",
    "\n"
   ]
  },
  {
   "cell_type": "code",
   "execution_count": 17,
   "metadata": {},
   "outputs": [
    {
     "name": "stdout",
     "output_type": "stream",
     "text": [
      "[]\n",
      "['Qasim', 'Nasir', 'Imran', 'Arsalan']\n",
      "['Arsalan', 'Imran', 'Nasir', 'Qasim']\n",
      "['Qasim', 'Imran']\n"
     ]
    }
   ],
   "source": [
    "print(names[-4:0]) # add all defual value for slicing\n",
    "#index      0      1        2        3\n",
    "names = ['Qasim',\"Nasir\",\"Imran\",\"Arsalan\"]\n",
    "#index      -4    -3        -2        -1\n",
    "print(names[::1])\n",
    "print(names[::-1])\n",
    "print(names[::2])"
   ]
  },
  {
   "cell_type": "code",
   "execution_count": 19,
   "metadata": {},
   "outputs": [
    {
     "data": {
      "text/plain": [
       "[2, 4, 6, 8, 10, 12, 14, 16, 18, 20]"
      ]
     },
     "execution_count": 19,
     "metadata": {},
     "output_type": "execute_result"
    }
   ],
   "source": [
    "list(range(2,21,2))"
   ]
  },
  {
   "cell_type": "code",
   "execution_count": 20,
   "metadata": {},
   "outputs": [
    {
     "data": {
      "text/plain": [
       "[7, 14, 21, 28, 35, 42, 49, 56, 63, 70]"
      ]
     },
     "execution_count": 20,
     "metadata": {},
     "output_type": "execute_result"
    }
   ],
   "source": [
    "list(range(7,71,7))"
   ]
  },
  {
   "cell_type": "code",
   "execution_count": 21,
   "metadata": {},
   "outputs": [
    {
     "name": "stdout",
     "output_type": "stream",
     "text": [
      "<class 'list'>\n"
     ]
    }
   ],
   "source": [
    "print(type(names))"
   ]
  },
  {
   "cell_type": "code",
   "execution_count": 22,
   "metadata": {},
   "outputs": [
    {
     "data": {
      "text/plain": [
       "['__add__',\n",
       " '__class__',\n",
       " '__contains__',\n",
       " '__delattr__',\n",
       " '__delitem__',\n",
       " '__dir__',\n",
       " '__doc__',\n",
       " '__eq__',\n",
       " '__format__',\n",
       " '__ge__',\n",
       " '__getattribute__',\n",
       " '__getitem__',\n",
       " '__gt__',\n",
       " '__hash__',\n",
       " '__iadd__',\n",
       " '__imul__',\n",
       " '__init__',\n",
       " '__init_subclass__',\n",
       " '__iter__',\n",
       " '__le__',\n",
       " '__len__',\n",
       " '__lt__',\n",
       " '__mul__',\n",
       " '__ne__',\n",
       " '__new__',\n",
       " '__reduce__',\n",
       " '__reduce_ex__',\n",
       " '__repr__',\n",
       " '__reversed__',\n",
       " '__rmul__',\n",
       " '__setattr__',\n",
       " '__setitem__',\n",
       " '__sizeof__',\n",
       " '__str__',\n",
       " '__subclasshook__',\n",
       " 'append',\n",
       " 'clear',\n",
       " 'copy',\n",
       " 'count',\n",
       " 'extend',\n",
       " 'index',\n",
       " 'insert',\n",
       " 'pop',\n",
       " 'remove',\n",
       " 'reverse',\n",
       " 'sort']"
      ]
     },
     "execution_count": 22,
     "metadata": {},
     "output_type": "execute_result"
    }
   ],
   "source": [
    "dir(names)"
   ]
  },
  {
   "cell_type": "code",
   "execution_count": 23,
   "metadata": {},
   "outputs": [
    {
     "name": "stdout",
     "output_type": "stream",
     "text": [
      "['Qasim', 'Nasir', 'Imran', 'Arsalan', 'Noman']\n"
     ]
    }
   ],
   "source": [
    "names.append(\"Noman\")\n",
    "print(names)"
   ]
  },
  {
   "cell_type": "code",
   "execution_count": 24,
   "metadata": {},
   "outputs": [
    {
     "data": {
      "text/plain": [
       "[]"
      ]
     },
     "execution_count": 24,
     "metadata": {},
     "output_type": "execute_result"
    }
   ],
   "source": [
    "names.clear()\n",
    "names"
   ]
  },
  {
   "cell_type": "code",
   "execution_count": 25,
   "metadata": {},
   "outputs": [
    {
     "name": "stdout",
     "output_type": "stream",
     "text": [
      "['Asif', 'Nasir', 'Imran', 'Arsalan']\n",
      "['Asif', 'Nasir', 'Imran', 'Arsalan']\n"
     ]
    }
   ],
   "source": [
    "names = ['Qasim',\"Nasir\",\"Imran\",\"Arsalan\"]\n",
    "names1 = names\n",
    "\n",
    "names1[0] = \"Asif\"\n",
    "print(names)\n",
    "print(names1)"
   ]
  },
  {
   "cell_type": "code",
   "execution_count": 26,
   "metadata": {},
   "outputs": [
    {
     "name": "stdout",
     "output_type": "stream",
     "text": [
      "['Qasim', 'Nasir', 'Imran', 'Arsalan']\n",
      "['Asif', 'Nasir', 'Imran', 'Arsalan']\n"
     ]
    }
   ],
   "source": [
    "names = ['Qasim',\"Nasir\",\"Imran\",\"Arsalan\"]\n",
    "names1 = names.copy()\n",
    "\n",
    "names1[0] = \"Asif\"\n",
    "print(names)\n",
    "print(names1)"
   ]
  },
  {
   "cell_type": "code",
   "execution_count": 27,
   "metadata": {},
   "outputs": [
    {
     "name": "stdout",
     "output_type": "stream",
     "text": [
      "['Qasim', 'Nasir', 'Imran', 'Arsalan']\n",
      "['Asif', 'Nasir', 'Imran', 'Arsalan']\n"
     ]
    }
   ],
   "source": [
    "names = ['Qasim',\"Nasir\",\"Imran\",\"Arsalan\"]\n",
    "names1 = names[::]\n",
    "\n",
    "names1[0] = \"Asif\"\n",
    "print(names)\n",
    "print(names1)"
   ]
  },
  {
   "cell_type": "code",
   "execution_count": 28,
   "metadata": {},
   "outputs": [
    {
     "data": {
      "text/plain": [
       "1"
      ]
     },
     "execution_count": 28,
     "metadata": {},
     "output_type": "execute_result"
    }
   ],
   "source": [
    "names.count(\"Qasim\")"
   ]
  },
  {
   "cell_type": "code",
   "execution_count": 30,
   "metadata": {},
   "outputs": [
    {
     "data": {
      "text/plain": [
       "0"
      ]
     },
     "execution_count": 30,
     "metadata": {},
     "output_type": "execute_result"
    }
   ],
   "source": [
    "names.count('qasim')"
   ]
  },
  {
   "cell_type": "code",
   "execution_count": 32,
   "metadata": {},
   "outputs": [
    {
     "name": "stdout",
     "output_type": "stream",
     "text": [
      "['Qasim', 'Nasir', 'Noman', 'Naveed']\n"
     ]
    }
   ],
   "source": [
    "l1 = ['Qasim',\"Nasir\"]\n",
    "l2 = ['Noman',\"Naveed\"]\n",
    "\n",
    "l1.extend(l2)\n",
    "print(l1)"
   ]
  },
  {
   "cell_type": "code",
   "execution_count": 33,
   "metadata": {},
   "outputs": [
    {
     "name": "stdout",
     "output_type": "stream",
     "text": [
      "['Qasim', 'Nasir', ['Noman', 'Naveed']]\n"
     ]
    }
   ],
   "source": [
    "l1 = ['Qasim',\"Nasir\"]\n",
    "l2 = ['Noman',\"Naveed\"]\n",
    "\n",
    "l1.append(l2)\n",
    "print(l1)"
   ]
  },
  {
   "cell_type": "code",
   "execution_count": 39,
   "metadata": {},
   "outputs": [
    {
     "name": "stdout",
     "output_type": "stream",
     "text": [
      "['Qasim', 'Nasir', ['Noman', 'Naveed']]\n",
      "['Noman', 'Naveed']\n",
      "Noman\n"
     ]
    }
   ],
   "source": [
    "l1 = ['Qasim',\"Nasir\"]\n",
    "l2 = ['Noman',\"Naveed\"]\n",
    "\n",
    "l1.append(l2)\n",
    "print(l1)\n",
    "print(l1[-1])\n",
    "print(l1[-1][0])"
   ]
  },
  {
   "cell_type": "markdown",
   "metadata": {},
   "source": [
    "# Insert"
   ]
  },
  {
   "cell_type": "code",
   "execution_count": 41,
   "metadata": {},
   "outputs": [
    {
     "data": {
      "text/plain": [
       "['Qasim', 'Noman', 'Nasir', 'Imran', 'Arsalan']"
      ]
     },
     "execution_count": 41,
     "metadata": {},
     "output_type": "execute_result"
    }
   ],
   "source": [
    "names = ['Qasim',\"Nasir\",\"Imran\",\"Arsalan\"]\n",
    "names.insert(1,\"Noman\") # insert value on perticular index\n",
    "names"
   ]
  },
  {
   "cell_type": "code",
   "execution_count": 43,
   "metadata": {},
   "outputs": [
    {
     "data": {
      "text/plain": [
       "2"
      ]
     },
     "execution_count": 43,
     "metadata": {},
     "output_type": "execute_result"
    }
   ],
   "source": [
    "names = ['Qasim',\"Nasir\",\"Imran\",\"Arsalan\"]\n",
    "names.index('Imran')"
   ]
  },
  {
   "cell_type": "code",
   "execution_count": 45,
   "metadata": {},
   "outputs": [
    {
     "name": "stdout",
     "output_type": "stream",
     "text": [
      "Enter your NameImran\n"
     ]
    },
    {
     "data": {
      "text/plain": [
       "2"
      ]
     },
     "execution_count": 45,
     "metadata": {},
     "output_type": "execute_result"
    }
   ],
   "source": [
    "name_input = input(\"Enter your Name\")\n",
    "names = ['Qasim',\"Nasir\",\"Imran\",\"Arsalan\"]\n",
    "names.index(name_input)"
   ]
  },
  {
   "cell_type": "code",
   "execution_count": 46,
   "metadata": {},
   "outputs": [
    {
     "name": "stdout",
     "output_type": "stream",
     "text": [
      "Enter your NameImran\n"
     ]
    },
    {
     "data": {
      "text/plain": [
       "'Imran'"
      ]
     },
     "execution_count": 46,
     "metadata": {},
     "output_type": "execute_result"
    }
   ],
   "source": [
    "name_input = input(\"Enter your Name\")\n",
    "names = ['Qasim',\"Nasir\",\"Imran\",\"Arsalan\"]\n",
    "names[names.index(name_input)]"
   ]
  },
  {
   "cell_type": "code",
   "execution_count": 47,
   "metadata": {},
   "outputs": [
    {
     "name": "stdout",
     "output_type": "stream",
     "text": [
      "7\n"
     ]
    }
   ],
   "source": [
    "print(str(int('7')))"
   ]
  },
  {
   "cell_type": "code",
   "execution_count": null,
   "metadata": {},
   "outputs": [],
   "source": [
    "# Create Guest list\n",
    "# name is not exist in list\n"
   ]
  },
  {
   "cell_type": "code",
   "execution_count": 75,
   "metadata": {},
   "outputs": [],
   "source": [
    "guests = []"
   ]
  },
  {
   "cell_type": "code",
   "execution_count": 76,
   "metadata": {},
   "outputs": [
    {
     "name": "stdout",
     "output_type": "stream",
     "text": [
      "Enter guest namehassan\n",
      "['hassan']\n"
     ]
    }
   ],
   "source": [
    "guest_name = input(\"Enter guest name\")\n",
    "if guest_name in guests:\n",
    "    print(\"Already added\")\n",
    "else:\n",
    "    guests.append(guest_name)\n",
    "print(guests)"
   ]
  },
  {
   "cell_type": "code",
   "execution_count": 60,
   "metadata": {},
   "outputs": [
    {
     "data": {
      "text/plain": [
       "['Mr. Ali', 'Mr. AHmed']"
      ]
     },
     "execution_count": 60,
     "metadata": {},
     "output_type": "execute_result"
    }
   ],
   "source": [
    "guests"
   ]
  },
  {
   "cell_type": "code",
   "execution_count": 61,
   "metadata": {},
   "outputs": [],
   "source": [
    "del guests[1]"
   ]
  },
  {
   "cell_type": "code",
   "execution_count": 62,
   "metadata": {},
   "outputs": [
    {
     "data": {
      "text/plain": [
       "['Mr. Ali']"
      ]
     },
     "execution_count": 62,
     "metadata": {},
     "output_type": "execute_result"
    }
   ],
   "source": [
    "guests"
   ]
  },
  {
   "cell_type": "code",
   "execution_count": 63,
   "metadata": {},
   "outputs": [],
   "source": [
    "alist = [11,22,33,\"Nasir\", False, [99,88,66]]"
   ]
  },
  {
   "cell_type": "code",
   "execution_count": 64,
   "metadata": {},
   "outputs": [
    {
     "data": {
      "text/plain": [
       "'Nasir'"
      ]
     },
     "execution_count": 64,
     "metadata": {},
     "output_type": "execute_result"
    }
   ],
   "source": [
    "alist[3]"
   ]
  },
  {
   "cell_type": "code",
   "execution_count": 65,
   "metadata": {},
   "outputs": [],
   "source": [
    "newList = [\"NASir\",\"ASad\", 'ALi',\"kashan\"]"
   ]
  },
  {
   "cell_type": "code",
   "execution_count": 66,
   "metadata": {},
   "outputs": [
    {
     "name": "stdout",
     "output_type": "stream",
     "text": [
      "Welcome Mr. NASir\n",
      "Welcome Mr. ASad\n",
      "Welcome Mr. ALi\n",
      "Welcome Mr. kashan\n"
     ]
    }
   ],
   "source": [
    "for guest in newList:\n",
    "    print(f\"Welcome Mr. {guest}\")\n",
    "    "
   ]
  },
  {
   "cell_type": "code",
   "execution_count": 67,
   "metadata": {},
   "outputs": [
    {
     "name": "stdout",
     "output_type": "stream",
     "text": [
      "[50000, 40000, 60000, 90000]\n",
      "[55000.0, 44000.0, 66000.0, 99000.0]\n"
     ]
    }
   ],
   "source": [
    "new_salaries = []\n",
    "current_salaries = [50000, 40000,60000,90000]\n",
    "for salary in current_salaries:\n",
    "    new_sal = salary+salary*.1\n",
    "    new_salaries.append(new_sal)\n",
    "\n",
    "print(current_salaries)\n",
    "print(new_salaries)\n",
    "    "
   ]
  },
  {
   "cell_type": "code",
   "execution_count": 70,
   "metadata": {},
   "outputs": [
    {
     "name": "stdout",
     "output_type": "stream",
     "text": [
      "3\n",
      "5\n",
      "7\n",
      "9\n"
     ]
    }
   ],
   "source": [
    "for num in range(3,10,2):\n",
    "    print(num)"
   ]
  },
  {
   "cell_type": "code",
   "execution_count": 72,
   "metadata": {},
   "outputs": [
    {
     "name": "stdout",
     "output_type": "stream",
     "text": [
      "0\n",
      "1\n",
      "2\n",
      "3\n",
      "4\n",
      "5\n",
      "6\n",
      "7\n",
      "8\n",
      "9\n"
     ]
    }
   ],
   "source": [
    "for a in range(100):\n",
    "    if a==10:\n",
    "        break\n",
    "    print(a)"
   ]
  },
  {
   "cell_type": "code",
   "execution_count": 74,
   "metadata": {},
   "outputs": [
    {
     "name": "stdout",
     "output_type": "stream",
     "text": [
      "0\n",
      "1\n",
      "2\n",
      "3\n",
      "5\n",
      "6\n",
      "7\n",
      "8\n",
      "9\n"
     ]
    }
   ],
   "source": [
    "for a in range(10):\n",
    "    if a==4:\n",
    "        continue\n",
    "    print(a)"
   ]
  },
  {
   "cell_type": "code",
   "execution_count": 80,
   "metadata": {},
   "outputs": [],
   "source": [
    "guests = []"
   ]
  },
  {
   "cell_type": "code",
   "execution_count": 81,
   "metadata": {},
   "outputs": [
    {
     "name": "stdout",
     "output_type": "stream",
     "text": [
      "Enter guest namea\n",
      "['a']\n",
      "Enter guest names\n",
      "['a', 's']\n",
      "Enter guest namec\n",
      "['a', 's', 'c']\n",
      "Enter guest named\n",
      "['a', 's', 'c', 'd']\n",
      "Enter guest namee\n",
      "['a', 's', 'c', 'd', 'e']\n",
      "Enter guest namef\n",
      "['a', 's', 'c', 'd', 'e', 'f']\n",
      "Enter guest nameg\n",
      "['a', 's', 'c', 'd', 'e', 'f', 'g']\n",
      "Enter guest nameg\n",
      "Already added\n",
      "['a', 's', 'c', 'd', 'e', 'f', 'g']\n",
      "Enter guest namet\n",
      "['a', 's', 'c', 'd', 'e', 'f', 'g', 't']\n",
      "Enter guest nameh\n",
      "['a', 's', 'c', 'd', 'e', 'f', 'g', 't', 'h']\n"
     ]
    }
   ],
   "source": [
    "\n",
    "for a in range(10):\n",
    "    guest_name = input(\"Enter guest name\")\n",
    "    if guest_name in guests:\n",
    "        print(\"Already added\")\n",
    "    else:\n",
    "        guests.append(guest_name)\n",
    "print(guests)"
   ]
  },
  {
   "cell_type": "code",
   "execution_count": 82,
   "metadata": {},
   "outputs": [
    {
     "name": "stdout",
     "output_type": "stream",
     "text": [
      "Enter guest nameasad\n",
      "Enter guest namefahad\n",
      "Enter guest namenoman\n",
      "Enter guest namenasir\n",
      "Enter guest nameqasim\n",
      "['asad', 'fahad', 'noman', 'nasir', 'qasim']\n"
     ]
    }
   ],
   "source": [
    "guests=[]\n",
    "counter = 0\n",
    "while counter<5:\n",
    "    guest_name = input(\"Enter guest name\")\n",
    "    if guest_name in guests:\n",
    "        print(\"Already added\")\n",
    "    else:\n",
    "        guests.append(guest_name)\n",
    "    counter +=1\n",
    "\n",
    "print(guests)\n",
    "    "
   ]
  },
  {
   "cell_type": "code",
   "execution_count": null,
   "metadata": {},
   "outputs": [],
   "source": []
  }
 ],
 "metadata": {
  "kernelspec": {
   "display_name": "Python 3",
   "language": "python",
   "name": "python3"
  },
  "language_info": {
   "codemirror_mode": {
    "name": "ipython",
    "version": 3
   },
   "file_extension": ".py",
   "mimetype": "text/x-python",
   "name": "python",
   "nbconvert_exporter": "python",
   "pygments_lexer": "ipython3",
   "version": "3.7.6"
  }
 },
 "nbformat": 4,
 "nbformat_minor": 4
}
